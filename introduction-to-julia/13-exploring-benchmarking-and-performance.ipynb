{
 "cells": [
  {
   "cell_type": "markdown",
   "metadata": {},
   "source": [
    "## Scope of Variables\n",
    "\n",
    "https://docs.julialang.org/en/v1/manual/variables-and-scoping/#scope-of-variables\n",
    "\n",
    "\n",
    "The scope of a variable is the region of code within which a variable is visible. Variable scoping helps avoid variable naming conflicts.\n",
    "\n",
    "There are two main types of scopes in Julia, global scope and local scope. The latter can be nested.\n",
    "\n",
    "While we will not cover scope in full detail, some examples will be given so we get an intuitive sense of what is going on."
   ]
  },
  {
   "cell_type": "markdown",
   "metadata": {},
   "source": [
    "### Global Scope\n",
    "\n",
    "* Each module introduces a new global scope, separate from the global scope of all other modules—there is no all-encompassing global scope. \n",
    "* Modules can introduce variables of other modules into their scope through the using or import statements or through qualified access using the dot-notation, i.e. each module is a so-called namespace as well as a first-class data structure associating names with values. \n",
    "*Note that while variable bindings can be read externally, they can only be changed within the module to which they belong"
   ]
  },
  {
   "cell_type": "code",
   "execution_count": 1,
   "metadata": {},
   "outputs": [],
   "source": [
    "module A\n",
    "    a = 1 # a global in A's scope\n",
    "end;"
   ]
  },
  {
   "cell_type": "code",
   "execution_count": 3,
   "metadata": {},
   "outputs": [
    {
     "ename": "UndefVarError",
     "evalue": "UndefVarError: a not defined",
     "output_type": "error",
     "traceback": [
      "UndefVarError: a not defined\n",
      "\n",
      "Stacktrace:\n",
      "  [1] top-level scope\n",
      "    @ :0\n",
      "  [2] eval\n",
      "    @ ./boot.jl:373 [inlined]\n",
      "  [3] include_string(mapexpr::typeof(REPL.softscope), mod::Module, code::String, filename::String)\n",
      "    @ Base ./loading.jl:1196\n",
      "  [4] #invokelatest#2\n",
      "    @ ./essentials.jl:716 [inlined]\n",
      "  [5] invokelatest\n",
      "    @ ./essentials.jl:714 [inlined]\n",
      "  [6] (::VSCodeServer.var\"#164#165\"{VSCodeServer.NotebookRunCellArguments, String})()\n",
      "    @ VSCodeServer ~/.vscode/extensions/julialang.language-julia-1.6.17/scripts/packages/VSCodeServer/src/serve_notebook.jl:19\n",
      "  [7] withpath(f::VSCodeServer.var\"#164#165\"{VSCodeServer.NotebookRunCellArguments, String}, path::String)\n",
      "    @ VSCodeServer ~/.vscode/extensions/julialang.language-julia-1.6.17/scripts/packages/VSCodeServer/src/repl.jl:184\n",
      "  [8] notebook_runcell_request(conn::VSCodeServer.JSONRPC.JSONRPCEndpoint{Base.PipeEndpoint, Base.PipeEndpoint}, params::VSCodeServer.NotebookRunCellArguments)\n",
      "    @ VSCodeServer ~/.vscode/extensions/julialang.language-julia-1.6.17/scripts/packages/VSCodeServer/src/serve_notebook.jl:13\n",
      "  [9] dispatch_msg(x::VSCodeServer.JSONRPC.JSONRPCEndpoint{Base.PipeEndpoint, Base.PipeEndpoint}, dispatcher::VSCodeServer.JSONRPC.MsgDispatcher, msg::Dict{String, Any})\n",
      "    @ VSCodeServer.JSONRPC ~/.vscode/extensions/julialang.language-julia-1.6.17/scripts/packages/JSONRPC/src/typed.jl:67\n",
      " [10] serve_notebook(pipename::String, outputchannel_logger::Base.CoreLogging.SimpleLogger; crashreporting_pipename::String)\n",
      "    @ VSCodeServer ~/.vscode/extensions/julialang.language-julia-1.6.17/scripts/packages/VSCodeServer/src/serve_notebook.jl:136\n",
      " [11] top-level scope\n",
      "    @ ~/.vscode/extensions/julialang.language-julia-1.6.17/scripts/notebook/notebook.jl:32\n",
      " [12] include(mod::Module, _path::String)\n",
      "    @ Base ./Base.jl:418\n",
      " [13] exec_options(opts::Base.JLOptions)\n",
      "    @ Base ./client.jl:292\n",
      " [14] _start()\n",
      "    @ Base ./client.jl:495"
     ]
    }
   ],
   "source": [
    "a"
   ]
  },
  {
   "cell_type": "code",
   "execution_count": null,
   "metadata": {},
   "outputs": [],
   "source": [
    "#matplotlib.pyplot.plt"
   ]
  },
  {
   "cell_type": "code",
   "execution_count": 6,
   "metadata": {},
   "outputs": [
    {
     "name": "stderr",
     "output_type": "stream",
     "text": [
      "WARNING: replacing module B.\n"
     ]
    }
   ],
   "source": [
    "module B\n",
    "module C\n",
    "c = 2\n",
    "end\n",
    "b = C.c    # can access the namespace of a nested global scope\n",
    "# through a qualified access\n",
    "import ..A # makes module A available\n",
    "d = A.a\n",
    "end;"
   ]
  },
  {
   "cell_type": "code",
   "execution_count": 7,
   "metadata": {},
   "outputs": [
    {
     "ename": "UndefVarError",
     "evalue": "UndefVarError: a not defined",
     "output_type": "error",
     "traceback": [
      "UndefVarError: a not defined\n",
      "\n",
      "Stacktrace:\n",
      "  [1] top-level scope\n",
      "    @ ~/Repositories/Introduction-to-Julia/day3/12. Exploring_benchmarking_and_performance.ipynb:2\n",
      "  [2] eval\n",
      "    @ ./boot.jl:373 [inlined]\n",
      "  [3] include_string(mapexpr::typeof(REPL.softscope), mod::Module, code::String, filename::String)\n",
      "    @ Base ./loading.jl:1196\n",
      "  [4] #invokelatest#2\n",
      "    @ ./essentials.jl:716 [inlined]\n",
      "  [5] invokelatest\n",
      "    @ ./essentials.jl:714 [inlined]\n",
      "  [6] (::VSCodeServer.var\"#164#165\"{VSCodeServer.NotebookRunCellArguments, String})()\n",
      "    @ VSCodeServer ~/.vscode/extensions/julialang.language-julia-1.6.17/scripts/packages/VSCodeServer/src/serve_notebook.jl:19\n",
      "  [7] withpath(f::VSCodeServer.var\"#164#165\"{VSCodeServer.NotebookRunCellArguments, String}, path::String)\n",
      "    @ VSCodeServer ~/.vscode/extensions/julialang.language-julia-1.6.17/scripts/packages/VSCodeServer/src/repl.jl:184\n",
      "  [8] notebook_runcell_request(conn::VSCodeServer.JSONRPC.JSONRPCEndpoint{Base.PipeEndpoint, Base.PipeEndpoint}, params::VSCodeServer.NotebookRunCellArguments)\n",
      "    @ VSCodeServer ~/.vscode/extensions/julialang.language-julia-1.6.17/scripts/packages/VSCodeServer/src/serve_notebook.jl:13\n",
      "  [9] dispatch_msg(x::VSCodeServer.JSONRPC.JSONRPCEndpoint{Base.PipeEndpoint, Base.PipeEndpoint}, dispatcher::VSCodeServer.JSONRPC.MsgDispatcher, msg::Dict{String, Any})\n",
      "    @ VSCodeServer.JSONRPC ~/.vscode/extensions/julialang.language-julia-1.6.17/scripts/packages/JSONRPC/src/typed.jl:67\n",
      " [10] serve_notebook(pipename::String, outputchannel_logger::Base.CoreLogging.SimpleLogger; crashreporting_pipename::String)\n",
      "    @ VSCodeServer ~/.vscode/extensions/julialang.language-julia-1.6.17/scripts/packages/VSCodeServer/src/serve_notebook.jl:136\n",
      " [11] top-level scope\n",
      "    @ ~/.vscode/extensions/julialang.language-julia-1.6.17/scripts/notebook/notebook.jl:32\n",
      " [12] include(mod::Module, _path::String)\n",
      "    @ Base ./Base.jl:418\n",
      " [13] exec_options(opts::Base.JLOptions)\n",
      "    @ Base ./client.jl:292\n",
      " [14] _start()\n",
      "    @ Base ./client.jl:495"
     ]
    }
   ],
   "source": [
    "module D\n",
    "    b = a # errors as D's global scope is separate from A's\n",
    "end"
   ]
  },
  {
   "cell_type": "code",
   "execution_count": 8,
   "metadata": {},
   "outputs": [
    {
     "ename": "ErrorException",
     "evalue": "cannot assign variables in other modules",
     "output_type": "error",
     "traceback": [
      "cannot assign variables in other modules\n",
      "\n",
      "Stacktrace:\n",
      "  [1] setproperty!(x::Module, f::Symbol, v::Int64)\n",
      "    @ Base ./Base.jl:36\n",
      "  [2] top-level scope\n",
      "    @ ~/Repositories/Introduction-to-Julia/day3/12. Exploring_benchmarking_and_performance.ipynb:3\n",
      "  [3] eval\n",
      "    @ ./boot.jl:373 [inlined]\n",
      "  [4] include_string(mapexpr::typeof(REPL.softscope), mod::Module, code::String, filename::String)\n",
      "    @ Base ./loading.jl:1196\n",
      "  [5] #invokelatest#2\n",
      "    @ ./essentials.jl:716 [inlined]\n",
      "  [6] invokelatest\n",
      "    @ ./essentials.jl:714 [inlined]\n",
      "  [7] (::VSCodeServer.var\"#164#165\"{VSCodeServer.NotebookRunCellArguments, String})()\n",
      "    @ VSCodeServer ~/.vscode/extensions/julialang.language-julia-1.6.17/scripts/packages/VSCodeServer/src/serve_notebook.jl:19\n",
      "  [8] withpath(f::VSCodeServer.var\"#164#165\"{VSCodeServer.NotebookRunCellArguments, String}, path::String)\n",
      "    @ VSCodeServer ~/.vscode/extensions/julialang.language-julia-1.6.17/scripts/packages/VSCodeServer/src/repl.jl:184\n",
      "  [9] notebook_runcell_request(conn::VSCodeServer.JSONRPC.JSONRPCEndpoint{Base.PipeEndpoint, Base.PipeEndpoint}, params::VSCodeServer.NotebookRunCellArguments)\n",
      "    @ VSCodeServer ~/.vscode/extensions/julialang.language-julia-1.6.17/scripts/packages/VSCodeServer/src/serve_notebook.jl:13\n",
      " [10] dispatch_msg(x::VSCodeServer.JSONRPC.JSONRPCEndpoint{Base.PipeEndpoint, Base.PipeEndpoint}, dispatcher::VSCodeServer.JSONRPC.MsgDispatcher, msg::Dict{String, Any})\n",
      "    @ VSCodeServer.JSONRPC ~/.vscode/extensions/julialang.language-julia-1.6.17/scripts/packages/JSONRPC/src/typed.jl:67\n",
      " [11] serve_notebook(pipename::String, outputchannel_logger::Base.CoreLogging.SimpleLogger; crashreporting_pipename::String)\n",
      "    @ VSCodeServer ~/.vscode/extensions/julialang.language-julia-1.6.17/scripts/packages/VSCodeServer/src/serve_notebook.jl:136\n",
      " [12] top-level scope\n",
      "    @ ~/.vscode/extensions/julialang.language-julia-1.6.17/scripts/notebook/notebook.jl:32\n",
      " [13] include(mod::Module, _path::String)\n",
      "    @ Base ./Base.jl:418\n",
      " [14] exec_options(opts::Base.JLOptions)\n",
      "    @ Base ./client.jl:292\n",
      " [15] _start()\n",
      "    @ Base ./client.jl:495"
     ]
    }
   ],
   "source": [
    "module E\n",
    "    import ..A # makes A available\n",
    "    A.a = 2 # error's as we cannot modify data in other modules.\n",
    "end"
   ]
  },
  {
   "cell_type": "markdown",
   "metadata": {},
   "source": [
    "## Local Scope\n",
    "\n",
    "While there are specific rules in Julia for what the expressiosn means based on where the assignment expression occurs, we will only look at this intuitively. \n",
    "\n",
    "Compare the following examples"
   ]
  },
  {
   "cell_type": "code",
   "execution_count": 9,
   "metadata": {},
   "outputs": [
    {
     "data": {
      "text/plain": [
       "hello (generic function with 1 method)"
      ]
     },
     "metadata": {},
     "output_type": "display_data"
    }
   ],
   "source": [
    "function hello()\n",
    "    x = \"hello world\"\n",
    "    println(x)\n",
    "end"
   ]
  },
  {
   "cell_type": "code",
   "execution_count": 10,
   "metadata": {},
   "outputs": [
    {
     "name": "stdout",
     "output_type": "stream",
     "text": [
      "hello world\n"
     ]
    }
   ],
   "source": [
    "hello()"
   ]
  },
  {
   "cell_type": "code",
   "execution_count": 11,
   "metadata": {},
   "outputs": [
    {
     "ename": "UndefVarError",
     "evalue": "UndefVarError: x not defined",
     "output_type": "error",
     "traceback": [
      "UndefVarError: x not defined\n",
      "\n",
      "Stacktrace:\n",
      "  [1] top-level scope\n",
      "    @ :0\n",
      "  [2] eval\n",
      "    @ ./boot.jl:373 [inlined]\n",
      "  [3] include_string(mapexpr::typeof(REPL.softscope), mod::Module, code::String, filename::String)\n",
      "    @ Base ./loading.jl:1196\n",
      "  [4] #invokelatest#2\n",
      "    @ ./essentials.jl:716 [inlined]\n",
      "  [5] invokelatest\n",
      "    @ ./essentials.jl:714 [inlined]\n",
      "  [6] (::VSCodeServer.var\"#164#165\"{VSCodeServer.NotebookRunCellArguments, String})()\n",
      "    @ VSCodeServer ~/.vscode/extensions/julialang.language-julia-1.6.17/scripts/packages/VSCodeServer/src/serve_notebook.jl:19\n",
      "  [7] withpath(f::VSCodeServer.var\"#164#165\"{VSCodeServer.NotebookRunCellArguments, String}, path::String)\n",
      "    @ VSCodeServer ~/.vscode/extensions/julialang.language-julia-1.6.17/scripts/packages/VSCodeServer/src/repl.jl:184\n",
      "  [8] notebook_runcell_request(conn::VSCodeServer.JSONRPC.JSONRPCEndpoint{Base.PipeEndpoint, Base.PipeEndpoint}, params::VSCodeServer.NotebookRunCellArguments)\n",
      "    @ VSCodeServer ~/.vscode/extensions/julialang.language-julia-1.6.17/scripts/packages/VSCodeServer/src/serve_notebook.jl:13\n",
      "  [9] dispatch_msg(x::VSCodeServer.JSONRPC.JSONRPCEndpoint{Base.PipeEndpoint, Base.PipeEndpoint}, dispatcher::VSCodeServer.JSONRPC.MsgDispatcher, msg::Dict{String, Any})\n",
      "    @ VSCodeServer.JSONRPC ~/.vscode/extensions/julialang.language-julia-1.6.17/scripts/packages/JSONRPC/src/typed.jl:67\n",
      " [10] serve_notebook(pipename::String, outputchannel_logger::Base.CoreLogging.SimpleLogger; crashreporting_pipename::String)\n",
      "    @ VSCodeServer ~/.vscode/extensions/julialang.language-julia-1.6.17/scripts/packages/VSCodeServer/src/serve_notebook.jl:136\n",
      " [11] top-level scope\n",
      "    @ ~/.vscode/extensions/julialang.language-julia-1.6.17/scripts/notebook/notebook.jl:32\n",
      " [12] include(mod::Module, _path::String)\n",
      "    @ Base ./Base.jl:418\n",
      " [13] exec_options(opts::Base.JLOptions)\n",
      "    @ Base ./client.jl:292\n",
      " [14] _start()\n",
      "    @ Base ./client.jl:495"
     ]
    }
   ],
   "source": [
    "x #global scope\n"
   ]
  },
  {
   "cell_type": "markdown",
   "metadata": {},
   "source": [
    "Inside of the `hello` function, the assignment `x = \"hello world\"` causes `x` to be a new local variable in the function's scope. Since `x` is local , it doesn't matter if there is a global named `x` or not. See what happens when we define `x=123` before defining and calling `hello`."
   ]
  },
  {
   "cell_type": "code",
   "execution_count": 12,
   "metadata": {},
   "outputs": [
    {
     "data": {
      "text/plain": [
       "123"
      ]
     },
     "metadata": {},
     "output_type": "display_data"
    }
   ],
   "source": [
    "x = 123 # global"
   ]
  },
  {
   "cell_type": "code",
   "execution_count": 13,
   "metadata": {},
   "outputs": [
    {
     "data": {
      "text/plain": [
       "hello (generic function with 1 method)"
      ]
     },
     "metadata": {},
     "output_type": "display_data"
    }
   ],
   "source": [
    "function hello()\n",
    "    x = \"hello world\"\n",
    "    println(x)\n",
    "end"
   ]
  },
  {
   "cell_type": "code",
   "execution_count": 14,
   "metadata": {},
   "outputs": [
    {
     "name": "stdout",
     "output_type": "stream",
     "text": [
      "hello world\n"
     ]
    }
   ],
   "source": [
    "hello()"
   ]
  },
  {
   "cell_type": "code",
   "execution_count": 15,
   "metadata": {},
   "outputs": [
    {
     "data": {
      "text/plain": [
       "123"
      ]
     },
     "metadata": {},
     "output_type": "display_data"
    }
   ],
   "source": [
    "x"
   ]
  },
  {
   "cell_type": "markdown",
   "metadata": {},
   "source": [
    "Since the x in `hello` is local, the value (or lack thereof) of the global `x` is unaffected by calling `hello`."
   ]
  },
  {
   "cell_type": "code",
   "execution_count": 16,
   "metadata": {},
   "outputs": [
    {
     "data": {
      "text/plain": [
       "sum_to (generic function with 1 method)"
      ]
     },
     "metadata": {},
     "output_type": "display_data"
    }
   ],
   "source": [
    "function sum_to(n)\n",
    "    s = 0 # new local\n",
    "    for i = 1:n\n",
    "        s = s + i # assign existing local\n",
    "    end\n",
    "    return s # same local\n",
    "end"
   ]
  },
  {
   "cell_type": "code",
   "execution_count": 17,
   "metadata": {},
   "outputs": [
    {
     "data": {
      "text/plain": [
       "55"
      ]
     },
     "metadata": {},
     "output_type": "display_data"
    }
   ],
   "source": [
    "sum_to(10)"
   ]
  },
  {
   "cell_type": "code",
   "execution_count": 18,
   "metadata": {},
   "outputs": [
    {
     "ename": "UndefVarError",
     "evalue": "UndefVarError: s not defined",
     "output_type": "error",
     "traceback": [
      "UndefVarError: s not defined\n",
      "\n",
      "Stacktrace:\n",
      "  [1] top-level scope\n",
      "    @ :0\n",
      "  [2] eval\n",
      "    @ ./boot.jl:373 [inlined]\n",
      "  [3] include_string(mapexpr::typeof(REPL.softscope), mod::Module, code::String, filename::String)\n",
      "    @ Base ./loading.jl:1196\n",
      "  [4] #invokelatest#2\n",
      "    @ ./essentials.jl:716 [inlined]\n",
      "  [5] invokelatest\n",
      "    @ ./essentials.jl:714 [inlined]\n",
      "  [6] (::VSCodeServer.var\"#164#165\"{VSCodeServer.NotebookRunCellArguments, String})()\n",
      "    @ VSCodeServer ~/.vscode/extensions/julialang.language-julia-1.6.17/scripts/packages/VSCodeServer/src/serve_notebook.jl:19\n",
      "  [7] withpath(f::VSCodeServer.var\"#164#165\"{VSCodeServer.NotebookRunCellArguments, String}, path::String)\n",
      "    @ VSCodeServer ~/.vscode/extensions/julialang.language-julia-1.6.17/scripts/packages/VSCodeServer/src/repl.jl:184\n",
      "  [8] notebook_runcell_request(conn::VSCodeServer.JSONRPC.JSONRPCEndpoint{Base.PipeEndpoint, Base.PipeEndpoint}, params::VSCodeServer.NotebookRunCellArguments)\n",
      "    @ VSCodeServer ~/.vscode/extensions/julialang.language-julia-1.6.17/scripts/packages/VSCodeServer/src/serve_notebook.jl:13\n",
      "  [9] dispatch_msg(x::VSCodeServer.JSONRPC.JSONRPCEndpoint{Base.PipeEndpoint, Base.PipeEndpoint}, dispatcher::VSCodeServer.JSONRPC.MsgDispatcher, msg::Dict{String, Any})\n",
      "    @ VSCodeServer.JSONRPC ~/.vscode/extensions/julialang.language-julia-1.6.17/scripts/packages/JSONRPC/src/typed.jl:67\n",
      " [10] serve_notebook(pipename::String, outputchannel_logger::Base.CoreLogging.SimpleLogger; crashreporting_pipename::String)\n",
      "    @ VSCodeServer ~/.vscode/extensions/julialang.language-julia-1.6.17/scripts/packages/VSCodeServer/src/serve_notebook.jl:136\n",
      " [11] top-level scope\n",
      "    @ ~/.vscode/extensions/julialang.language-julia-1.6.17/scripts/notebook/notebook.jl:32\n",
      " [12] include(mod::Module, _path::String)\n",
      "    @ Base ./Base.jl:418\n",
      " [13] exec_options(opts::Base.JLOptions)\n",
      "    @ Base ./client.jl:292\n",
      " [14] _start()\n",
      "    @ Base ./client.jl:495"
     ]
    }
   ],
   "source": [
    "s #global"
   ]
  },
  {
   "cell_type": "code",
   "execution_count": 19,
   "metadata": {},
   "outputs": [],
   "source": [
    "s = 0\n",
    "for i = 1:10\n",
    "    s += i\n",
    "end"
   ]
  },
  {
   "cell_type": "code",
   "execution_count": 20,
   "metadata": {},
   "outputs": [
    {
     "data": {
      "text/plain": [
       "55"
      ]
     },
     "metadata": {},
     "output_type": "display_data"
    }
   ],
   "source": [
    "s"
   ]
  },
  {
   "cell_type": "markdown",
   "metadata": {},
   "source": [
    "A `for` loop or comprehension iteration variable is always a new variable:"
   ]
  },
  {
   "cell_type": "code",
   "execution_count": 24,
   "metadata": {},
   "outputs": [
    {
     "data": {
      "text/plain": [
       "f (generic function with 1 method)"
      ]
     },
     "metadata": {},
     "output_type": "display_data"
    }
   ],
   "source": [
    "function f()\n",
    "    i=0\n",
    "    for i=1:3\n",
    "        #empty\n",
    "    end\n",
    "    return i\n",
    "end"
   ]
  },
  {
   "cell_type": "code",
   "execution_count": 26,
   "metadata": {},
   "outputs": [
    {
     "name": "stdout",
     "output_type": "stream",
     "text": [
      "123"
     ]
    },
    {
     "data": {
      "text/plain": [
       "0"
      ]
     },
     "metadata": {},
     "output_type": "display_data"
    }
   ],
   "source": [
    "# not return 3 because i was redirected after loop\n",
    "f()"
   ]
  },
  {
   "cell_type": "markdown",
   "metadata": {},
   "source": [
    "However, it is occasionally useful to reuse an existing local variable as the iteration variable. This can be done conveniently by adding the keyword `outer`:"
   ]
  },
  {
   "cell_type": "code",
   "execution_count": 27,
   "metadata": {},
   "outputs": [
    {
     "data": {
      "text/plain": [
       "f (generic function with 1 method)"
      ]
     },
     "metadata": {},
     "output_type": "display_data"
    }
   ],
   "source": [
    "function f()\n",
    "    i=0\n",
    "    for outer i=1:3\n",
    "        #empty\n",
    "    end\n",
    "    return i\n",
    "end"
   ]
  },
  {
   "cell_type": "code",
   "execution_count": 28,
   "metadata": {},
   "outputs": [
    {
     "data": {
      "text/plain": [
       "3"
      ]
     },
     "metadata": {},
     "output_type": "display_data"
    }
   ],
   "source": [
    "f()"
   ]
  },
  {
   "cell_type": "code",
   "execution_count": 29,
   "metadata": {},
   "outputs": [
    {
     "ename": "UndefVarError",
     "evalue": "UndefVarError: i not defined",
     "output_type": "error",
     "traceback": [
      "UndefVarError: i not defined\n",
      "\n",
      "Stacktrace:\n",
      "  [1] top-level scope\n",
      "    @ :0\n",
      "  [2] eval\n",
      "    @ ./boot.jl:373 [inlined]\n",
      "  [3] include_string(mapexpr::typeof(REPL.softscope), mod::Module, code::String, filename::String)\n",
      "    @ Base ./loading.jl:1196\n",
      "  [4] #invokelatest#2\n",
      "    @ ./essentials.jl:716 [inlined]\n",
      "  [5] invokelatest\n",
      "    @ ./essentials.jl:714 [inlined]\n",
      "  [6] (::VSCodeServer.var\"#164#165\"{VSCodeServer.NotebookRunCellArguments, String})()\n",
      "    @ VSCodeServer ~/.vscode/extensions/julialang.language-julia-1.6.17/scripts/packages/VSCodeServer/src/serve_notebook.jl:19\n",
      "  [7] withpath(f::VSCodeServer.var\"#164#165\"{VSCodeServer.NotebookRunCellArguments, String}, path::String)\n",
      "    @ VSCodeServer ~/.vscode/extensions/julialang.language-julia-1.6.17/scripts/packages/VSCodeServer/src/repl.jl:184\n",
      "  [8] notebook_runcell_request(conn::VSCodeServer.JSONRPC.JSONRPCEndpoint{Base.PipeEndpoint, Base.PipeEndpoint}, params::VSCodeServer.NotebookRunCellArguments)\n",
      "    @ VSCodeServer ~/.vscode/extensions/julialang.language-julia-1.6.17/scripts/packages/VSCodeServer/src/serve_notebook.jl:13\n",
      "  [9] dispatch_msg(x::VSCodeServer.JSONRPC.JSONRPCEndpoint{Base.PipeEndpoint, Base.PipeEndpoint}, dispatcher::VSCodeServer.JSONRPC.MsgDispatcher, msg::Dict{String, Any})\n",
      "    @ VSCodeServer.JSONRPC ~/.vscode/extensions/julialang.language-julia-1.6.17/scripts/packages/JSONRPC/src/typed.jl:67\n",
      " [10] serve_notebook(pipename::String, outputchannel_logger::Base.CoreLogging.SimpleLogger; crashreporting_pipename::String)\n",
      "    @ VSCodeServer ~/.vscode/extensions/julialang.language-julia-1.6.17/scripts/packages/VSCodeServer/src/serve_notebook.jl:136\n",
      " [11] top-level scope\n",
      "    @ ~/.vscode/extensions/julialang.language-julia-1.6.17/scripts/notebook/notebook.jl:32\n",
      " [12] include(mod::Module, _path::String)\n",
      "    @ Base ./Base.jl:418\n",
      " [13] exec_options(opts::Base.JLOptions)\n",
      "    @ Base ./client.jl:292\n",
      " [14] _start()\n",
      "    @ Base ./client.jl:495"
     ]
    }
   ],
   "source": [
    "i"
   ]
  },
  {
   "cell_type": "markdown",
   "metadata": {},
   "source": [
    "Finally, we can force local variables to be usable by the global scope, using the keyword `global` : "
   ]
  },
  {
   "cell_type": "code",
   "execution_count": 30,
   "metadata": {},
   "outputs": [
    {
     "data": {
      "text/plain": [
       "f (generic function with 1 method)"
      ]
     },
     "metadata": {},
     "output_type": "display_data"
    }
   ],
   "source": [
    "function f()\n",
    "    global i=0\n",
    "    for outer i=1:3\n",
    "        #empty\n",
    "    end\n",
    "    return i\n",
    "end"
   ]
  },
  {
   "cell_type": "code",
   "execution_count": 31,
   "metadata": {},
   "outputs": [
    {
     "ename": "UndefVarError",
     "evalue": "UndefVarError: i not defined",
     "output_type": "error",
     "traceback": [
      "UndefVarError: i not defined\n",
      "\n",
      "Stacktrace:\n",
      "  [1] top-level scope\n",
      "    @ :0\n",
      "  [2] eval\n",
      "    @ ./boot.jl:373 [inlined]\n",
      "  [3] include_string(mapexpr::typeof(REPL.softscope), mod::Module, code::String, filename::String)\n",
      "    @ Base ./loading.jl:1196\n",
      "  [4] #invokelatest#2\n",
      "    @ ./essentials.jl:716 [inlined]\n",
      "  [5] invokelatest\n",
      "    @ ./essentials.jl:714 [inlined]\n",
      "  [6] (::VSCodeServer.var\"#164#165\"{VSCodeServer.NotebookRunCellArguments, String})()\n",
      "    @ VSCodeServer ~/.vscode/extensions/julialang.language-julia-1.6.17/scripts/packages/VSCodeServer/src/serve_notebook.jl:19\n",
      "  [7] withpath(f::VSCodeServer.var\"#164#165\"{VSCodeServer.NotebookRunCellArguments, String}, path::String)\n",
      "    @ VSCodeServer ~/.vscode/extensions/julialang.language-julia-1.6.17/scripts/packages/VSCodeServer/src/repl.jl:184\n",
      "  [8] notebook_runcell_request(conn::VSCodeServer.JSONRPC.JSONRPCEndpoint{Base.PipeEndpoint, Base.PipeEndpoint}, params::VSCodeServer.NotebookRunCellArguments)\n",
      "    @ VSCodeServer ~/.vscode/extensions/julialang.language-julia-1.6.17/scripts/packages/VSCodeServer/src/serve_notebook.jl:13\n",
      "  [9] dispatch_msg(x::VSCodeServer.JSONRPC.JSONRPCEndpoint{Base.PipeEndpoint, Base.PipeEndpoint}, dispatcher::VSCodeServer.JSONRPC.MsgDispatcher, msg::Dict{String, Any})\n",
      "    @ VSCodeServer.JSONRPC ~/.vscode/extensions/julialang.language-julia-1.6.17/scripts/packages/JSONRPC/src/typed.jl:67\n",
      " [10] serve_notebook(pipename::String, outputchannel_logger::Base.CoreLogging.SimpleLogger; crashreporting_pipename::String)\n",
      "    @ VSCodeServer ~/.vscode/extensions/julialang.language-julia-1.6.17/scripts/packages/VSCodeServer/src/serve_notebook.jl:136\n",
      " [11] top-level scope\n",
      "    @ ~/.vscode/extensions/julialang.language-julia-1.6.17/scripts/notebook/notebook.jl:32\n",
      " [12] include(mod::Module, _path::String)\n",
      "    @ Base ./Base.jl:418\n",
      " [13] exec_options(opts::Base.JLOptions)\n",
      "    @ Base ./client.jl:292\n",
      " [14] _start()\n",
      "    @ Base ./client.jl:495"
     ]
    }
   ],
   "source": [
    "i"
   ]
  },
  {
   "cell_type": "code",
   "execution_count": 32,
   "metadata": {},
   "outputs": [
    {
     "data": {
      "text/plain": [
       "3"
      ]
     },
     "metadata": {},
     "output_type": "display_data"
    }
   ],
   "source": [
    "f()"
   ]
  },
  {
   "cell_type": "code",
   "execution_count": 33,
   "metadata": {},
   "outputs": [
    {
     "data": {
      "text/plain": [
       "3"
      ]
     },
     "metadata": {},
     "output_type": "display_data"
    }
   ],
   "source": [
    "i"
   ]
  },
  {
   "cell_type": "markdown",
   "metadata": {},
   "source": [
    "## Constants\n",
    "A common use of variables is giving names to specific, unchanging values. Such variables are only assigned once. This intent can be conveyed to the compiler using the `const` keyword:"
   ]
  },
  {
   "cell_type": "code",
   "execution_count": 34,
   "metadata": {},
   "outputs": [],
   "source": [
    "const e  = 2.71828182845904523536;\n",
    "const pi = 3.14159265358979323846;"
   ]
  },
  {
   "cell_type": "markdown",
   "metadata": {},
   "source": [
    "Multiple variables can be declared in a single `const` statement:"
   ]
  },
  {
   "cell_type": "code",
   "execution_count": 35,
   "metadata": {},
   "outputs": [
    {
     "data": {
      "text/plain": [
       "(1, 2)"
      ]
     },
     "metadata": {},
     "output_type": "display_data"
    }
   ],
   "source": [
    "const a, b = 1, 2"
   ]
  },
  {
   "cell_type": "code",
   "execution_count": 41,
   "metadata": {},
   "outputs": [
    {
     "ename": "ErrorException",
     "evalue": "cannot declare x constant; it already has a value",
     "output_type": "error",
     "traceback": [
      "cannot declare x constant; it already has a value\n",
      "\n",
      "Stacktrace:\n",
      "  [1] top-level scope\n",
      "    @ ~/Repositories/Introduction-to-Julia/day3/12. Exploring_benchmarking_and_performance.ipynb:2\n",
      "  [2] eval\n",
      "    @ ./boot.jl:373 [inlined]\n",
      "  [3] include_string(mapexpr::typeof(REPL.softscope), mod::Module, code::String, filename::String)\n",
      "    @ Base ./loading.jl:1196\n",
      "  [4] #invokelatest#2\n",
      "    @ ./essentials.jl:716 [inlined]\n",
      "  [5] invokelatest\n",
      "    @ ./essentials.jl:714 [inlined]\n",
      "  [6] (::VSCodeServer.var\"#164#165\"{VSCodeServer.NotebookRunCellArguments, String})()\n",
      "    @ VSCodeServer ~/.vscode/extensions/julialang.language-julia-1.6.17/scripts/packages/VSCodeServer/src/serve_notebook.jl:19\n",
      "  [7] withpath(f::VSCodeServer.var\"#164#165\"{VSCodeServer.NotebookRunCellArguments, String}, path::String)\n",
      "    @ VSCodeServer ~/.vscode/extensions/julialang.language-julia-1.6.17/scripts/packages/VSCodeServer/src/repl.jl:184\n",
      "  [8] notebook_runcell_request(conn::VSCodeServer.JSONRPC.JSONRPCEndpoint{Base.PipeEndpoint, Base.PipeEndpoint}, params::VSCodeServer.NotebookRunCellArguments)\n",
      "    @ VSCodeServer ~/.vscode/extensions/julialang.language-julia-1.6.17/scripts/packages/VSCodeServer/src/serve_notebook.jl:13\n",
      "  [9] dispatch_msg(x::VSCodeServer.JSONRPC.JSONRPCEndpoint{Base.PipeEndpoint, Base.PipeEndpoint}, dispatcher::VSCodeServer.JSONRPC.MsgDispatcher, msg::Dict{String, Any})\n",
      "    @ VSCodeServer.JSONRPC ~/.vscode/extensions/julialang.language-julia-1.6.17/scripts/packages/JSONRPC/src/typed.jl:67\n",
      " [10] serve_notebook(pipename::String, outputchannel_logger::Base.CoreLogging.SimpleLogger; crashreporting_pipename::String)\n",
      "    @ VSCodeServer ~/.vscode/extensions/julialang.language-julia-1.6.17/scripts/packages/VSCodeServer/src/serve_notebook.jl:136\n",
      " [11] top-level scope\n",
      "    @ ~/.vscode/extensions/julialang.language-julia-1.6.17/scripts/notebook/notebook.jl:32\n",
      " [12] include(mod::Module, _path::String)\n",
      "    @ Base ./Base.jl:418\n",
      " [13] exec_options(opts::Base.JLOptions)\n",
      "    @ Base ./client.jl:292\n",
      " [14] _start()\n",
      "    @ Base ./client.jl:495"
     ]
    }
   ],
   "source": [
    "const x = 1.0"
   ]
  },
  {
   "cell_type": "code",
   "execution_count": 45,
   "metadata": {},
   "outputs": [
    {
     "data": {
      "text/plain": [
       "1"
      ]
     },
     "metadata": {},
     "output_type": "display_data"
    }
   ],
   "source": [
    "x"
   ]
  },
  {
   "cell_type": "markdown",
   "metadata": {},
   "source": [
    "If a new value has a different type than the type of the constant then an error is thrown:"
   ]
  },
  {
   "cell_type": "code",
   "execution_count": 42,
   "metadata": {},
   "outputs": [
    {
     "data": {
      "text/plain": [
       "1"
      ]
     },
     "metadata": {},
     "output_type": "display_data"
    }
   ],
   "source": [
    "x=1"
   ]
  },
  {
   "cell_type": "markdown",
   "metadata": {},
   "source": [
    "If a new value has the same type as the constant then a warning is printed:"
   ]
  },
  {
   "cell_type": "code",
   "execution_count": 43,
   "metadata": {},
   "outputs": [
    {
     "data": {
      "text/plain": [
       "1.0"
      ]
     },
     "metadata": {},
     "output_type": "display_data"
    }
   ],
   "source": [
    "const y = 1.0\n"
   ]
  },
  {
   "cell_type": "code",
   "execution_count": 44,
   "metadata": {},
   "outputs": [
    {
     "name": "stderr",
     "output_type": "stream",
     "text": [
      "WARNING: redefinition of constant y. This may fail, cause incorrect answers, or produce other errors.\n"
     ]
    },
    {
     "data": {
      "text/plain": [
       "2.0"
      ]
     },
     "metadata": {},
     "output_type": "display_data"
    }
   ],
   "source": [
    "y = 2.0"
   ]
  },
  {
   "cell_type": "markdown",
   "metadata": {},
   "source": [
    "### Performance tip : \n",
    "The const declaration should only be used in global scope on globals. It is difficult for the compiler to optimize code involving global variables, since their values (or even their types) might change at almost any time. If a global variable will not change, adding a `const` declaration solves this performance problem."
   ]
  },
  {
   "cell_type": "markdown",
   "metadata": {},
   "source": [
    "## Benchmarking tips\n",
    "\n",
    "In the `Julia is fast` notebook, we saw the package `BenchmarkTools` and used its `@benchmark` macro.\n",
    "\n",
    "In this notebook, we'll explore the importance of \"interpolating\" global variables when benchmarking functions.\n",
    "\n",
    "We interpolate a global variable by throwing a `$` in front of it. For example, in `Julia is fast`, we benchmarked the `sum` function using `Vector` `A` via\n",
    "\n",
    "```julia\n",
    "@benchmark sum($A)\n",
    "```\n",
    "\n",
    "not\n",
    "\n",
    "```julia\n",
    "@benchmark sum(A)\n",
    "```\n",
    "\n",
    "> If the expression you want to benchmark depends on external variables, you should use $ to \"interpolate\" them into the benchmark expression to avoid the problems of benchmarking with globals. Essentially, any interpolated variable \\$x or expression \\$(...) is \"pre-computed\" before benchmarking begins:\n",
    "\n",
    "[source](https://github.com/JuliaCI/BenchmarkTools.jl#quick-start)\n",
    "\n",
    "Let's see if this can make a difference by examining the ratio in execution times of `sum($A)` and `sum(A)` for differently sized arrays `A`. \n",
    "\n",
    "#### Exercise\n",
    "\n",
    "Call the `sum` function on a pseudo-randomly populated 1D array called `foo` of several lengths between 2 and 2^20 (~10^6). For each size of `foo`, determine the ratio of execution times for `sum(foo)` and `sum($foo)`. (To determine this ratio, use the minimum run times in each case.)\n",
    "\n",
    "Plot the ratio of execution times for non-interpolated and interpolated `foo` in calls to `sum` versus the length of `foo`. Does interpolating `foo` seem to matter? If so, for what sizes of `foo`?"
   ]
  },
  {
   "cell_type": "code",
   "execution_count": 46,
   "metadata": {},
   "outputs": [
    {
     "data": {
      "text/plain": [
       "Plots.GRBackend()"
      ]
     },
     "metadata": {},
     "output_type": "display_data"
    }
   ],
   "source": [
    "using BenchmarkTools, Plots\n",
    "gr()"
   ]
  },
  {
   "cell_type": "code",
   "execution_count": 48,
   "metadata": {},
   "outputs": [],
   "source": [
    "store_ratios = []\n",
    "foo = rand()\n",
    "for i in 1 : 20\n",
    "\tfoo = rand(2 ^ i)\n",
    "\tnot_interpolated = @benchmark sum(foo)\n",
    "\tinterpolated = @benchmark sum($foo)\n",
    "\tmin_not_interpolated = minimum(not_interpolated.times)\n",
    "\tmin_interpolated = minimum(interpolated.times)\n",
    "\tratio = min_not_interpolated / min_interpolated\n",
    "\tappend!(store_ratios, ratio)\n",
    "end\n"
   ]
  },
  {
   "cell_type": "code",
   "execution_count": 49,
   "metadata": {},
   "outputs": [
    {
     "data": {
      "image/png": "[encoded data removed]",
      "image/svg+xml": "<?xml version=\"1.0\" encoding=\"utf-8\"?>\n<svg xmlns=\"http://www.w3.org/2000/svg\" xmlns:xlink=\"http://www.w3.org/1999/xlink\" width=\"600\" height=\"400\" viewBox=\"0 0 2400 1600\">\n<defs>\n  <clipPath id=\"clip260\">\n    <rect x=\"0\" y=\"0\" width=\"2400\" height=\"1600\"/>\n  </clipPath>\n</defs>\n<path clip-path=\"url(#clip260)\" d=\"\nM0 1600 L2400 1600 L2400 0 L0 0  Z\n  \" fill=\"#ffffff\" fill-rule=\"evenodd\" fill-opacity=\"1\"/>\n<defs>\n  <clipPath id=\"clip261\">\n    <rect x=\"480\" y=\"0\" width=\"1681\" height=\"1600\"/>\n  </clipPath>\n</defs>\n<path clip-path=\"url(#clip260)\" d=\"\nM175.445 1423.18 L2352.76 1423.18 L2352.76 123.472 L175.445 123.472  Z\n  \" fill=\"#ffffff\" fill-rule=\"evenodd\" fill-opacity=\"1\"/>\n<defs>\n  <clipPath id=\"clip262\">\n    <rect x=\"175\" y=\"123\" width=\"2178\" height=\"1301\"/>\n  </clipPath>\n</defs>\n<polyline clip-path=\"url(#clip262)\" style=\"stroke:#000000; stroke-linecap:butt; stroke-linejoin:round; stroke-width:2; stroke-opacity:0.1; fill:none\" points=\"\n  669.502,1423.18 669.502,123.472 \n  \"/>\n<polyline clip-path=\"url(#clip262)\" style=\"stroke:#000000; stroke-linecap:butt; stroke-linejoin:round; stroke-width:2; stroke-opacity:0.1; fill:none\" points=\"\n  1210.05,1423.18 1210.05,123.472 \n  \"/>\n<polyline clip-path=\"url(#clip262)\" style=\"stroke:#000000; stroke-linecap:butt; stroke-linejoin:round; stroke-width:2; stroke-opacity:0.1; fill:none\" points=\"\n  1750.59,1423.18 1750.59,123.472 \n  \"/>\n<polyline clip-path=\"url(#clip262)\" style=\"stroke:#000000; stroke-linecap:butt; stroke-linejoin:round; stroke-width:2; stroke-opacity:0.1; fill:none\" points=\"\n  2291.13,1423.18 2291.13,123.472 \n  \"/>\n<polyline clip-path=\"url(#clip260)\" style=\"stroke:#000000; stroke-linecap:butt; stroke-linejoin:round; stroke-width:4; stroke-opacity:1; fill:none\" points=\"\n  175.445,1423.18 2352.76,1423.18 \n  \"/>\n<polyline clip-path=\"url(#clip260)\" style=\"stroke:#000000; stroke-linecap:butt; stroke-linejoin:round; stroke-width:4; stroke-opacity:1; fill:none\" points=\"\n  669.502,1423.18 669.502,1407.58 \n  \"/>\n<polyline clip-path=\"url(#clip260)\" style=\"stroke:#000000; stroke-linecap:butt; stroke-linejoin:round; stroke-width:4; stroke-opacity:1; fill:none\" points=\"\n  1210.05,1423.18 1210.05,1407.58 \n  \"/>\n<polyline clip-path=\"url(#clip260)\" style=\"stroke:#000000; stroke-linecap:butt; stroke-linejoin:round; stroke-width:4; stroke-opacity:1; fill:none\" points=\"\n  1750.59,1423.18 1750.59,1407.58 \n  \"/>\n<polyline clip-path=\"url(#clip260)\" style=\"stroke:#000000; stroke-linecap:butt; stroke-linejoin:round; stroke-width:4; stroke-opacity:1; fill:none\" points=\"\n  2291.13,1423.18 2291.13,1407.58 \n  \"/>\n<path clip-path=\"url(#clip260)\" d=\"M659.78 1449.29 L678.137 1449.29 L678.137 1453.23 L664.063 1453.23 L664.063 1461.7 Q665.081 1461.35 666.1 1461.19 Q667.118 1461 668.137 1461 Q673.924 1461 677.303 1464.18 Q680.683 1467.35 680.683 1472.76 Q680.683 1478.34 677.211 1481.44 Q673.738 1484.52 667.419 1484.52 Q665.243 1484.52 662.975 1484.15 Q660.729 1483.78 658.322 1483.04 L658.322 1478.34 Q660.405 1479.48 662.627 1480.03 Q664.85 1480.59 667.326 1480.59 Q671.331 1480.59 673.669 1478.48 Q676.007 1476.38 676.007 1472.76 Q676.007 1469.15 673.669 1467.05 Q671.331 1464.94 667.326 1464.94 Q665.451 1464.94 663.576 1465.36 Q661.725 1465.77 659.78 1466.65 L659.78 1449.29 Z\" fill=\"#000000\" fill-rule=\"evenodd\" fill-opacity=\"1\" /><path clip-path=\"url(#clip260)\" d=\"M1184.73 1479.92 L1192.37 1479.92 L1192.37 1453.55 L1184.06 1455.22 L1184.06 1450.96 L1192.33 1449.29 L1197 1449.29 L1197 1479.92 L1204.64 1479.92 L1204.64 1483.85 L1184.73 1483.85 L1184.73 1479.92 Z\" fill=\"#000000\" fill-rule=\"evenodd\" fill-opacity=\"1\" /><path clip-path=\"url(#clip260)\" d=\"M1224.09 1452.37 Q1220.47 1452.37 1218.65 1455.94 Q1216.84 1459.48 1216.84 1466.61 Q1216.84 1473.71 1218.65 1477.28 Q1220.47 1480.82 1224.09 1480.82 Q1227.72 1480.82 1229.53 1477.28 Q1231.35 1473.71 1231.35 1466.61 Q1231.35 1459.48 1229.53 1455.94 Q1227.72 1452.37 1224.09 1452.37 M1224.09 1448.67 Q1229.9 1448.67 1232.95 1453.27 Q1236.03 1457.86 1236.03 1466.61 Q1236.03 1475.33 1232.95 1479.94 Q1229.9 1484.52 1224.09 1484.52 Q1218.28 1484.52 1215.2 1479.94 Q1212.14 1475.33 1212.14 1466.61 Q1212.14 1457.86 1215.2 1453.27 Q1218.28 1448.67 1224.09 1448.67 Z\" fill=\"#000000\" fill-rule=\"evenodd\" fill-opacity=\"1\" /><path clip-path=\"url(#clip260)\" d=\"M1725.78 1479.92 L1733.41 1479.92 L1733.41 1453.55 L1725.1 1455.22 L1725.1 1450.96 L1733.37 1449.29 L1738.04 1449.29 L1738.04 1479.92 L1745.68 1479.92 L1745.68 1483.85 L1725.78 1483.85 L1725.78 1479.92 Z\" fill=\"#000000\" fill-rule=\"evenodd\" fill-opacity=\"1\" /><path clip-path=\"url(#clip260)\" d=\"M1755.17 1449.29 L1773.53 1449.29 L1773.53 1453.23 L1759.46 1453.23 L1759.46 1461.7 Q1760.47 1461.35 1761.49 1461.19 Q1762.51 1461 1763.53 1461 Q1769.32 1461 1772.7 1464.18 Q1776.08 1467.35 1776.08 1472.76 Q1776.08 1478.34 1772.6 1481.44 Q1769.13 1484.52 1762.81 1484.52 Q1760.64 1484.52 1758.37 1484.15 Q1756.12 1483.78 1753.72 1483.04 L1753.72 1478.34 Q1755.8 1479.48 1758.02 1480.03 Q1760.24 1480.59 1762.72 1480.59 Q1766.72 1480.59 1769.06 1478.48 Q1771.4 1476.38 1771.4 1472.76 Q1771.4 1469.15 1769.06 1467.05 Q1766.72 1464.94 1762.72 1464.94 Q1760.84 1464.94 1758.97 1465.36 Q1757.12 1465.77 1755.17 1466.65 L1755.17 1449.29 Z\" fill=\"#000000\" fill-rule=\"evenodd\" fill-opacity=\"1\" /><path clip-path=\"url(#clip260)\" d=\"M2269.91 1479.92 L2286.23 1479.92 L2286.23 1483.85 L2264.28 1483.85 L2264.28 1479.92 Q2266.94 1477.16 2271.53 1472.53 Q2276.13 1467.88 2277.31 1466.54 Q2279.56 1464.01 2280.44 1462.28 Q2281.34 1460.52 2281.34 1458.83 Q2281.34 1456.07 2279.4 1454.34 Q2277.48 1452.6 2274.37 1452.6 Q2272.18 1452.6 2269.72 1453.37 Q2267.29 1454.13 2264.51 1455.68 L2264.51 1450.96 Q2267.34 1449.82 2269.79 1449.25 Q2272.25 1448.67 2274.28 1448.67 Q2279.65 1448.67 2282.85 1451.35 Q2286.04 1454.04 2286.04 1458.53 Q2286.04 1460.66 2285.23 1462.58 Q2284.44 1464.48 2282.34 1467.07 Q2281.76 1467.74 2278.66 1470.96 Q2275.56 1474.15 2269.91 1479.92 Z\" fill=\"#000000\" fill-rule=\"evenodd\" fill-opacity=\"1\" /><path clip-path=\"url(#clip260)\" d=\"M2306.04 1452.37 Q2302.43 1452.37 2300.6 1455.94 Q2298.8 1459.48 2298.8 1466.61 Q2298.8 1473.71 2300.6 1477.28 Q2302.43 1480.82 2306.04 1480.82 Q2309.68 1480.82 2311.48 1477.28 Q2313.31 1473.71 2313.31 1466.61 Q2313.31 1459.48 2311.48 1455.94 Q2309.68 1452.37 2306.04 1452.37 M2306.04 1448.67 Q2311.85 1448.67 2314.91 1453.27 Q2317.99 1457.86 2317.99 1466.61 Q2317.99 1475.33 2314.91 1479.94 Q2311.85 1484.52 2306.04 1484.52 Q2300.23 1484.52 2297.15 1479.94 Q2294.1 1475.33 2294.1 1466.61 Q2294.1 1457.86 2297.15 1453.27 Q2300.23 1448.67 2306.04 1448.67 Z\" fill=\"#000000\" fill-rule=\"evenodd\" fill-opacity=\"1\" /><path clip-path=\"url(#clip260)\" d=\"M857.205 1520.52 L897.404 1520.52 L897.404 1525.93 L880.535 1525.93 L880.535 1568.04 L874.074 1568.04 L874.074 1525.93 L857.205 1525.93 L857.205 1520.52 Z\" fill=\"#000000\" fill-rule=\"evenodd\" fill-opacity=\"1\" /><path clip-path=\"url(#clip260)\" d=\"M932.988 1546.53 L932.988 1568.04 L927.132 1568.04 L927.132 1546.72 Q927.132 1541.66 925.159 1539.14 Q923.185 1536.63 919.238 1536.63 Q914.496 1536.63 911.759 1539.65 Q909.021 1542.68 909.021 1547.9 L909.021 1568.04 L903.133 1568.04 L903.133 1518.52 L909.021 1518.52 L909.021 1537.93 Q911.122 1534.72 913.955 1533.13 Q916.819 1531.54 920.543 1531.54 Q926.686 1531.54 929.837 1535.36 Q932.988 1539.14 932.988 1546.53 Z\" fill=\"#000000\" fill-rule=\"evenodd\" fill-opacity=\"1\" /><path clip-path=\"url(#clip260)\" d=\"M975.161 1548.76 L975.161 1551.62 L948.234 1551.62 Q948.616 1557.67 951.863 1560.85 Q955.141 1564 960.966 1564 Q964.339 1564 967.49 1563.17 Q970.673 1562.35 973.793 1560.69 L973.793 1566.23 Q970.641 1567.57 967.331 1568.27 Q964.021 1568.97 960.615 1568.97 Q952.085 1568.97 947.088 1564 Q942.123 1559.04 942.123 1550.57 Q942.123 1541.82 946.834 1536.69 Q951.576 1531.54 959.597 1531.54 Q966.79 1531.54 970.96 1536.18 Q975.161 1540.8 975.161 1548.76 M969.305 1547.04 Q969.241 1542.23 966.599 1539.37 Q963.989 1536.5 959.661 1536.5 Q954.759 1536.5 951.799 1539.27 Q948.871 1542.04 948.425 1547.07 L969.305 1547.04 Z\" fill=\"#000000\" fill-rule=\"evenodd\" fill-opacity=\"1\" /><path clip-path=\"url(#clip260)\" d=\"M1005.49 1518.52 L1011.35 1518.52 L1011.35 1568.04 L1005.49 1568.04 L1005.49 1518.52 Z\" fill=\"#000000\" fill-rule=\"evenodd\" fill-opacity=\"1\" /><path clip-path=\"url(#clip260)\" d=\"M1037.42 1536.5 Q1032.71 1536.5 1029.97 1540.19 Q1027.23 1543.85 1027.23 1550.25 Q1027.23 1556.65 1029.94 1560.34 Q1032.68 1564 1037.42 1564 Q1042.1 1564 1044.83 1560.31 Q1047.57 1556.62 1047.57 1550.25 Q1047.57 1543.92 1044.83 1540.23 Q1042.1 1536.5 1037.42 1536.5 M1037.42 1531.54 Q1045.06 1531.54 1049.42 1536.5 Q1053.78 1541.47 1053.78 1550.25 Q1053.78 1559 1049.42 1564 Q1045.06 1568.97 1037.42 1568.97 Q1029.75 1568.97 1025.39 1564 Q1021.06 1559 1021.06 1550.25 Q1021.06 1541.47 1025.39 1536.5 Q1029.75 1531.54 1037.42 1531.54 Z\" fill=\"#000000\" fill-rule=\"evenodd\" fill-opacity=\"1\" /><path clip-path=\"url(#clip260)\" d=\"M1086.94 1549.81 Q1086.94 1543.44 1084.3 1539.94 Q1081.69 1536.44 1076.95 1536.44 Q1072.24 1536.44 1069.6 1539.94 Q1066.99 1543.44 1066.99 1549.81 Q1066.99 1556.14 1069.6 1559.64 Q1072.24 1563.14 1076.95 1563.14 Q1081.69 1563.14 1084.3 1559.64 Q1086.94 1556.14 1086.94 1549.81 M1092.8 1563.62 Q1092.8 1572.72 1088.76 1577.15 Q1084.71 1581.6 1076.38 1581.6 Q1073.29 1581.6 1070.55 1581.13 Q1067.81 1580.68 1065.24 1579.72 L1065.24 1574.03 Q1067.81 1575.43 1070.33 1576.1 Q1072.84 1576.76 1075.45 1576.76 Q1081.21 1576.76 1084.08 1573.74 Q1086.94 1570.75 1086.94 1564.67 L1086.94 1561.77 Q1085.13 1564.92 1082.3 1566.48 Q1079.46 1568.04 1075.52 1568.04 Q1068.96 1568.04 1064.95 1563.05 Q1060.94 1558.05 1060.94 1549.81 Q1060.94 1541.53 1064.95 1536.53 Q1068.96 1531.54 1075.52 1531.54 Q1079.46 1531.54 1082.3 1533.1 Q1085.13 1534.66 1086.94 1537.81 L1086.94 1532.4 L1092.8 1532.4 L1092.8 1563.62 Z\" fill=\"#000000\" fill-rule=\"evenodd\" fill-opacity=\"1\" /><path clip-path=\"url(#clip260)\" d=\"M1139.4 1536.5 Q1134.69 1536.5 1131.95 1540.19 Q1129.21 1543.85 1129.21 1550.25 Q1129.21 1556.65 1131.92 1560.34 Q1134.65 1564 1139.4 1564 Q1144.08 1564 1146.81 1560.31 Q1149.55 1556.62 1149.55 1550.25 Q1149.55 1543.92 1146.81 1540.23 Q1144.08 1536.5 1139.4 1536.5 M1139.4 1531.54 Q1147.04 1531.54 1151.4 1536.5 Q1155.76 1541.47 1155.76 1550.25 Q1155.76 1559 1151.4 1564 Q1147.04 1568.97 1139.4 1568.97 Q1131.73 1568.97 1127.37 1564 Q1123.04 1559 1123.04 1550.25 Q1123.04 1541.47 1127.37 1536.5 Q1131.73 1531.54 1139.4 1531.54 Z\" fill=\"#000000\" fill-rule=\"evenodd\" fill-opacity=\"1\" /><path clip-path=\"url(#clip260)\" d=\"M1183.51 1518.52 L1183.51 1523.39 L1177.91 1523.39 Q1174.76 1523.39 1173.52 1524.66 Q1172.31 1525.93 1172.31 1529.24 L1172.31 1532.4 L1181.95 1532.4 L1181.95 1536.95 L1172.31 1536.95 L1172.31 1568.04 L1166.42 1568.04 L1166.42 1536.95 L1160.82 1536.95 L1160.82 1532.4 L1166.42 1532.4 L1166.42 1529.91 Q1166.42 1523.96 1169.19 1521.26 Q1171.96 1518.52 1177.97 1518.52 L1183.51 1518.52 Z\" fill=\"#000000\" fill-rule=\"evenodd\" fill-opacity=\"1\" /><path clip-path=\"url(#clip260)\" d=\"M1209.13 1518.52 L1214.99 1518.52 L1214.99 1568.04 L1209.13 1568.04 L1209.13 1518.52 Z\" fill=\"#000000\" fill-rule=\"evenodd\" fill-opacity=\"1\" /><path clip-path=\"url(#clip260)\" d=\"M1257.73 1548.76 L1257.73 1551.62 L1230.81 1551.62 Q1231.19 1557.67 1234.44 1560.85 Q1237.71 1564 1243.54 1564 Q1246.91 1564 1250.06 1563.17 Q1253.25 1562.35 1256.37 1560.69 L1256.37 1566.23 Q1253.22 1567.57 1249.91 1568.27 Q1246.59 1568.97 1243.19 1568.97 Q1234.66 1568.97 1229.66 1564 Q1224.7 1559.04 1224.7 1550.57 Q1224.7 1541.82 1229.41 1536.69 Q1234.15 1531.54 1242.17 1531.54 Q1249.36 1531.54 1253.53 1536.18 Q1257.73 1540.8 1257.73 1548.76 M1251.88 1547.04 Q1251.81 1542.23 1249.17 1539.37 Q1246.56 1536.5 1242.23 1536.5 Q1237.33 1536.5 1234.37 1539.27 Q1231.44 1542.04 1231 1547.07 L1251.88 1547.04 Z\" fill=\"#000000\" fill-rule=\"evenodd\" fill-opacity=\"1\" /><path clip-path=\"url(#clip260)\" d=\"M1296.98 1546.53 L1296.98 1568.04 L1291.12 1568.04 L1291.12 1546.72 Q1291.12 1541.66 1289.15 1539.14 Q1287.18 1536.63 1283.23 1536.63 Q1278.49 1536.63 1275.75 1539.65 Q1273.01 1542.68 1273.01 1547.9 L1273.01 1568.04 L1267.12 1568.04 L1267.12 1532.4 L1273.01 1532.4 L1273.01 1537.93 Q1275.11 1534.72 1277.95 1533.13 Q1280.81 1531.54 1284.53 1531.54 Q1290.68 1531.54 1293.83 1535.36 Q1296.98 1539.14 1296.98 1546.53 Z\" fill=\"#000000\" fill-rule=\"evenodd\" fill-opacity=\"1\" /><path clip-path=\"url(#clip260)\" d=\"M1332.12 1549.81 Q1332.12 1543.44 1329.48 1539.94 Q1326.87 1536.44 1322.12 1536.44 Q1317.41 1536.44 1314.77 1539.94 Q1312.16 1543.44 1312.16 1549.81 Q1312.16 1556.14 1314.77 1559.64 Q1317.41 1563.14 1322.12 1563.14 Q1326.87 1563.14 1329.48 1559.64 Q1332.12 1556.14 1332.12 1549.81 M1337.97 1563.62 Q1337.97 1572.72 1333.93 1577.15 Q1329.89 1581.6 1321.55 1581.6 Q1318.46 1581.6 1315.73 1581.13 Q1312.99 1580.68 1310.41 1579.72 L1310.41 1574.03 Q1312.99 1575.43 1315.5 1576.1 Q1318.02 1576.76 1320.63 1576.76 Q1326.39 1576.76 1329.25 1573.74 Q1332.12 1570.75 1332.12 1564.67 L1332.12 1561.77 Q1330.3 1564.92 1327.47 1566.48 Q1324.64 1568.04 1320.69 1568.04 Q1314.14 1568.04 1310.12 1563.05 Q1306.11 1558.05 1306.11 1549.81 Q1306.11 1541.53 1310.12 1536.53 Q1314.14 1531.54 1320.69 1531.54 Q1324.64 1531.54 1327.47 1533.1 Q1330.3 1534.66 1332.12 1537.81 L1332.12 1532.4 L1337.97 1532.4 L1337.97 1563.62 Z\" fill=\"#000000\" fill-rule=\"evenodd\" fill-opacity=\"1\" /><path clip-path=\"url(#clip260)\" d=\"M1355.83 1522.27 L1355.83 1532.4 L1367.89 1532.4 L1367.89 1536.95 L1355.83 1536.95 L1355.83 1556.3 Q1355.83 1560.66 1357.01 1561.9 Q1358.22 1563.14 1361.88 1563.14 L1367.89 1563.14 L1367.89 1568.04 L1361.88 1568.04 Q1355.1 1568.04 1352.52 1565.53 Q1349.94 1562.98 1349.94 1556.3 L1349.94 1536.95 L1345.65 1536.95 L1345.65 1532.4 L1349.94 1532.4 L1349.94 1522.27 L1355.83 1522.27 Z\" fill=\"#000000\" fill-rule=\"evenodd\" fill-opacity=\"1\" /><path clip-path=\"url(#clip260)\" d=\"M1405.23 1546.53 L1405.23 1568.04 L1399.37 1568.04 L1399.37 1546.72 Q1399.37 1541.66 1397.4 1539.14 Q1395.43 1536.63 1391.48 1536.63 Q1386.74 1536.63 1384 1539.65 Q1381.26 1542.68 1381.26 1547.9 L1381.26 1568.04 L1375.37 1568.04 L1375.37 1518.52 L1381.26 1518.52 L1381.26 1537.93 Q1383.36 1534.72 1386.19 1533.13 Q1389.06 1531.54 1392.78 1531.54 Q1398.93 1531.54 1402.08 1535.36 Q1405.23 1539.14 1405.23 1546.53 Z\" fill=\"#000000\" fill-rule=\"evenodd\" fill-opacity=\"1\" /><path clip-path=\"url(#clip260)\" d=\"M1451.44 1536.5 Q1446.73 1536.5 1444 1540.19 Q1441.26 1543.85 1441.26 1550.25 Q1441.26 1556.65 1443.96 1560.34 Q1446.7 1564 1451.44 1564 Q1456.12 1564 1458.86 1560.31 Q1461.6 1556.62 1461.6 1550.25 Q1461.6 1543.92 1458.86 1540.23 Q1456.12 1536.5 1451.44 1536.5 M1451.44 1531.54 Q1459.08 1531.54 1463.44 1536.5 Q1467.8 1541.47 1467.8 1550.25 Q1467.8 1559 1463.44 1564 Q1459.08 1568.97 1451.44 1568.97 Q1443.77 1568.97 1439.41 1564 Q1435.08 1559 1435.08 1550.25 Q1435.08 1541.47 1439.41 1536.5 Q1443.77 1531.54 1451.44 1531.54 Z\" fill=\"#000000\" fill-rule=\"evenodd\" fill-opacity=\"1\" /><path clip-path=\"url(#clip260)\" d=\"M1495.56 1518.52 L1495.56 1523.39 L1489.96 1523.39 Q1486.8 1523.39 1485.56 1524.66 Q1484.35 1525.93 1484.35 1529.24 L1484.35 1532.4 L1494 1532.4 L1494 1536.95 L1484.35 1536.95 L1484.35 1568.04 L1478.47 1568.04 L1478.47 1536.95 L1472.86 1536.95 L1472.86 1532.4 L1478.47 1532.4 L1478.47 1529.91 Q1478.47 1523.96 1481.23 1521.26 Q1484 1518.52 1490.02 1518.52 L1495.56 1518.52 Z\" fill=\"#000000\" fill-rule=\"evenodd\" fill-opacity=\"1\" /><path clip-path=\"url(#clip260)\" d=\"M1526.72 1515.91 L1535.69 1527.81 L1530.82 1527.81 L1520.45 1515.91 L1526.72 1515.91 Z\" fill=\"#000000\" fill-rule=\"evenodd\" fill-opacity=\"1\" /><path clip-path=\"url(#clip260)\" d=\"M1571.82 1518.52 L1571.82 1523.39 L1566.22 1523.39 Q1563.07 1523.39 1561.82 1524.66 Q1560.62 1525.93 1560.62 1529.24 L1560.62 1532.4 L1570.26 1532.4 L1570.26 1536.95 L1560.62 1536.95 L1560.62 1568.04 L1554.73 1568.04 L1554.73 1536.95 L1549.13 1536.95 L1549.13 1532.4 L1554.73 1532.4 L1554.73 1529.91 Q1554.73 1523.96 1557.5 1521.26 Q1560.27 1518.52 1566.28 1518.52 L1571.82 1518.52 Z\" fill=\"#000000\" fill-rule=\"evenodd\" fill-opacity=\"1\" /><path clip-path=\"url(#clip260)\" d=\"M1590.53 1536.5 Q1585.82 1536.5 1583.09 1540.19 Q1580.35 1543.85 1580.35 1550.25 Q1580.35 1556.65 1583.05 1560.34 Q1585.79 1564 1590.53 1564 Q1595.21 1564 1597.95 1560.31 Q1600.69 1556.62 1600.69 1550.25 Q1600.69 1543.92 1597.95 1540.23 Q1595.21 1536.5 1590.53 1536.5 M1590.53 1531.54 Q1598.17 1531.54 1602.53 1536.5 Q1606.89 1541.47 1606.89 1550.25 Q1606.89 1559 1602.53 1564 Q1598.17 1568.97 1590.53 1568.97 Q1582.86 1568.97 1578.5 1564 Q1574.17 1559 1574.17 1550.25 Q1574.17 1541.47 1578.5 1536.5 Q1582.86 1531.54 1590.53 1531.54 Z\" fill=\"#000000\" fill-rule=\"evenodd\" fill-opacity=\"1\" /><path clip-path=\"url(#clip260)\" d=\"M1630.42 1536.5 Q1625.7 1536.5 1622.97 1540.19 Q1620.23 1543.85 1620.23 1550.25 Q1620.23 1556.65 1622.94 1560.34 Q1625.67 1564 1630.42 1564 Q1635.09 1564 1637.83 1560.31 Q1640.57 1556.62 1640.57 1550.25 Q1640.57 1543.92 1637.83 1540.23 Q1635.09 1536.5 1630.42 1536.5 M1630.42 1531.54 Q1638.05 1531.54 1642.41 1536.5 Q1646.78 1541.47 1646.78 1550.25 Q1646.78 1559 1642.41 1564 Q1638.05 1568.97 1630.42 1568.97 Q1622.74 1568.97 1618.38 1564 Q1614.06 1559 1614.06 1550.25 Q1614.06 1541.47 1618.38 1536.5 Q1622.74 1531.54 1630.42 1531.54 Z\" fill=\"#000000\" fill-rule=\"evenodd\" fill-opacity=\"1\" /><path clip-path=\"url(#clip260)\" d=\"M1662.02 1515.91 L1671 1527.81 L1666.13 1527.81 L1655.75 1515.91 L1662.02 1515.91 Z\" fill=\"#000000\" fill-rule=\"evenodd\" fill-opacity=\"1\" /><polyline clip-path=\"url(#clip262)\" style=\"stroke:#000000; stroke-linecap:butt; stroke-linejoin:round; stroke-width:2; stroke-opacity:0.1; fill:none\" points=\"\n  175.445,1383.9 2352.76,1383.9 \n  \"/>\n<polyline clip-path=\"url(#clip262)\" style=\"stroke:#000000; stroke-linecap:butt; stroke-linejoin:round; stroke-width:2; stroke-opacity:0.1; fill:none\" points=\"\n  175.445,1169.58 2352.76,1169.58 \n  \"/>\n<polyline clip-path=\"url(#clip262)\" style=\"stroke:#000000; stroke-linecap:butt; stroke-linejoin:round; stroke-width:2; stroke-opacity:0.1; fill:none\" points=\"\n  175.445,955.27 2352.76,955.27 \n  \"/>\n<polyline clip-path=\"url(#clip262)\" style=\"stroke:#000000; stroke-linecap:butt; stroke-linejoin:round; stroke-width:2; stroke-opacity:0.1; fill:none\" points=\"\n  175.445,740.956 2352.76,740.956 \n  \"/>\n<polyline clip-path=\"url(#clip262)\" style=\"stroke:#000000; stroke-linecap:butt; stroke-linejoin:round; stroke-width:2; stroke-opacity:0.1; fill:none\" points=\"\n  175.445,526.641 2352.76,526.641 \n  \"/>\n<polyline clip-path=\"url(#clip262)\" style=\"stroke:#000000; stroke-linecap:butt; stroke-linejoin:round; stroke-width:2; stroke-opacity:0.1; fill:none\" points=\"\n  175.445,312.327 2352.76,312.327 \n  \"/>\n<polyline clip-path=\"url(#clip260)\" style=\"stroke:#000000; stroke-linecap:butt; stroke-linejoin:round; stroke-width:4; stroke-opacity:1; fill:none\" points=\"\n  175.445,1423.18 175.445,123.472 \n  \"/>\n<polyline clip-path=\"url(#clip260)\" style=\"stroke:#000000; stroke-linecap:butt; stroke-linejoin:round; stroke-width:4; stroke-opacity:1; fill:none\" points=\"\n  175.445,1383.9 201.573,1383.9 \n  \"/>\n<polyline clip-path=\"url(#clip260)\" style=\"stroke:#000000; stroke-linecap:butt; stroke-linejoin:round; stroke-width:4; stroke-opacity:1; fill:none\" points=\"\n  175.445,1169.58 201.573,1169.58 \n  \"/>\n<polyline clip-path=\"url(#clip260)\" style=\"stroke:#000000; stroke-linecap:butt; stroke-linejoin:round; stroke-width:4; stroke-opacity:1; fill:none\" points=\"\n  175.445,955.27 201.573,955.27 \n  \"/>\n<polyline clip-path=\"url(#clip260)\" style=\"stroke:#000000; stroke-linecap:butt; stroke-linejoin:round; stroke-width:4; stroke-opacity:1; fill:none\" points=\"\n  175.445,740.956 201.573,740.956 \n  \"/>\n<polyline clip-path=\"url(#clip260)\" style=\"stroke:#000000; stroke-linecap:butt; stroke-linejoin:round; stroke-width:4; stroke-opacity:1; fill:none\" points=\"\n  175.445,526.641 201.573,526.641 \n  \"/>\n<polyline clip-path=\"url(#clip260)\" style=\"stroke:#000000; stroke-linecap:butt; stroke-linejoin:round; stroke-width:4; stroke-opacity:1; fill:none\" points=\"\n  175.445,312.327 201.573,312.327 \n  \"/>\n<path clip-path=\"url(#clip260)\" d=\"M119.538 1397.24 L127.177 1397.24 L127.177 1370.88 L118.867 1372.54 L118.867 1368.29 L127.13 1366.62 L131.806 1366.62 L131.806 1397.24 L139.445 1397.24 L139.445 1401.18 L119.538 1401.18 L119.538 1397.24 Z\" fill=\"#000000\" fill-rule=\"evenodd\" fill-opacity=\"1\" /><path clip-path=\"url(#clip260)\" d=\"M123.126 1182.93 L139.445 1182.93 L139.445 1186.86 L117.501 1186.86 L117.501 1182.93 Q120.163 1180.17 124.746 1175.54 Q129.353 1170.89 130.533 1169.55 Q132.779 1167.03 133.658 1165.29 Q134.561 1163.53 134.561 1161.84 Q134.561 1159.09 132.617 1157.35 Q130.695 1155.61 127.593 1155.61 Q125.394 1155.61 122.941 1156.38 Q120.51 1157.14 117.732 1158.69 L117.732 1153.97 Q120.556 1152.84 123.01 1152.26 Q125.464 1151.68 127.501 1151.68 Q132.871 1151.68 136.066 1154.36 Q139.26 1157.05 139.26 1161.54 Q139.26 1163.67 138.45 1165.59 Q137.663 1167.49 135.556 1170.08 Q134.978 1170.75 131.876 1173.97 Q128.774 1177.17 123.126 1182.93 Z\" fill=\"#000000\" fill-rule=\"evenodd\" fill-opacity=\"1\" /><path clip-path=\"url(#clip260)\" d=\"M132.316 953.916 Q135.672 954.633 137.547 956.902 Q139.445 959.17 139.445 962.504 Q139.445 967.619 135.927 970.42 Q132.408 973.221 125.927 973.221 Q123.751 973.221 121.436 972.781 Q119.144 972.365 116.691 971.508 L116.691 966.994 Q118.635 968.129 120.95 968.707 Q123.265 969.286 125.788 969.286 Q130.186 969.286 132.478 967.55 Q134.792 965.814 134.792 962.504 Q134.792 959.448 132.64 957.735 Q130.51 955.999 126.691 955.999 L122.663 955.999 L122.663 952.157 L126.876 952.157 Q130.325 952.157 132.154 950.791 Q133.982 949.402 133.982 946.809 Q133.982 944.147 132.084 942.735 Q130.209 941.3 126.691 941.3 Q124.769 941.3 122.57 941.717 Q120.371 942.133 117.732 943.013 L117.732 938.846 Q120.394 938.106 122.709 937.735 Q125.047 937.365 127.107 937.365 Q132.431 937.365 135.533 939.795 Q138.635 942.203 138.635 946.323 Q138.635 949.194 136.992 951.184 Q135.348 953.152 132.316 953.916 Z\" fill=\"#000000\" fill-rule=\"evenodd\" fill-opacity=\"1\" /><path clip-path=\"url(#clip260)\" d=\"M129.862 727.75 L118.056 746.199 L129.862 746.199 L129.862 727.75 M128.635 723.676 L134.515 723.676 L134.515 746.199 L139.445 746.199 L139.445 750.087 L134.515 750.087 L134.515 758.236 L129.862 758.236 L129.862 750.087 L114.26 750.087 L114.26 745.574 L128.635 723.676 Z\" fill=\"#000000\" fill-rule=\"evenodd\" fill-opacity=\"1\" /><path clip-path=\"url(#clip260)\" d=\"M118.543 509.361 L136.899 509.361 L136.899 513.296 L122.825 513.296 L122.825 521.768 Q123.843 521.421 124.862 521.259 Q125.88 521.074 126.899 521.074 Q132.686 521.074 136.066 524.245 Q139.445 527.417 139.445 532.833 Q139.445 538.412 135.973 541.514 Q132.501 544.592 126.181 544.592 Q124.005 544.592 121.737 544.222 Q119.492 543.852 117.084 543.111 L117.084 538.412 Q119.168 539.546 121.39 540.102 Q123.612 540.657 126.089 540.657 Q130.093 540.657 132.431 538.551 Q134.769 536.444 134.769 532.833 Q134.769 529.222 132.431 527.116 Q130.093 525.009 126.089 525.009 Q124.214 525.009 122.339 525.426 Q120.487 525.843 118.543 526.722 L118.543 509.361 Z\" fill=\"#000000\" fill-rule=\"evenodd\" fill-opacity=\"1\" /><path clip-path=\"url(#clip260)\" d=\"M127.917 310.463 Q124.769 310.463 122.918 312.616 Q121.089 314.769 121.089 318.519 Q121.089 322.246 122.918 324.422 Q124.769 326.574 127.917 326.574 Q131.066 326.574 132.894 324.422 Q134.746 322.246 134.746 318.519 Q134.746 314.769 132.894 312.616 Q131.066 310.463 127.917 310.463 M137.2 295.811 L137.2 300.07 Q135.441 299.236 133.635 298.797 Q131.853 298.357 130.093 298.357 Q125.464 298.357 123.01 301.482 Q120.58 304.607 120.232 310.926 Q121.598 308.912 123.658 307.848 Q125.718 306.76 128.195 306.76 Q133.404 306.76 136.413 309.931 Q139.445 313.079 139.445 318.519 Q139.445 323.843 136.297 327.06 Q133.149 330.278 127.917 330.278 Q121.922 330.278 118.751 325.695 Q115.58 321.088 115.58 312.361 Q115.58 304.167 119.468 299.306 Q123.357 294.422 129.908 294.422 Q131.667 294.422 133.45 294.769 Q135.255 295.116 137.2 295.811 Z\" fill=\"#000000\" fill-rule=\"evenodd\" fill-opacity=\"1\" /><path clip-path=\"url(#clip260)\" d=\"M16.4842 1276.76 L16.4842 1249.45 L21.895 1249.45 L21.895 1270.33 L35.8996 1270.33 L35.8996 1251.49 L41.3104 1251.49 L41.3104 1270.33 L64.0042 1270.33 L64.0042 1276.76 L16.4842 1276.76 Z\" fill=\"#000000\" fill-rule=\"evenodd\" fill-opacity=\"1\" /><path clip-path=\"url(#clip260)\" d=\"M46.0847 1229.3 Q46.0847 1236.4 47.7079 1239.14 Q49.3312 1241.87 53.2461 1241.87 Q56.3653 1241.87 58.2114 1239.84 Q60.0256 1237.77 60.0256 1234.23 Q60.0256 1229.37 56.5881 1226.44 Q53.1188 1223.48 47.3897 1223.48 L46.0847 1223.48 L46.0847 1229.3 M43.6657 1217.62 L64.0042 1217.62 L64.0042 1223.48 L58.5933 1223.48 Q61.8398 1225.48 63.3994 1228.47 Q64.9272 1231.47 64.9272 1235.79 Q64.9272 1241.27 61.8716 1244.52 Q58.7843 1247.73 53.6281 1247.73 Q47.6125 1247.73 44.5569 1243.72 Q41.5014 1239.68 41.5014 1231.69 L41.5014 1223.48 L40.9285 1223.48 Q36.8862 1223.48 34.6901 1226.15 Q32.4621 1228.79 32.4621 1233.6 Q32.4621 1236.65 33.1941 1239.55 Q33.9262 1242.45 35.3903 1245.12 L29.9795 1245.12 Q28.7381 1241.91 28.1334 1238.88 Q27.4968 1235.86 27.4968 1232.99 Q27.4968 1225.26 31.5072 1221.44 Q35.5176 1217.62 43.6657 1217.62 Z\" fill=\"#000000\" fill-rule=\"evenodd\" fill-opacity=\"1\" /><path clip-path=\"url(#clip260)\" d=\"M29.7248 1179.9 L35.1993 1179.9 Q33.8307 1182.39 33.1623 1184.9 Q32.4621 1187.38 32.4621 1189.93 Q32.4621 1195.63 36.0905 1198.78 Q39.6872 1201.93 46.212 1201.93 Q52.7369 1201.93 56.3653 1198.78 Q59.9619 1195.63 59.9619 1189.93 Q59.9619 1187.38 59.2935 1184.9 Q58.5933 1182.39 57.2247 1179.9 L62.6355 1179.9 Q63.7814 1182.35 64.3543 1185 Q64.9272 1187.61 64.9272 1190.57 Q64.9272 1198.62 59.8664 1203.36 Q54.8057 1208.1 46.212 1208.1 Q37.491 1208.1 32.4939 1203.33 Q27.4968 1198.52 27.4968 1190.18 Q27.4968 1187.48 28.0697 1184.9 Q28.6108 1182.32 29.7248 1179.9 Z\" fill=\"#000000\" fill-rule=\"evenodd\" fill-opacity=\"1\" /><path clip-path=\"url(#clip260)\" d=\"M18.2347 1163.93 L28.3562 1163.93 L28.3562 1151.86 L32.9077 1151.86 L32.9077 1163.93 L52.2594 1163.93 Q56.6199 1163.93 57.8613 1162.75 Q59.1026 1161.54 59.1026 1157.88 L59.1026 1151.86 L64.0042 1151.86 L64.0042 1157.88 Q64.0042 1164.66 61.4897 1167.24 Q58.9434 1169.81 52.2594 1169.81 L32.9077 1169.81 L32.9077 1174.11 L28.3562 1174.11 L28.3562 1169.81 L18.2347 1169.81 L18.2347 1163.93 Z\" fill=\"#000000\" fill-rule=\"evenodd\" fill-opacity=\"1\" /><path clip-path=\"url(#clip260)\" d=\"M32.4621 1130.35 Q32.4621 1135.06 36.1542 1137.79 Q39.8145 1140.53 46.212 1140.53 Q52.6095 1140.53 56.3017 1137.83 Q59.9619 1135.09 59.9619 1130.35 Q59.9619 1125.67 56.2698 1122.93 Q52.5777 1120.19 46.212 1120.19 Q39.8781 1120.19 36.186 1122.93 Q32.4621 1125.67 32.4621 1130.35 M27.4968 1130.35 Q27.4968 1122.71 32.4621 1118.35 Q37.4273 1113.99 46.212 1113.99 Q54.9649 1113.99 59.9619 1118.35 Q64.9272 1122.71 64.9272 1130.35 Q64.9272 1138.02 59.9619 1142.38 Q54.9649 1146.71 46.212 1146.71 Q37.4273 1146.71 32.4621 1142.38 Q27.4968 1138.02 27.4968 1130.35 Z\" fill=\"#000000\" fill-rule=\"evenodd\" fill-opacity=\"1\" /><path clip-path=\"url(#clip260)\" d=\"M33.8307 1083.62 Q33.2578 1084.61 33.0032 1085.79 Q32.7167 1086.93 32.7167 1088.33 Q32.7167 1093.3 35.9632 1095.97 Q39.1779 1098.61 45.2253 1098.61 L64.0042 1098.61 L64.0042 1104.5 L28.3562 1104.5 L28.3562 1098.61 L33.8944 1098.61 Q30.6479 1096.77 29.0883 1093.81 Q27.4968 1090.85 27.4968 1086.61 Q27.4968 1086.01 27.5923 1085.28 Q27.656 1084.55 27.8151 1083.65 L33.8307 1083.62 Z\" fill=\"#000000\" fill-rule=\"evenodd\" fill-opacity=\"1\" /><path clip-path=\"url(#clip260)\" d=\"M32.4621 1042.95 Q32.4621 1047.66 36.1542 1050.39 Q39.8145 1053.13 46.212 1053.13 Q52.6095 1053.13 56.3017 1050.43 Q59.9619 1047.69 59.9619 1042.95 Q59.9619 1038.27 56.2698 1035.53 Q52.5777 1032.79 46.212 1032.79 Q39.8781 1032.79 36.186 1035.53 Q32.4621 1038.27 32.4621 1042.95 M27.4968 1042.95 Q27.4968 1035.31 32.4621 1030.95 Q37.4273 1026.59 46.212 1026.59 Q54.9649 1026.59 59.9619 1030.95 Q64.9272 1035.31 64.9272 1042.95 Q64.9272 1050.62 59.9619 1054.98 Q54.9649 1059.31 46.212 1059.31 Q37.4273 1059.31 32.4621 1054.98 Q27.4968 1050.62 27.4968 1042.95 Z\" fill=\"#000000\" fill-rule=\"evenodd\" fill-opacity=\"1\" /><path clip-path=\"url(#clip260)\" d=\"M14.479 998.831 L19.3487 998.831 L19.3487 1004.43 Q19.3487 1007.58 20.6219 1008.83 Q21.895 1010.03 25.2052 1010.03 L28.3562 1010.03 L28.3562 1000.39 L32.9077 1000.39 L32.9077 1010.03 L64.0042 1010.03 L64.0042 1015.92 L32.9077 1015.92 L32.9077 1021.52 L28.3562 1021.52 L28.3562 1015.92 L25.8736 1015.92 Q19.9216 1015.92 17.2162 1013.15 Q14.479 1010.38 14.479 1004.37 L14.479 998.831 Z\" fill=\"#000000\" fill-rule=\"evenodd\" fill-opacity=\"1\" /><path clip-path=\"url(#clip260)\" d=\"M58.657 967.544 L77.5631 967.544 L77.5631 973.432 L28.3562 973.432 L28.3562 967.544 L33.7671 967.544 Q30.5842 965.698 29.0564 962.897 Q27.4968 960.064 27.4968 956.149 Q27.4968 949.656 32.6531 945.614 Q37.8093 941.54 46.212 941.54 Q54.6147 941.54 59.771 945.614 Q64.9272 949.656 64.9272 956.149 Q64.9272 960.064 63.3994 962.897 Q61.8398 965.698 58.657 967.544 M46.212 947.619 Q39.7508 947.619 36.0905 950.293 Q32.3984 952.934 32.3984 957.581 Q32.3984 962.228 36.0905 964.902 Q39.7508 967.544 46.212 967.544 Q52.6732 967.544 56.3653 964.902 Q60.0256 962.228 60.0256 957.581 Q60.0256 952.934 56.3653 950.293 Q52.6732 947.619 46.212 947.619 Z\" fill=\"#000000\" fill-rule=\"evenodd\" fill-opacity=\"1\" /><path clip-path=\"url(#clip260)\" d=\"M44.7161 901.34 L47.5806 901.34 L47.5806 928.267 Q53.6281 927.885 56.8109 924.639 Q59.9619 921.36 59.9619 915.536 Q59.9619 912.162 59.1344 909.011 Q58.3069 905.828 56.6518 902.709 L62.1899 902.709 Q63.5267 905.86 64.227 909.17 Q64.9272 912.48 64.9272 915.886 Q64.9272 924.416 59.9619 929.413 Q54.9967 934.378 46.5303 934.378 Q37.7774 934.378 32.6531 929.668 Q27.4968 924.925 27.4968 916.904 Q27.4968 909.711 32.1438 905.542 Q36.7589 901.34 44.7161 901.34 M42.9973 907.197 Q38.1912 907.26 35.3266 909.902 Q32.4621 912.512 32.4621 916.841 Q32.4621 921.742 35.2312 924.702 Q38.0002 927.631 43.0292 928.076 L42.9973 907.197 Z\" fill=\"#000000\" fill-rule=\"evenodd\" fill-opacity=\"1\" /><path clip-path=\"url(#clip260)\" d=\"M33.8307 871.071 Q33.2578 872.058 33.0032 873.236 Q32.7167 874.382 32.7167 875.782 Q32.7167 880.747 35.9632 883.421 Q39.1779 886.063 45.2253 886.063 L64.0042 886.063 L64.0042 891.951 L28.3562 891.951 L28.3562 886.063 L33.8944 886.063 Q30.6479 884.217 29.0883 881.257 Q27.4968 878.296 27.4968 874.063 Q27.4968 873.459 27.5923 872.726 Q27.656 871.994 27.8151 871.103 L33.8307 871.071 Z\" fill=\"#000000\" fill-rule=\"evenodd\" fill-opacity=\"1\" /><path clip-path=\"url(#clip260)\" d=\"M14.479 846.882 L19.3487 846.882 L19.3487 852.484 Q19.3487 855.635 20.6219 856.876 Q21.895 858.085 25.2052 858.085 L28.3562 858.085 L28.3562 848.441 L32.9077 848.441 L32.9077 858.085 L64.0042 858.085 L64.0042 863.974 L32.9077 863.974 L32.9077 869.575 L28.3562 869.575 L28.3562 863.974 L25.8736 863.974 Q19.9216 863.974 17.2162 861.205 Q14.479 858.435 14.479 852.42 L14.479 846.882 Z\" fill=\"#000000\" fill-rule=\"evenodd\" fill-opacity=\"1\" /><path clip-path=\"url(#clip260)\" d=\"M32.4621 828.167 Q32.4621 832.877 36.1542 835.614 Q39.8145 838.352 46.212 838.352 Q52.6095 838.352 56.3017 835.646 Q59.9619 832.909 59.9619 828.167 Q59.9619 823.488 56.2698 820.75 Q52.5777 818.013 46.212 818.013 Q39.8781 818.013 36.186 820.75 Q32.4621 823.488 32.4621 828.167 M27.4968 828.167 Q27.4968 820.528 32.4621 816.167 Q37.4273 811.807 46.212 811.807 Q54.9649 811.807 59.9619 816.167 Q64.9272 820.528 64.9272 828.167 Q64.9272 835.837 59.9619 840.198 Q54.9649 844.526 46.212 844.526 Q37.4273 844.526 32.4621 840.198 Q27.4968 835.837 27.4968 828.167 Z\" fill=\"#000000\" fill-rule=\"evenodd\" fill-opacity=\"1\" /><path clip-path=\"url(#clip260)\" d=\"M33.8307 781.442 Q33.2578 782.429 33.0032 783.607 Q32.7167 784.752 32.7167 786.153 Q32.7167 791.118 35.9632 793.792 Q39.1779 796.433 45.2253 796.433 L64.0042 796.433 L64.0042 802.322 L28.3562 802.322 L28.3562 796.433 L33.8944 796.433 Q30.6479 794.587 29.0883 791.627 Q27.4968 788.667 27.4968 784.434 Q27.4968 783.829 27.5923 783.097 Q27.656 782.365 27.8151 781.474 L33.8307 781.442 Z\" fill=\"#000000\" fill-rule=\"evenodd\" fill-opacity=\"1\" /><path clip-path=\"url(#clip260)\" d=\"M35.1993 748.691 Q31.2526 746.495 29.3747 743.439 Q27.4968 740.383 27.4968 736.246 Q27.4968 730.676 31.4117 727.652 Q35.2948 724.628 42.4881 724.628 L64.0042 724.628 L64.0042 730.517 L42.679 730.517 Q37.5546 730.517 35.072 732.331 Q32.5894 734.145 32.5894 737.869 Q32.5894 742.42 35.6131 745.062 Q38.6368 747.704 43.8567 747.704 L64.0042 747.704 L64.0042 753.592 L42.679 753.592 Q37.5228 753.592 35.072 755.407 Q32.5894 757.221 32.5894 761.008 Q32.5894 765.496 35.6449 768.138 Q38.6686 770.78 43.8567 770.78 L64.0042 770.78 L64.0042 776.668 L28.3562 776.668 L28.3562 770.78 L33.8944 770.78 Q30.616 768.775 29.0564 765.974 Q27.4968 763.173 27.4968 759.321 Q27.4968 755.438 29.4702 752.733 Q31.4436 749.996 35.1993 748.691 Z\" fill=\"#000000\" fill-rule=\"evenodd\" fill-opacity=\"1\" /><path clip-path=\"url(#clip260)\" d=\"M46.0847 696.747 Q46.0847 703.844 47.7079 706.582 Q49.3312 709.319 53.2461 709.319 Q56.3653 709.319 58.2114 707.282 Q60.0256 705.213 60.0256 701.68 Q60.0256 696.81 56.5881 693.882 Q53.1188 690.922 47.3897 690.922 L46.0847 690.922 L46.0847 696.747 M43.6657 685.065 L64.0042 685.065 L64.0042 690.922 L58.5933 690.922 Q61.8398 692.927 63.3994 695.919 Q64.9272 698.911 64.9272 703.24 Q64.9272 708.714 61.8716 711.961 Q58.7843 715.175 53.6281 715.175 Q47.6125 715.175 44.5569 711.165 Q41.5014 707.123 41.5014 699.134 L41.5014 690.922 L40.9285 690.922 Q36.8862 690.922 34.6901 693.596 Q32.4621 696.237 32.4621 701.043 Q32.4621 704.099 33.1941 706.995 Q33.9262 709.892 35.3903 712.565 L29.9795 712.565 Q28.7381 709.351 28.1334 706.327 Q27.4968 703.303 27.4968 700.439 Q27.4968 692.704 31.5072 688.885 Q35.5176 685.065 43.6657 685.065 Z\" fill=\"#000000\" fill-rule=\"evenodd\" fill-opacity=\"1\" /><path clip-path=\"url(#clip260)\" d=\"M42.4881 643.37 L64.0042 643.37 L64.0042 649.227 L42.679 649.227 Q37.6183 649.227 35.1038 651.2 Q32.5894 653.173 32.5894 657.12 Q32.5894 661.862 35.6131 664.6 Q38.6368 667.337 43.8567 667.337 L64.0042 667.337 L64.0042 673.225 L28.3562 673.225 L28.3562 667.337 L33.8944 667.337 Q30.6797 665.236 29.0883 662.404 Q27.4968 659.539 27.4968 655.815 Q27.4968 649.672 31.3163 646.521 Q35.1038 643.37 42.4881 643.37 Z\" fill=\"#000000\" fill-rule=\"evenodd\" fill-opacity=\"1\" /><path clip-path=\"url(#clip260)\" d=\"M29.7248 606.035 L35.1993 606.035 Q33.8307 608.518 33.1623 611.032 Q32.4621 613.515 32.4621 616.061 Q32.4621 621.759 36.0905 624.91 Q39.6872 628.061 46.212 628.061 Q52.7369 628.061 56.3653 624.91 Q59.9619 621.759 59.9619 616.061 Q59.9619 613.515 59.2935 611.032 Q58.5933 608.518 57.2247 606.035 L62.6355 606.035 Q63.7814 608.486 64.3543 611.128 Q64.9272 613.738 64.9272 616.698 Q64.9272 624.75 59.8664 629.493 Q54.8057 634.235 46.212 634.235 Q37.491 634.235 32.4939 629.461 Q27.4968 624.655 27.4968 616.316 Q27.4968 613.61 28.0697 611.032 Q28.6108 608.454 29.7248 606.035 Z\" fill=\"#000000\" fill-rule=\"evenodd\" fill-opacity=\"1\" /><path clip-path=\"url(#clip260)\" d=\"M44.7161 565.358 L47.5806 565.358 L47.5806 592.285 Q53.6281 591.903 56.8109 588.657 Q59.9619 585.378 59.9619 579.554 Q59.9619 576.18 59.1344 573.029 Q58.3069 569.846 56.6518 566.727 L62.1899 566.727 Q63.5267 569.878 64.227 573.188 Q64.9272 576.498 64.9272 579.904 Q64.9272 588.434 59.9619 593.431 Q54.9967 598.396 46.5303 598.396 Q37.7774 598.396 32.6531 593.686 Q27.4968 588.943 27.4968 580.923 Q27.4968 573.729 32.1438 569.56 Q36.7589 565.358 44.7161 565.358 M42.9973 571.215 Q38.1912 571.278 35.3266 573.92 Q32.4621 576.53 32.4621 580.859 Q32.4621 585.76 35.2312 588.72 Q38.0002 591.649 43.0292 592.094 L42.9973 571.215 Z\" fill=\"#000000\" fill-rule=\"evenodd\" fill-opacity=\"1\" /><path clip-path=\"url(#clip260)\" d=\"M28.3562 535.026 L28.3562 529.169 L64.0042 529.169 L64.0042 535.026 L28.3562 535.026 M14.479 535.026 L14.479 529.169 L21.895 529.169 L21.895 535.026 L14.479 535.026 Z\" fill=\"#000000\" fill-rule=\"evenodd\" fill-opacity=\"1\" /><path clip-path=\"url(#clip260)\" d=\"M42.4881 487.283 L64.0042 487.283 L64.0042 493.139 L42.679 493.139 Q37.6183 493.139 35.1038 495.113 Q32.5894 497.086 32.5894 501.033 Q32.5894 505.775 35.6131 508.513 Q38.6368 511.25 43.8567 511.25 L64.0042 511.25 L64.0042 517.138 L28.3562 517.138 L28.3562 511.25 L33.8944 511.25 Q30.6797 509.149 29.0883 506.316 Q27.4968 503.452 27.4968 499.728 Q27.4968 493.585 31.3163 490.434 Q35.1038 487.283 42.4881 487.283 Z\" fill=\"#000000\" fill-rule=\"evenodd\" fill-opacity=\"1\" /><path clip-path=\"url(#clip260)\" d=\"M29.7248 449.948 L35.1993 449.948 Q33.8307 452.431 33.1623 454.945 Q32.4621 457.428 32.4621 459.974 Q32.4621 465.671 36.0905 468.822 Q39.6872 471.973 46.212 471.973 Q52.7369 471.973 56.3653 468.822 Q59.9619 465.671 59.9619 459.974 Q59.9619 457.428 59.2935 454.945 Q58.5933 452.431 57.2247 449.948 L62.6355 449.948 Q63.7814 452.399 64.3543 455.041 Q64.9272 457.651 64.9272 460.611 Q64.9272 468.663 59.8664 473.406 Q54.8057 478.148 46.212 478.148 Q37.491 478.148 32.4939 473.374 Q27.4968 468.568 27.4968 460.229 Q27.4968 457.523 28.0697 454.945 Q28.6108 452.367 29.7248 449.948 Z\" fill=\"#000000\" fill-rule=\"evenodd\" fill-opacity=\"1\" /><path clip-path=\"url(#clip260)\" d=\"M33.8307 419.106 Q33.2578 420.093 33.0032 421.271 Q32.7167 422.416 32.7167 423.817 Q32.7167 428.782 35.9632 431.456 Q39.1779 434.097 45.2253 434.097 L64.0042 434.097 L64.0042 439.986 L28.3562 439.986 L28.3562 434.097 L33.8944 434.097 Q30.6479 432.251 29.0883 429.291 Q27.4968 426.331 27.4968 422.098 Q27.4968 421.493 27.5923 420.761 Q27.656 420.029 27.8151 419.138 L33.8307 419.106 Z\" fill=\"#000000\" fill-rule=\"evenodd\" fill-opacity=\"1\" /><path clip-path=\"url(#clip260)\" d=\"M44.7161 383.904 L47.5806 383.904 L47.5806 410.831 Q53.6281 410.449 56.8109 407.202 Q59.9619 403.924 59.9619 398.099 Q59.9619 394.726 59.1344 391.575 Q58.3069 388.392 56.6518 385.273 L62.1899 385.273 Q63.5267 388.424 64.227 391.734 Q64.9272 395.044 64.9272 398.45 Q64.9272 406.98 59.9619 411.977 Q54.9967 416.942 46.5303 416.942 Q37.7774 416.942 32.6531 412.231 Q27.4968 407.489 27.4968 399.468 Q27.4968 392.275 32.1438 388.105 Q36.7589 383.904 44.7161 383.904 M42.9973 389.76 Q38.1912 389.824 35.3266 392.466 Q32.4621 395.076 32.4621 399.404 Q32.4621 404.306 35.2312 407.266 Q38.0002 410.194 43.0292 410.64 L42.9973 389.76 Z\" fill=\"#000000\" fill-rule=\"evenodd\" fill-opacity=\"1\" /><path clip-path=\"url(#clip260)\" d=\"M46.0847 358.091 Q46.0847 365.189 47.7079 367.926 Q49.3312 370.663 53.2461 370.663 Q56.3653 370.663 58.2114 368.626 Q60.0256 366.557 60.0256 363.024 Q60.0256 358.155 56.5881 355.226 Q53.1188 352.266 47.3897 352.266 L46.0847 352.266 L46.0847 358.091 M43.6657 346.41 L64.0042 346.41 L64.0042 352.266 L58.5933 352.266 Q61.8398 354.272 63.3994 357.263 Q64.9272 360.255 64.9272 364.584 Q64.9272 370.058 61.8716 373.305 Q58.7843 376.52 53.6281 376.52 Q47.6125 376.52 44.5569 372.509 Q41.5014 368.467 41.5014 360.478 L41.5014 352.266 L40.9285 352.266 Q36.8862 352.266 34.6901 354.94 Q32.4621 357.582 32.4621 362.388 Q32.4621 365.443 33.1941 368.34 Q33.9262 371.236 35.3903 373.91 L29.9795 373.91 Q28.7381 370.695 28.1334 367.671 Q27.4968 364.648 27.4968 361.783 Q27.4968 354.049 31.5072 350.229 Q35.5176 346.41 43.6657 346.41 Z\" fill=\"#000000\" fill-rule=\"evenodd\" fill-opacity=\"1\" /><path clip-path=\"url(#clip260)\" d=\"M29.4065 311.621 L34.9447 311.621 Q33.6716 314.104 33.035 316.778 Q32.3984 319.451 32.3984 322.316 Q32.3984 326.676 33.7352 328.872 Q35.072 331.037 37.7456 331.037 Q39.7826 331.037 40.9603 329.477 Q42.1061 327.917 43.1565 323.207 L43.6021 321.202 Q44.9389 314.963 47.3897 312.353 Q49.8086 309.712 54.1691 309.712 Q59.1344 309.712 62.0308 313.658 Q64.9272 317.573 64.9272 324.448 Q64.9272 327.313 64.3543 330.432 Q63.8132 333.519 62.6992 336.957 L56.6518 336.957 Q58.3387 333.71 59.198 330.559 Q60.0256 327.408 60.0256 324.321 Q60.0256 320.183 58.6251 317.955 Q57.1929 315.727 54.6147 315.727 Q52.2276 315.727 50.9545 317.35 Q49.6813 318.942 48.5037 324.385 L48.0262 326.422 Q46.8804 331.864 44.5251 334.283 Q42.138 336.702 38.0002 336.702 Q32.9713 336.702 30.2341 333.137 Q27.4968 329.573 27.4968 323.016 Q27.4968 319.769 27.9743 316.905 Q28.4517 314.04 29.4065 311.621 Z\" fill=\"#000000\" fill-rule=\"evenodd\" fill-opacity=\"1\" /><path clip-path=\"url(#clip260)\" d=\"M44.7161 269.894 L47.5806 269.894 L47.5806 296.821 Q53.6281 296.439 56.8109 293.193 Q59.9619 289.914 59.9619 284.09 Q59.9619 280.716 59.1344 277.565 Q58.3069 274.382 56.6518 271.263 L62.1899 271.263 Q63.5267 274.414 64.227 277.724 Q64.9272 281.034 64.9272 284.44 Q64.9272 292.97 59.9619 297.967 Q54.9967 302.932 46.5303 302.932 Q37.7774 302.932 32.6531 298.221 Q27.4968 293.479 27.4968 285.458 Q27.4968 278.265 32.1438 274.095 Q36.7589 269.894 44.7161 269.894 M42.9973 275.751 Q38.1912 275.814 35.3266 278.456 Q32.4621 281.066 32.4621 285.395 Q32.4621 290.296 35.2312 293.256 Q38.0002 296.184 43.0292 296.63 L42.9973 275.751 Z\" fill=\"#000000\" fill-rule=\"evenodd\" fill-opacity=\"1\" /><path clip-path=\"url(#clip260)\" d=\"M441.321 18.8205 L441.321 41.5461 L451.611 41.5461 Q457.322 41.5461 460.442 38.5889 Q463.561 35.6318 463.561 30.163 Q463.561 24.7348 460.442 21.7777 Q457.322 18.8205 451.611 18.8205 L441.321 18.8205 M433.139 12.096 L451.611 12.096 Q461.778 12.096 466.964 16.714 Q472.189 21.2916 472.189 30.163 Q472.189 39.1155 466.964 43.6931 Q461.778 48.2706 451.611 48.2706 L441.321 48.2706 L441.321 72.576 L433.139 72.576 L433.139 12.096 Z\" fill=\"#000000\" fill-rule=\"evenodd\" fill-opacity=\"1\" /><path clip-path=\"url(#clip260)\" d=\"M518.694 48.0275 L518.694 51.6733 L484.423 51.6733 Q484.909 59.3701 489.041 63.421 Q493.213 67.4314 500.627 67.4314 Q504.921 67.4314 508.931 66.3781 Q512.982 65.3249 516.952 63.2184 L516.952 70.267 Q512.941 71.9684 508.728 72.8596 Q504.516 73.7508 500.181 73.7508 Q489.325 73.7508 482.965 67.4314 Q476.645 61.1119 476.645 50.3365 Q476.645 39.1965 482.641 32.6746 Q488.676 26.1121 498.885 26.1121 Q508.04 26.1121 513.346 32.0264 Q518.694 37.9003 518.694 48.0275 M511.24 45.84 Q511.159 39.7232 507.797 36.0774 Q504.475 32.4315 498.966 32.4315 Q492.727 32.4315 488.96 35.9558 Q485.233 39.4801 484.666 45.8805 L511.24 45.84 Z\" fill=\"#000000\" fill-rule=\"evenodd\" fill-opacity=\"1\" /><path clip-path=\"url(#clip260)\" d=\"M557.218 34.1734 Q555.962 33.4443 554.463 33.1202 Q553.005 32.7556 551.222 32.7556 Q544.903 32.7556 541.5 36.8875 Q538.138 40.9789 538.138 48.6757 L538.138 72.576 L530.644 72.576 L530.644 27.2059 L538.138 27.2059 L538.138 34.2544 Q540.488 30.1225 544.255 28.1376 Q548.022 26.1121 553.41 26.1121 Q554.18 26.1121 555.111 26.2337 Q556.043 26.3147 557.177 26.5172 L557.218 34.1734 Z\" fill=\"#000000\" fill-rule=\"evenodd\" fill-opacity=\"1\" /><path clip-path=\"url(#clip260)\" d=\"M588.005 9.54393 L588.005 15.7418 L580.875 15.7418 Q576.865 15.7418 575.285 17.3622 Q573.745 18.9825 573.745 23.1955 L573.745 27.2059 L586.02 27.2059 L586.02 32.9987 L573.745 32.9987 L573.745 72.576 L566.251 72.576 L566.251 32.9987 L559.122 32.9987 L559.122 27.2059 L566.251 27.2059 L566.251 24.0462 Q566.251 16.471 569.776 13.0277 Q573.3 9.54393 580.956 9.54393 L588.005 9.54393 Z\" fill=\"#000000\" fill-rule=\"evenodd\" fill-opacity=\"1\" /><path clip-path=\"url(#clip260)\" d=\"M611.824 32.4315 Q605.829 32.4315 602.345 37.1306 Q598.861 41.7891 598.861 49.9314 Q598.861 58.0738 602.304 62.7728 Q605.788 67.4314 611.824 67.4314 Q617.779 67.4314 621.263 62.7323 Q624.746 58.0333 624.746 49.9314 Q624.746 41.8701 621.263 37.1711 Q617.779 32.4315 611.824 32.4315 M611.824 26.1121 Q621.546 26.1121 627.096 32.4315 Q632.646 38.7509 632.646 49.9314 Q632.646 61.0714 627.096 67.4314 Q621.546 73.7508 611.824 73.7508 Q602.061 73.7508 596.512 67.4314 Q591.002 61.0714 591.002 49.9314 Q591.002 38.7509 596.512 32.4315 Q602.061 26.1121 611.824 26.1121 Z\" fill=\"#000000\" fill-rule=\"evenodd\" fill-opacity=\"1\" /><path clip-path=\"url(#clip260)\" d=\"M671.291 34.1734 Q670.035 33.4443 668.537 33.1202 Q667.078 32.7556 665.296 32.7556 Q658.976 32.7556 655.574 36.8875 Q652.211 40.9789 652.211 48.6757 L652.211 72.576 L644.717 72.576 L644.717 27.2059 L652.211 27.2059 L652.211 34.2544 Q654.561 30.1225 658.328 28.1376 Q662.096 26.1121 667.483 26.1121 Q668.253 26.1121 669.185 26.2337 Q670.116 26.3147 671.251 26.5172 L671.291 34.1734 Z\" fill=\"#000000\" fill-rule=\"evenodd\" fill-opacity=\"1\" /><path clip-path=\"url(#clip260)\" d=\"M712.975 35.9153 Q715.77 30.8922 719.659 28.5022 Q723.548 26.1121 728.814 26.1121 Q735.903 26.1121 739.752 31.0947 Q743.6 36.0368 743.6 45.1919 L743.6 72.576 L736.106 72.576 L736.106 45.4349 Q736.106 38.913 733.797 35.7533 Q731.488 32.5936 726.748 32.5936 Q720.955 32.5936 717.593 36.4419 Q714.231 40.2903 714.231 46.9338 L714.231 72.576 L706.737 72.576 L706.737 45.4349 Q706.737 38.8725 704.428 35.7533 Q702.119 32.5936 697.298 32.5936 Q691.586 32.5936 688.224 36.4824 Q684.862 40.3308 684.862 46.9338 L684.862 72.576 L677.368 72.576 L677.368 27.2059 L684.862 27.2059 L684.862 34.2544 Q687.414 30.082 690.979 28.0971 Q694.543 26.1121 699.445 26.1121 Q704.387 26.1121 707.83 28.6237 Q711.314 31.1352 712.975 35.9153 Z\" fill=\"#000000\" fill-rule=\"evenodd\" fill-opacity=\"1\" /><path clip-path=\"url(#clip260)\" d=\"M779.086 49.7694 Q770.052 49.7694 766.569 51.8354 Q763.085 53.9013 763.085 58.8839 Q763.085 62.8538 765.677 65.2034 Q768.31 67.5124 772.807 67.5124 Q779.005 67.5124 782.732 63.1374 Q786.499 58.7219 786.499 51.4303 L786.499 49.7694 L779.086 49.7694 M793.953 46.6907 L793.953 72.576 L786.499 72.576 L786.499 65.6895 Q783.947 69.8214 780.139 71.8063 Q776.331 73.7508 770.822 73.7508 Q763.854 73.7508 759.722 69.8619 Q755.631 65.9325 755.631 59.3701 Q755.631 51.7138 760.735 47.825 Q765.88 43.9361 776.048 43.9361 L786.499 43.9361 L786.499 43.2069 Q786.499 38.0623 783.096 35.2672 Q779.734 32.4315 773.617 32.4315 Q769.728 32.4315 766.042 33.3632 Q762.356 34.295 758.953 36.1584 L758.953 29.2718 Q763.044 27.692 766.893 26.9223 Q770.741 26.1121 774.387 26.1121 Q784.23 26.1121 789.092 31.2163 Q793.953 36.3204 793.953 46.6907 Z\" fill=\"#000000\" fill-rule=\"evenodd\" fill-opacity=\"1\" /><path clip-path=\"url(#clip260)\" d=\"M847.019 45.1919 L847.019 72.576 L839.566 72.576 L839.566 45.4349 Q839.566 38.994 837.054 35.7938 Q834.543 32.5936 829.52 32.5936 Q823.484 32.5936 820 36.4419 Q816.516 40.2903 816.516 46.9338 L816.516 72.576 L809.022 72.576 L809.022 27.2059 L816.516 27.2059 L816.516 34.2544 Q819.19 30.163 822.795 28.1376 Q826.441 26.1121 831.18 26.1121 Q838.999 26.1121 843.009 30.9732 Q847.019 35.7938 847.019 45.1919 Z\" fill=\"#000000\" fill-rule=\"evenodd\" fill-opacity=\"1\" /><path clip-path=\"url(#clip260)\" d=\"M894.537 28.9478 L894.537 35.9153 Q891.377 34.1734 888.177 33.3227 Q885.017 32.4315 881.776 32.4315 Q874.525 32.4315 870.515 37.0496 Q866.504 41.6271 866.504 49.9314 Q866.504 58.2358 870.515 62.8538 Q874.525 67.4314 881.776 67.4314 Q885.017 67.4314 888.177 66.5807 Q891.377 65.6895 894.537 63.9476 L894.537 70.8341 Q891.417 72.2924 888.055 73.0216 Q884.733 73.7508 880.966 73.7508 Q870.717 73.7508 864.681 67.3098 Q858.646 60.8689 858.646 49.9314 Q858.646 38.832 864.722 32.472 Q870.839 26.1121 881.452 26.1121 Q884.895 26.1121 888.177 26.8413 Q891.458 27.5299 894.537 28.9478 Z\" fill=\"#000000\" fill-rule=\"evenodd\" fill-opacity=\"1\" /><path clip-path=\"url(#clip260)\" d=\"M946.307 48.0275 L946.307 51.6733 L912.036 51.6733 Q912.523 59.3701 916.655 63.421 Q920.827 67.4314 928.24 67.4314 Q932.534 67.4314 936.544 66.3781 Q940.595 65.3249 944.565 63.2184 L944.565 70.267 Q940.555 71.9684 936.342 72.8596 Q932.129 73.7508 927.794 73.7508 Q916.938 73.7508 910.578 67.4314 Q904.259 61.1119 904.259 50.3365 Q904.259 39.1965 910.254 32.6746 Q916.29 26.1121 926.498 26.1121 Q935.653 26.1121 940.96 32.0264 Q946.307 37.9003 946.307 48.0275 M938.853 45.84 Q938.772 39.7232 935.41 36.0774 Q932.088 32.4315 926.579 32.4315 Q920.341 32.4315 916.573 35.9558 Q912.847 39.4801 912.28 45.8805 L938.853 45.84 Z\" fill=\"#000000\" fill-rule=\"evenodd\" fill-opacity=\"1\" /><path clip-path=\"url(#clip260)\" d=\"M984.912 27.2059 L992.366 27.2059 L992.366 72.576 L984.912 72.576 L984.912 27.2059 M984.912 9.54393 L992.366 9.54393 L992.366 18.9825 L984.912 18.9825 L984.912 9.54393 Z\" fill=\"#000000\" fill-rule=\"evenodd\" fill-opacity=\"1\" /><path clip-path=\"url(#clip260)\" d=\"M1045.68 45.1919 L1045.68 72.576 L1038.22 72.576 L1038.22 45.4349 Q1038.22 38.994 1035.71 35.7938 Q1033.2 32.5936 1028.18 32.5936 Q1022.14 32.5936 1018.66 36.4419 Q1015.17 40.2903 1015.17 46.9338 L1015.17 72.576 L1007.68 72.576 L1007.68 27.2059 L1015.17 27.2059 L1015.17 34.2544 Q1017.85 30.163 1021.45 28.1376 Q1025.1 26.1121 1029.84 26.1121 Q1037.66 26.1121 1041.67 30.9732 Q1045.68 35.7938 1045.68 45.1919 Z\" fill=\"#000000\" fill-rule=\"evenodd\" fill-opacity=\"1\" /><path clip-path=\"url(#clip260)\" d=\"M1093.19 28.9478 L1093.19 35.9153 Q1090.03 34.1734 1086.83 33.3227 Q1083.67 32.4315 1080.43 32.4315 Q1073.18 32.4315 1069.17 37.0496 Q1065.16 41.6271 1065.16 49.9314 Q1065.16 58.2358 1069.17 62.8538 Q1073.18 67.4314 1080.43 67.4314 Q1083.67 67.4314 1086.83 66.5807 Q1090.03 65.6895 1093.19 63.9476 L1093.19 70.8341 Q1090.07 72.2924 1086.71 73.0216 Q1083.39 73.7508 1079.62 73.7508 Q1069.37 73.7508 1063.34 67.3098 Q1057.3 60.8689 1057.3 49.9314 Q1057.3 38.832 1063.38 32.472 Q1069.5 26.1121 1080.11 26.1121 Q1083.55 26.1121 1086.83 26.8413 Q1090.11 27.5299 1093.19 28.9478 Z\" fill=\"#000000\" fill-rule=\"evenodd\" fill-opacity=\"1\" /><path clip-path=\"url(#clip260)\" d=\"M1132.45 34.1734 Q1131.19 33.4443 1129.69 33.1202 Q1128.23 32.7556 1126.45 32.7556 Q1120.13 32.7556 1116.73 36.8875 Q1113.37 40.9789 1113.37 48.6757 L1113.37 72.576 L1105.87 72.576 L1105.87 27.2059 L1113.37 27.2059 L1113.37 34.2544 Q1115.72 30.1225 1119.48 28.1376 Q1123.25 26.1121 1128.64 26.1121 Q1129.41 26.1121 1130.34 26.2337 Q1131.27 26.3147 1132.41 26.5172 L1132.45 34.1734 Z\" fill=\"#000000\" fill-rule=\"evenodd\" fill-opacity=\"1\" /><path clip-path=\"url(#clip260)\" d=\"M1177.25 48.0275 L1177.25 51.6733 L1142.98 51.6733 Q1143.46 59.3701 1147.6 63.421 Q1151.77 67.4314 1159.18 67.4314 Q1163.48 67.4314 1167.49 66.3781 Q1171.54 65.3249 1175.51 63.2184 L1175.51 70.267 Q1171.5 71.9684 1167.28 72.8596 Q1163.07 73.7508 1158.74 73.7508 Q1147.88 73.7508 1141.52 67.4314 Q1135.2 61.1119 1135.2 50.3365 Q1135.2 39.1965 1141.2 32.6746 Q1147.23 26.1121 1157.44 26.1121 Q1166.6 26.1121 1171.9 32.0264 Q1177.25 37.9003 1177.25 48.0275 M1169.8 45.84 Q1169.71 39.7232 1166.35 36.0774 Q1163.03 32.4315 1157.52 32.4315 Q1151.28 32.4315 1147.52 35.9558 Q1143.79 39.4801 1143.22 45.8805 L1169.8 45.84 Z\" fill=\"#000000\" fill-rule=\"evenodd\" fill-opacity=\"1\" /><path clip-path=\"url(#clip260)\" d=\"M1210.1 49.7694 Q1201.07 49.7694 1197.58 51.8354 Q1194.1 53.9013 1194.1 58.8839 Q1194.1 62.8538 1196.69 65.2034 Q1199.33 67.5124 1203.82 67.5124 Q1210.02 67.5124 1213.75 63.1374 Q1217.52 58.7219 1217.52 51.4303 L1217.52 49.7694 L1210.1 49.7694 M1224.97 46.6907 L1224.97 72.576 L1217.52 72.576 L1217.52 65.6895 Q1214.96 69.8214 1211.16 71.8063 Q1207.35 73.7508 1201.84 73.7508 Q1194.87 73.7508 1190.74 69.8619 Q1186.65 65.9325 1186.65 59.3701 Q1186.65 51.7138 1191.75 47.825 Q1196.9 43.9361 1207.06 43.9361 L1217.52 43.9361 L1217.52 43.2069 Q1217.52 38.0623 1214.11 35.2672 Q1210.75 32.4315 1204.63 32.4315 Q1200.74 32.4315 1197.06 33.3632 Q1193.37 34.295 1189.97 36.1584 L1189.97 29.2718 Q1194.06 27.692 1197.91 26.9223 Q1201.76 26.1121 1205.4 26.1121 Q1215.25 26.1121 1220.11 31.2163 Q1224.97 36.3204 1224.97 46.6907 Z\" fill=\"#000000\" fill-rule=\"evenodd\" fill-opacity=\"1\" /><path clip-path=\"url(#clip260)\" d=\"M1269.25 28.5427 L1269.25 35.5912 Q1266.09 33.9709 1262.68 33.1607 Q1259.28 32.3505 1255.63 32.3505 Q1250.08 32.3505 1247.29 34.0519 Q1244.53 35.7533 1244.53 39.156 Q1244.53 41.7486 1246.52 43.2475 Q1248.5 44.7058 1254.5 46.0426 L1257.05 46.6097 Q1264.99 48.3111 1268.31 51.4303 Q1271.68 54.509 1271.68 60.0587 Q1271.68 66.3781 1266.65 70.0644 Q1261.67 73.7508 1252.92 73.7508 Q1249.27 73.7508 1245.3 73.0216 Q1241.37 72.3329 1237 70.9151 L1237 63.2184 Q1241.13 65.3654 1245.14 66.4591 Q1249.15 67.5124 1253.08 67.5124 Q1258.35 67.5124 1261.18 65.73 Q1264.02 63.9071 1264.02 60.6258 Q1264.02 57.5877 1261.95 55.9673 Q1259.93 54.3469 1253 52.8481 L1250.41 52.2405 Q1243.48 50.7821 1240.4 47.7845 Q1237.32 44.7463 1237.32 39.4801 Q1237.32 33.0797 1241.86 29.5959 Q1246.4 26.1121 1254.74 26.1121 Q1258.87 26.1121 1262.52 26.7198 Q1266.17 27.3274 1269.25 28.5427 Z\" fill=\"#000000\" fill-rule=\"evenodd\" fill-opacity=\"1\" /><path clip-path=\"url(#clip260)\" d=\"M1322.35 48.0275 L1322.35 51.6733 L1288.08 51.6733 Q1288.57 59.3701 1292.7 63.421 Q1296.87 67.4314 1304.29 67.4314 Q1308.58 67.4314 1312.59 66.3781 Q1316.64 65.3249 1320.61 63.2184 L1320.61 70.267 Q1316.6 71.9684 1312.39 72.8596 Q1308.17 73.7508 1303.84 73.7508 Q1292.98 73.7508 1286.62 67.4314 Q1280.3 61.1119 1280.3 50.3365 Q1280.3 39.1965 1286.3 32.6746 Q1292.34 26.1121 1302.54 26.1121 Q1311.7 26.1121 1317.01 32.0264 Q1322.35 37.9003 1322.35 48.0275 M1314.9 45.84 Q1314.82 39.7232 1311.46 36.0774 Q1308.13 32.4315 1302.62 32.4315 Q1296.39 32.4315 1292.62 35.9558 Q1288.89 39.4801 1288.32 45.8805 L1314.9 45.84 Z\" fill=\"#000000\" fill-rule=\"evenodd\" fill-opacity=\"1\" /><path clip-path=\"url(#clip260)\" d=\"M1383.93 9.54393 L1383.93 15.7418 L1376.8 15.7418 Q1372.79 15.7418 1371.21 17.3622 Q1369.67 18.9825 1369.67 23.1955 L1369.67 27.2059 L1381.94 27.2059 L1381.94 32.9987 L1369.67 32.9987 L1369.67 72.576 L1362.17 72.576 L1362.17 32.9987 L1355.04 32.9987 L1355.04 27.2059 L1362.17 27.2059 L1362.17 24.0462 Q1362.17 16.471 1365.7 13.0277 Q1369.22 9.54393 1376.88 9.54393 L1383.93 9.54393 Z\" fill=\"#000000\" fill-rule=\"evenodd\" fill-opacity=\"1\" /><path clip-path=\"url(#clip260)\" d=\"M1416.46 34.1734 Q1415.2 33.4443 1413.7 33.1202 Q1412.24 32.7556 1410.46 32.7556 Q1404.14 32.7556 1400.74 36.8875 Q1397.38 40.9789 1397.38 48.6757 L1397.38 72.576 L1389.88 72.576 L1389.88 27.2059 L1397.38 27.2059 L1397.38 34.2544 Q1399.72 30.1225 1403.49 28.1376 Q1407.26 26.1121 1412.65 26.1121 Q1413.42 26.1121 1414.35 26.2337 Q1415.28 26.3147 1416.41 26.5172 L1416.46 34.1734 Z\" fill=\"#000000\" fill-rule=\"evenodd\" fill-opacity=\"1\" /><path clip-path=\"url(#clip260)\" d=\"M1440.03 32.4315 Q1434.04 32.4315 1430.55 37.1306 Q1427.07 41.7891 1427.07 49.9314 Q1427.07 58.0738 1430.51 62.7728 Q1434 67.4314 1440.03 67.4314 Q1445.99 67.4314 1449.47 62.7323 Q1452.95 58.0333 1452.95 49.9314 Q1452.95 41.8701 1449.47 37.1711 Q1445.99 32.4315 1440.03 32.4315 M1440.03 26.1121 Q1449.75 26.1121 1455.3 32.4315 Q1460.85 38.7509 1460.85 49.9314 Q1460.85 61.0714 1455.3 67.4314 Q1449.75 73.7508 1440.03 73.7508 Q1430.27 73.7508 1424.72 67.4314 Q1419.21 61.0714 1419.21 49.9314 Q1419.21 38.7509 1424.72 32.4315 Q1430.27 26.1121 1440.03 26.1121 Z\" fill=\"#000000\" fill-rule=\"evenodd\" fill-opacity=\"1\" /><path clip-path=\"url(#clip260)\" d=\"M1508.53 35.9153 Q1511.33 30.8922 1515.22 28.5022 Q1519.1 26.1121 1524.37 26.1121 Q1531.46 26.1121 1535.31 31.0947 Q1539.16 36.0368 1539.16 45.1919 L1539.16 72.576 L1531.66 72.576 L1531.66 45.4349 Q1531.66 38.913 1529.35 35.7533 Q1527.04 32.5936 1522.31 32.5936 Q1516.51 32.5936 1513.15 36.4419 Q1509.79 40.2903 1509.79 46.9338 L1509.79 72.576 L1502.29 72.576 L1502.29 45.4349 Q1502.29 38.8725 1499.98 35.7533 Q1497.68 32.5936 1492.86 32.5936 Q1487.14 32.5936 1483.78 36.4824 Q1480.42 40.3308 1480.42 46.9338 L1480.42 72.576 L1472.92 72.576 L1472.92 27.2059 L1480.42 27.2059 L1480.42 34.2544 Q1482.97 30.082 1486.54 28.0971 Q1490.1 26.1121 1495 26.1121 Q1499.94 26.1121 1503.39 28.6237 Q1506.87 31.1352 1508.53 35.9153 Z\" fill=\"#000000\" fill-rule=\"evenodd\" fill-opacity=\"1\" /><path clip-path=\"url(#clip260)\" d=\"M1580.4 27.2059 L1587.85 27.2059 L1587.85 72.576 L1580.4 72.576 L1580.4 27.2059 M1580.4 9.54393 L1587.85 9.54393 L1587.85 18.9825 L1580.4 18.9825 L1580.4 9.54393 Z\" fill=\"#000000\" fill-rule=\"evenodd\" fill-opacity=\"1\" /><path clip-path=\"url(#clip260)\" d=\"M1641.16 45.1919 L1641.16 72.576 L1633.71 72.576 L1633.71 45.4349 Q1633.71 38.994 1631.19 35.7938 Q1628.68 32.5936 1623.66 32.5936 Q1617.62 32.5936 1614.14 36.4419 Q1610.66 40.2903 1610.66 46.9338 L1610.66 72.576 L1603.16 72.576 L1603.16 27.2059 L1610.66 27.2059 L1610.66 34.2544 Q1613.33 30.163 1616.93 28.1376 Q1620.58 26.1121 1625.32 26.1121 Q1633.14 26.1121 1637.15 30.9732 Q1641.16 35.7938 1641.16 45.1919 Z\" fill=\"#000000\" fill-rule=\"evenodd\" fill-opacity=\"1\" /><path clip-path=\"url(#clip260)\" d=\"M1663.4 14.324 L1663.4 27.2059 L1678.75 27.2059 L1678.75 32.9987 L1663.4 32.9987 L1663.4 57.6282 Q1663.4 63.1779 1664.9 64.7578 Q1666.44 66.3376 1671.09 66.3376 L1678.75 66.3376 L1678.75 72.576 L1671.09 72.576 Q1662.47 72.576 1659.19 69.3758 Q1655.9 66.1351 1655.9 57.6282 L1655.9 32.9987 L1650.44 32.9987 L1650.44 27.2059 L1655.9 27.2059 L1655.9 14.324 L1663.4 14.324 Z\" fill=\"#000000\" fill-rule=\"evenodd\" fill-opacity=\"1\" /><path clip-path=\"url(#clip260)\" d=\"M1727.36 48.0275 L1727.36 51.6733 L1693.09 51.6733 Q1693.58 59.3701 1697.71 63.421 Q1701.88 67.4314 1709.29 67.4314 Q1713.59 67.4314 1717.6 66.3781 Q1721.65 65.3249 1725.62 63.2184 L1725.62 70.267 Q1721.61 71.9684 1717.4 72.8596 Q1713.18 73.7508 1708.85 73.7508 Q1697.99 73.7508 1691.63 67.4314 Q1685.31 61.1119 1685.31 50.3365 Q1685.31 39.1965 1691.31 32.6746 Q1697.34 26.1121 1707.55 26.1121 Q1716.71 26.1121 1722.01 32.0264 Q1727.36 37.9003 1727.36 48.0275 M1719.91 45.84 Q1719.83 39.7232 1716.47 36.0774 Q1713.14 32.4315 1707.63 32.4315 Q1701.4 32.4315 1697.63 35.9558 Q1693.9 39.4801 1693.33 45.8805 L1719.91 45.84 Z\" fill=\"#000000\" fill-rule=\"evenodd\" fill-opacity=\"1\" /><path clip-path=\"url(#clip260)\" d=\"M1765.89 34.1734 Q1764.63 33.4443 1763.13 33.1202 Q1761.67 32.7556 1759.89 32.7556 Q1753.57 32.7556 1750.17 36.8875 Q1746.81 40.9789 1746.81 48.6757 L1746.81 72.576 L1739.31 72.576 L1739.31 27.2059 L1746.81 27.2059 L1746.81 34.2544 Q1749.16 30.1225 1752.92 28.1376 Q1756.69 26.1121 1762.08 26.1121 Q1762.85 26.1121 1763.78 26.2337 Q1764.71 26.3147 1765.85 26.5172 L1765.89 34.1734 Z\" fill=\"#000000\" fill-rule=\"evenodd\" fill-opacity=\"1\" /><path clip-path=\"url(#clip260)\" d=\"M1780.91 65.7705 L1780.91 89.8329 L1773.42 89.8329 L1773.42 27.2059 L1780.91 27.2059 L1780.91 34.0924 Q1783.26 30.0415 1786.83 28.0971 Q1790.43 26.1121 1795.42 26.1121 Q1803.68 26.1121 1808.83 32.6746 Q1814.01 39.2371 1814.01 49.9314 Q1814.01 60.6258 1808.83 67.1883 Q1803.68 73.7508 1795.42 73.7508 Q1790.43 73.7508 1786.83 71.8063 Q1783.26 69.8214 1780.91 65.7705 M1806.27 49.9314 Q1806.27 41.7081 1802.87 37.0496 Q1799.51 32.3505 1793.59 32.3505 Q1787.68 32.3505 1784.28 37.0496 Q1780.91 41.7081 1780.91 49.9314 Q1780.91 58.1548 1784.28 62.8538 Q1787.68 67.5124 1793.59 67.5124 Q1799.51 67.5124 1802.87 62.8538 Q1806.27 58.1548 1806.27 49.9314 Z\" fill=\"#000000\" fill-rule=\"evenodd\" fill-opacity=\"1\" /><path clip-path=\"url(#clip260)\" d=\"M1843.95 32.4315 Q1837.95 32.4315 1834.47 37.1306 Q1830.98 41.7891 1830.98 49.9314 Q1830.98 58.0738 1834.43 62.7728 Q1837.91 67.4314 1843.95 67.4314 Q1849.9 67.4314 1853.39 62.7323 Q1856.87 58.0333 1856.87 49.9314 Q1856.87 41.8701 1853.39 37.1711 Q1849.9 32.4315 1843.95 32.4315 M1843.95 26.1121 Q1853.67 26.1121 1859.22 32.4315 Q1864.77 38.7509 1864.77 49.9314 Q1864.77 61.0714 1859.22 67.4314 Q1853.67 73.7508 1843.95 73.7508 Q1834.18 73.7508 1828.63 67.4314 Q1823.13 61.0714 1823.13 49.9314 Q1823.13 38.7509 1828.63 32.4315 Q1834.18 26.1121 1843.95 26.1121 Z\" fill=\"#000000\" fill-rule=\"evenodd\" fill-opacity=\"1\" /><path clip-path=\"url(#clip260)\" d=\"M1877.12 9.54393 L1884.58 9.54393 L1884.58 72.576 L1877.12 72.576 L1877.12 9.54393 Z\" fill=\"#000000\" fill-rule=\"evenodd\" fill-opacity=\"1\" /><path clip-path=\"url(#clip260)\" d=\"M1920.79 49.7694 Q1911.76 49.7694 1908.28 51.8354 Q1904.79 53.9013 1904.79 58.8839 Q1904.79 62.8538 1907.38 65.2034 Q1910.02 67.5124 1914.51 67.5124 Q1920.71 67.5124 1924.44 63.1374 Q1928.21 58.7219 1928.21 51.4303 L1928.21 49.7694 L1920.79 49.7694 M1935.66 46.6907 L1935.66 72.576 L1928.21 72.576 L1928.21 65.6895 Q1925.65 69.8214 1921.85 71.8063 Q1918.04 73.7508 1912.53 73.7508 Q1905.56 73.7508 1901.43 69.8619 Q1897.34 65.9325 1897.34 59.3701 Q1897.34 51.7138 1902.44 47.825 Q1907.59 43.9361 1917.75 43.9361 L1928.21 43.9361 L1928.21 43.2069 Q1928.21 38.0623 1924.8 35.2672 Q1921.44 32.4315 1915.32 32.4315 Q1911.44 32.4315 1907.75 33.3632 Q1904.06 34.295 1900.66 36.1584 L1900.66 29.2718 Q1904.75 27.692 1908.6 26.9223 Q1912.45 26.1121 1916.09 26.1121 Q1925.94 26.1121 1930.8 31.2163 Q1935.66 36.3204 1935.66 46.6907 Z\" fill=\"#000000\" fill-rule=\"evenodd\" fill-opacity=\"1\" /><path clip-path=\"url(#clip260)\" d=\"M1958.39 14.324 L1958.39 27.2059 L1973.74 27.2059 L1973.74 32.9987 L1958.39 32.9987 L1958.39 57.6282 Q1958.39 63.1779 1959.88 64.7578 Q1961.42 66.3376 1966.08 66.3376 L1973.74 66.3376 L1973.74 72.576 L1966.08 72.576 Q1957.45 72.576 1954.17 69.3758 Q1950.89 66.1351 1950.89 57.6282 L1950.89 32.9987 L1945.42 32.9987 L1945.42 27.2059 L1950.89 27.2059 L1950.89 14.324 L1958.39 14.324 Z\" fill=\"#000000\" fill-rule=\"evenodd\" fill-opacity=\"1\" /><path clip-path=\"url(#clip260)\" d=\"M1983.54 27.2059 L1990.99 27.2059 L1990.99 72.576 L1983.54 72.576 L1983.54 27.2059 M1983.54 9.54393 L1990.99 9.54393 L1990.99 18.9825 L1983.54 18.9825 L1983.54 9.54393 Z\" fill=\"#000000\" fill-rule=\"evenodd\" fill-opacity=\"1\" /><path clip-path=\"url(#clip260)\" d=\"M2024.17 32.4315 Q2018.18 32.4315 2014.69 37.1306 Q2011.21 41.7891 2011.21 49.9314 Q2011.21 58.0738 2014.65 62.7728 Q2018.14 67.4314 2024.17 67.4314 Q2030.13 67.4314 2033.61 62.7323 Q2037.09 58.0333 2037.09 49.9314 Q2037.09 41.8701 2033.61 37.1711 Q2030.13 32.4315 2024.17 32.4315 M2024.17 26.1121 Q2033.89 26.1121 2039.44 32.4315 Q2044.99 38.7509 2044.99 49.9314 Q2044.99 61.0714 2039.44 67.4314 Q2033.89 73.7508 2024.17 73.7508 Q2014.41 73.7508 2008.86 67.4314 Q2003.35 61.0714 2003.35 49.9314 Q2003.35 38.7509 2008.86 32.4315 Q2014.41 26.1121 2024.17 26.1121 Z\" fill=\"#000000\" fill-rule=\"evenodd\" fill-opacity=\"1\" /><path clip-path=\"url(#clip260)\" d=\"M2095.06 45.1919 L2095.06 72.576 L2087.61 72.576 L2087.61 45.4349 Q2087.61 38.994 2085.1 35.7938 Q2082.59 32.5936 2077.56 32.5936 Q2071.53 32.5936 2068.04 36.4419 Q2064.56 40.2903 2064.56 46.9338 L2064.56 72.576 L2057.07 72.576 L2057.07 27.2059 L2064.56 27.2059 L2064.56 34.2544 Q2067.23 30.163 2070.84 28.1376 Q2074.48 26.1121 2079.22 26.1121 Q2087.04 26.1121 2091.05 30.9732 Q2095.06 35.7938 2095.06 45.1919 Z\" fill=\"#000000\" fill-rule=\"evenodd\" fill-opacity=\"1\" /><polyline clip-path=\"url(#clip262)\" style=\"stroke:#009af9; stroke-linecap:butt; stroke-linejoin:round; stroke-width:4; stroke-opacity:1; fill:none\" points=\"\n  237.067,174.08 345.176,160.256 453.285,610.927 561.394,1043.75 669.502,1076.01 777.611,1065.34 885.72,1112.34 993.829,1188.18 1101.94,1249 1210.05,1311.64 \n  1318.15,1349.77 1426.26,1363.66 1534.37,1376.73 1642.48,1379.8 1750.59,1381.91 1858.7,1383.93 1966.81,1386.4 2074.92,1380.9 2183.03,1384.09 2291.13,1383.43 \n  \n  \"/>\n<circle clip-path=\"url(#clip262)\" cx=\"237.067\" cy=\"174.08\" r=\"14\" fill=\"#e26f46\" fill-rule=\"evenodd\" fill-opacity=\"1\" stroke=\"#000000\" stroke-opacity=\"1\" stroke-width=\"3.2\"/>\n<circle clip-path=\"url(#clip262)\" cx=\"345.176\" cy=\"160.256\" r=\"14\" fill=\"#e26f46\" fill-rule=\"evenodd\" fill-opacity=\"1\" stroke=\"#000000\" stroke-opacity=\"1\" stroke-width=\"3.2\"/>\n<circle clip-path=\"url(#clip262)\" cx=\"453.285\" cy=\"610.927\" r=\"14\" fill=\"#e26f46\" fill-rule=\"evenodd\" fill-opacity=\"1\" stroke=\"#000000\" stroke-opacity=\"1\" stroke-width=\"3.2\"/>\n<circle clip-path=\"url(#clip262)\" cx=\"561.394\" cy=\"1043.75\" r=\"14\" fill=\"#e26f46\" fill-rule=\"evenodd\" fill-opacity=\"1\" stroke=\"#000000\" stroke-opacity=\"1\" stroke-width=\"3.2\"/>\n<circle clip-path=\"url(#clip262)\" cx=\"669.502\" cy=\"1076.01\" r=\"14\" fill=\"#e26f46\" fill-rule=\"evenodd\" fill-opacity=\"1\" stroke=\"#000000\" stroke-opacity=\"1\" stroke-width=\"3.2\"/>\n<circle clip-path=\"url(#clip262)\" cx=\"777.611\" cy=\"1065.34\" r=\"14\" fill=\"#e26f46\" fill-rule=\"evenodd\" fill-opacity=\"1\" stroke=\"#000000\" stroke-opacity=\"1\" stroke-width=\"3.2\"/>\n<circle clip-path=\"url(#clip262)\" cx=\"885.72\" cy=\"1112.34\" r=\"14\" fill=\"#e26f46\" fill-rule=\"evenodd\" fill-opacity=\"1\" stroke=\"#000000\" stroke-opacity=\"1\" stroke-width=\"3.2\"/>\n<circle clip-path=\"url(#clip262)\" cx=\"993.829\" cy=\"1188.18\" r=\"14\" fill=\"#e26f46\" fill-rule=\"evenodd\" fill-opacity=\"1\" stroke=\"#000000\" stroke-opacity=\"1\" stroke-width=\"3.2\"/>\n<circle clip-path=\"url(#clip262)\" cx=\"1101.94\" cy=\"1249\" r=\"14\" fill=\"#e26f46\" fill-rule=\"evenodd\" fill-opacity=\"1\" stroke=\"#000000\" stroke-opacity=\"1\" stroke-width=\"3.2\"/>\n<circle clip-path=\"url(#clip262)\" cx=\"1210.05\" cy=\"1311.64\" r=\"14\" fill=\"#e26f46\" fill-rule=\"evenodd\" fill-opacity=\"1\" stroke=\"#000000\" stroke-opacity=\"1\" stroke-width=\"3.2\"/>\n<circle clip-path=\"url(#clip262)\" cx=\"1318.15\" cy=\"1349.77\" r=\"14\" fill=\"#e26f46\" fill-rule=\"evenodd\" fill-opacity=\"1\" stroke=\"#000000\" stroke-opacity=\"1\" stroke-width=\"3.2\"/>\n<circle clip-path=\"url(#clip262)\" cx=\"1426.26\" cy=\"1363.66\" r=\"14\" fill=\"#e26f46\" fill-rule=\"evenodd\" fill-opacity=\"1\" stroke=\"#000000\" stroke-opacity=\"1\" stroke-width=\"3.2\"/>\n<circle clip-path=\"url(#clip262)\" cx=\"1534.37\" cy=\"1376.73\" r=\"14\" fill=\"#e26f46\" fill-rule=\"evenodd\" fill-opacity=\"1\" stroke=\"#000000\" stroke-opacity=\"1\" stroke-width=\"3.2\"/>\n<circle clip-path=\"url(#clip262)\" cx=\"1642.48\" cy=\"1379.8\" r=\"14\" fill=\"#e26f46\" fill-rule=\"evenodd\" fill-opacity=\"1\" stroke=\"#000000\" stroke-opacity=\"1\" stroke-width=\"3.2\"/>\n<circle clip-path=\"url(#clip262)\" cx=\"1750.59\" cy=\"1381.91\" r=\"14\" fill=\"#e26f46\" fill-rule=\"evenodd\" fill-opacity=\"1\" stroke=\"#000000\" stroke-opacity=\"1\" stroke-width=\"3.2\"/>\n<circle clip-path=\"url(#clip262)\" cx=\"1858.7\" cy=\"1383.93\" r=\"14\" fill=\"#e26f46\" fill-rule=\"evenodd\" fill-opacity=\"1\" stroke=\"#000000\" stroke-opacity=\"1\" stroke-width=\"3.2\"/>\n<circle clip-path=\"url(#clip262)\" cx=\"1966.81\" cy=\"1386.4\" r=\"14\" fill=\"#e26f46\" fill-rule=\"evenodd\" fill-opacity=\"1\" stroke=\"#000000\" stroke-opacity=\"1\" stroke-width=\"3.2\"/>\n<circle clip-path=\"url(#clip262)\" cx=\"2074.92\" cy=\"1380.9\" r=\"14\" fill=\"#e26f46\" fill-rule=\"evenodd\" fill-opacity=\"1\" stroke=\"#000000\" stroke-opacity=\"1\" stroke-width=\"3.2\"/>\n<circle clip-path=\"url(#clip262)\" cx=\"2183.03\" cy=\"1384.09\" r=\"14\" fill=\"#e26f46\" fill-rule=\"evenodd\" fill-opacity=\"1\" stroke=\"#000000\" stroke-opacity=\"1\" stroke-width=\"3.2\"/>\n<circle clip-path=\"url(#clip262)\" cx=\"2291.13\" cy=\"1383.43\" r=\"14\" fill=\"#e26f46\" fill-rule=\"evenodd\" fill-opacity=\"1\" stroke=\"#000000\" stroke-opacity=\"1\" stroke-width=\"3.2\"/>\n</svg>\n",
      "text/html": [
       "<?xml version=\"1.0\" encoding=\"utf-8\"?>\n",
       "<svg xmlns=\"http://www.w3.org/2000/svg\" xmlns:xlink=\"http://www.w3.org/1999/xlink\" width=\"600\" height=\"400\" viewBox=\"0 0 2400 1600\">\n",
       "<defs>\n",
       "  <clipPath id=\"clip310\">\n",
       "    <rect x=\"0\" y=\"0\" width=\"2400\" height=\"1600\"/>\n",
       "  </clipPath>\n",
       "</defs>\n",
       "<path clip-path=\"url(#clip310)\" d=\"\n",
       "M0 1600 L2400 1600 L2400 0 L0 0  Z\n",
       "  \" fill=\"#ffffff\" fill-rule=\"evenodd\" fill-opacity=\"1\"/>\n",
       "<defs>\n",
       "  <clipPath id=\"clip311\">\n",
       "    <rect x=\"480\" y=\"0\" width=\"1681\" height=\"1600\"/>\n",
       "  </clipPath>\n",
       "</defs>\n",
       "<path clip-path=\"url(#clip310)\" d=\"\n",
       "M175.445 1423.18 L2352.76 1423.18 L2352.76 123.472 L175.445 123.472  Z\n",
       "  \" fill=\"#ffffff\" fill-rule=\"evenodd\" fill-opacity=\"1\"/>\n",
       "<defs>\n",
       "  <clipPath id=\"clip312\">\n",
       "    <rect x=\"175\" y=\"123\" width=\"2178\" height=\"1301\"/>\n",
       "  </clipPath>\n",
       "</defs>\n",
       "<polyline clip-path=\"url(#clip312)\" style=\"stroke:#000000; stroke-linecap:butt; stroke-linejoin:round; stroke-width:2; stroke-opacity:0.1; fill:none\" points=\"\n",
       "  669.502,1423.18 669.502,123.472 \n",
       "  \"/>\n",
       "<polyline clip-path=\"url(#clip312)\" style=\"stroke:#000000; stroke-linecap:butt; stroke-linejoin:round; stroke-width:2; stroke-opacity:0.1; fill:none\" points=\"\n",
       "  1210.05,1423.18 1210.05,123.472 \n",
       "  \"/>\n",
       "<polyline clip-path=\"url(#clip312)\" style=\"stroke:#000000; stroke-linecap:butt; stroke-linejoin:round; stroke-width:2; stroke-opacity:0.1; fill:none\" points=\"\n",
       "  1750.59,1423.18 1750.59,123.472 \n",
       "  \"/>\n",
       "<polyline clip-path=\"url(#clip312)\" style=\"stroke:#000000; stroke-linecap:butt; stroke-linejoin:round; stroke-width:2; stroke-opacity:0.1; fill:none\" points=\"\n",
       "  2291.13,1423.18 2291.13,123.472 \n",
       "  \"/>\n",
       "<polyline clip-path=\"url(#clip310)\" style=\"stroke:#000000; stroke-linecap:butt; stroke-linejoin:round; stroke-width:4; stroke-opacity:1; fill:none\" points=\"\n",
       "  175.445,1423.18 2352.76,1423.18 \n",
       "  \"/>\n",
       "<polyline clip-path=\"url(#clip310)\" style=\"stroke:#000000; stroke-linecap:butt; stroke-linejoin:round; stroke-width:4; stroke-opacity:1; fill:none\" points=\"\n",
       "  669.502,1423.18 669.502,1407.58 \n",
       "  \"/>\n",
       "<polyline clip-path=\"url(#clip310)\" style=\"stroke:#000000; stroke-linecap:butt; stroke-linejoin:round; stroke-width:4; stroke-opacity:1; fill:none\" points=\"\n",
       "  1210.05,1423.18 1210.05,1407.58 \n",
       "  \"/>\n",
       "<polyline clip-path=\"url(#clip310)\" style=\"stroke:#000000; stroke-linecap:butt; stroke-linejoin:round; stroke-width:4; stroke-opacity:1; fill:none\" points=\"\n",
       "  1750.59,1423.18 1750.59,1407.58 \n",
       "  \"/>\n",
       "<polyline clip-path=\"url(#clip310)\" style=\"stroke:#000000; stroke-linecap:butt; stroke-linejoin:round; stroke-width:4; stroke-opacity:1; fill:none\" points=\"\n",
       "  2291.13,1423.18 2291.13,1407.58 \n",
       "  \"/>\n",
       "<path clip-path=\"url(#clip310)\" d=\"M659.78 1449.29 L678.137 1449.29 L678.137 1453.23 L664.063 1453.23 L664.063 1461.7 Q665.081 1461.35 666.1 1461.19 Q667.118 1461 668.137 1461 Q673.924 1461 677.303 1464.18 Q680.683 1467.35 680.683 1472.76 Q680.683 1478.34 677.211 1481.44 Q673.738 1484.52 667.419 1484.52 Q665.243 1484.52 662.975 1484.15 Q660.729 1483.78 658.322 1483.04 L658.322 1478.34 Q660.405 1479.48 662.627 1480.03 Q664.85 1480.59 667.326 1480.59 Q671.331 1480.59 673.669 1478.48 Q676.007 1476.38 676.007 1472.76 Q676.007 1469.15 673.669 1467.05 Q671.331 1464.94 667.326 1464.94 Q665.451 1464.94 663.576 1465.36 Q661.725 1465.77 659.78 1466.65 L659.78 1449.29 Z\" fill=\"#000000\" fill-rule=\"evenodd\" fill-opacity=\"1\" /><path clip-path=\"url(#clip310)\" d=\"M1184.73 1479.92 L1192.37 1479.92 L1192.37 1453.55 L1184.06 1455.22 L1184.06 1450.96 L1192.33 1449.29 L1197 1449.29 L1197 1479.92 L1204.64 1479.92 L1204.64 1483.85 L1184.73 1483.85 L1184.73 1479.92 Z\" fill=\"#000000\" fill-rule=\"evenodd\" fill-opacity=\"1\" /><path clip-path=\"url(#clip310)\" d=\"M1224.09 1452.37 Q1220.47 1452.37 1218.65 1455.94 Q1216.84 1459.48 1216.84 1466.61 Q1216.84 1473.71 1218.65 1477.28 Q1220.47 1480.82 1224.09 1480.82 Q1227.72 1480.82 1229.53 1477.28 Q1231.35 1473.71 1231.35 1466.61 Q1231.35 1459.48 1229.53 1455.94 Q1227.72 1452.37 1224.09 1452.37 M1224.09 1448.67 Q1229.9 1448.67 1232.95 1453.27 Q1236.03 1457.86 1236.03 1466.61 Q1236.03 1475.33 1232.95 1479.94 Q1229.9 1484.52 1224.09 1484.52 Q1218.28 1484.52 1215.2 1479.94 Q1212.14 1475.33 1212.14 1466.61 Q1212.14 1457.86 1215.2 1453.27 Q1218.28 1448.67 1224.09 1448.67 Z\" fill=\"#000000\" fill-rule=\"evenodd\" fill-opacity=\"1\" /><path clip-path=\"url(#clip310)\" d=\"M1725.78 1479.92 L1733.41 1479.92 L1733.41 1453.55 L1725.1 1455.22 L1725.1 1450.96 L1733.37 1449.29 L1738.04 1449.29 L1738.04 1479.92 L1745.68 1479.92 L1745.68 1483.85 L1725.78 1483.85 L1725.78 1479.92 Z\" fill=\"#000000\" fill-rule=\"evenodd\" fill-opacity=\"1\" /><path clip-path=\"url(#clip310)\" d=\"M1755.17 1449.29 L1773.53 1449.29 L1773.53 1453.23 L1759.46 1453.23 L1759.46 1461.7 Q1760.47 1461.35 1761.49 1461.19 Q1762.51 1461 1763.53 1461 Q1769.32 1461 1772.7 1464.18 Q1776.08 1467.35 1776.08 1472.76 Q1776.08 1478.34 1772.6 1481.44 Q1769.13 1484.52 1762.81 1484.52 Q1760.64 1484.52 1758.37 1484.15 Q1756.12 1483.78 1753.72 1483.04 L1753.72 1478.34 Q1755.8 1479.48 1758.02 1480.03 Q1760.24 1480.59 1762.72 1480.59 Q1766.72 1480.59 1769.06 1478.48 Q1771.4 1476.38 1771.4 1472.76 Q1771.4 1469.15 1769.06 1467.05 Q1766.72 1464.94 1762.72 1464.94 Q1760.84 1464.94 1758.97 1465.36 Q1757.12 1465.77 1755.17 1466.65 L1755.17 1449.29 Z\" fill=\"#000000\" fill-rule=\"evenodd\" fill-opacity=\"1\" /><path clip-path=\"url(#clip310)\" d=\"M2269.91 1479.92 L2286.23 1479.92 L2286.23 1483.85 L2264.28 1483.85 L2264.28 1479.92 Q2266.94 1477.16 2271.53 1472.53 Q2276.13 1467.88 2277.31 1466.54 Q2279.56 1464.01 2280.44 1462.28 Q2281.34 1460.52 2281.34 1458.83 Q2281.34 1456.07 2279.4 1454.34 Q2277.48 1452.6 2274.37 1452.6 Q2272.18 1452.6 2269.72 1453.37 Q2267.29 1454.13 2264.51 1455.68 L2264.51 1450.96 Q2267.34 1449.82 2269.79 1449.25 Q2272.25 1448.67 2274.28 1448.67 Q2279.65 1448.67 2282.85 1451.35 Q2286.04 1454.04 2286.04 1458.53 Q2286.04 1460.66 2285.23 1462.58 Q2284.44 1464.48 2282.34 1467.07 Q2281.76 1467.74 2278.66 1470.96 Q2275.56 1474.15 2269.91 1479.92 Z\" fill=\"#000000\" fill-rule=\"evenodd\" fill-opacity=\"1\" /><path clip-path=\"url(#clip310)\" d=\"M2306.04 1452.37 Q2302.43 1452.37 2300.6 1455.94 Q2298.8 1459.48 2298.8 1466.61 Q2298.8 1473.71 2300.6 1477.28 Q2302.43 1480.82 2306.04 1480.82 Q2309.68 1480.82 2311.48 1477.28 Q2313.31 1473.71 2313.31 1466.61 Q2313.31 1459.48 2311.48 1455.94 Q2309.68 1452.37 2306.04 1452.37 M2306.04 1448.67 Q2311.85 1448.67 2314.91 1453.27 Q2317.99 1457.86 2317.99 1466.61 Q2317.99 1475.33 2314.91 1479.94 Q2311.85 1484.52 2306.04 1484.52 Q2300.23 1484.52 2297.15 1479.94 Q2294.1 1475.33 2294.1 1466.61 Q2294.1 1457.86 2297.15 1453.27 Q2300.23 1448.67 2306.04 1448.67 Z\" fill=\"#000000\" fill-rule=\"evenodd\" fill-opacity=\"1\" /><path clip-path=\"url(#clip310)\" d=\"M857.205 1520.52 L897.404 1520.52 L897.404 1525.93 L880.535 1525.93 L880.535 1568.04 L874.074 1568.04 L874.074 1525.93 L857.205 1525.93 L857.205 1520.52 Z\" fill=\"#000000\" fill-rule=\"evenodd\" fill-opacity=\"1\" /><path clip-path=\"url(#clip310)\" d=\"M932.988 1546.53 L932.988 1568.04 L927.132 1568.04 L927.132 1546.72 Q927.132 1541.66 925.159 1539.14 Q923.185 1536.63 919.238 1536.63 Q914.496 1536.63 911.759 1539.65 Q909.021 1542.68 909.021 1547.9 L909.021 1568.04 L903.133 1568.04 L903.133 1518.52 L909.021 1518.52 L909.021 1537.93 Q911.122 1534.72 913.955 1533.13 Q916.819 1531.54 920.543 1531.54 Q926.686 1531.54 929.837 1535.36 Q932.988 1539.14 932.988 1546.53 Z\" fill=\"#000000\" fill-rule=\"evenodd\" fill-opacity=\"1\" /><path clip-path=\"url(#clip310)\" d=\"M975.161 1548.76 L975.161 1551.62 L948.234 1551.62 Q948.616 1557.67 951.863 1560.85 Q955.141 1564 960.966 1564 Q964.339 1564 967.49 1563.17 Q970.673 1562.35 973.793 1560.69 L973.793 1566.23 Q970.641 1567.57 967.331 1568.27 Q964.021 1568.97 960.615 1568.97 Q952.085 1568.97 947.088 1564 Q942.123 1559.04 942.123 1550.57 Q942.123 1541.82 946.834 1536.69 Q951.576 1531.54 959.597 1531.54 Q966.79 1531.54 970.96 1536.18 Q975.161 1540.8 975.161 1548.76 M969.305 1547.04 Q969.241 1542.23 966.599 1539.37 Q963.989 1536.5 959.661 1536.5 Q954.759 1536.5 951.799 1539.27 Q948.871 1542.04 948.425 1547.07 L969.305 1547.04 Z\" fill=\"#000000\" fill-rule=\"evenodd\" fill-opacity=\"1\" /><path clip-path=\"url(#clip310)\" d=\"M1005.49 1518.52 L1011.35 1518.52 L1011.35 1568.04 L1005.49 1568.04 L1005.49 1518.52 Z\" fill=\"#000000\" fill-rule=\"evenodd\" fill-opacity=\"1\" /><path clip-path=\"url(#clip310)\" d=\"M1037.42 1536.5 Q1032.71 1536.5 1029.97 1540.19 Q1027.23 1543.85 1027.23 1550.25 Q1027.23 1556.65 1029.94 1560.34 Q1032.68 1564 1037.42 1564 Q1042.1 1564 1044.83 1560.31 Q1047.57 1556.62 1047.57 1550.25 Q1047.57 1543.92 1044.83 1540.23 Q1042.1 1536.5 1037.42 1536.5 M1037.42 1531.54 Q1045.06 1531.54 1049.42 1536.5 Q1053.78 1541.47 1053.78 1550.25 Q1053.78 1559 1049.42 1564 Q1045.06 1568.97 1037.42 1568.97 Q1029.75 1568.97 1025.39 1564 Q1021.06 1559 1021.06 1550.25 Q1021.06 1541.47 1025.39 1536.5 Q1029.75 1531.54 1037.42 1531.54 Z\" fill=\"#000000\" fill-rule=\"evenodd\" fill-opacity=\"1\" /><path clip-path=\"url(#clip310)\" d=\"M1086.94 1549.81 Q1086.94 1543.44 1084.3 1539.94 Q1081.69 1536.44 1076.95 1536.44 Q1072.24 1536.44 1069.6 1539.94 Q1066.99 1543.44 1066.99 1549.81 Q1066.99 1556.14 1069.6 1559.64 Q1072.24 1563.14 1076.95 1563.14 Q1081.69 1563.14 1084.3 1559.64 Q1086.94 1556.14 1086.94 1549.81 M1092.8 1563.62 Q1092.8 1572.72 1088.76 1577.15 Q1084.71 1581.6 1076.38 1581.6 Q1073.29 1581.6 1070.55 1581.13 Q1067.81 1580.68 1065.24 1579.72 L1065.24 1574.03 Q1067.81 1575.43 1070.33 1576.1 Q1072.84 1576.76 1075.45 1576.76 Q1081.21 1576.76 1084.08 1573.74 Q1086.94 1570.75 1086.94 1564.67 L1086.94 1561.77 Q1085.13 1564.92 1082.3 1566.48 Q1079.46 1568.04 1075.52 1568.04 Q1068.96 1568.04 1064.95 1563.05 Q1060.94 1558.05 1060.94 1549.81 Q1060.94 1541.53 1064.95 1536.53 Q1068.96 1531.54 1075.52 1531.54 Q1079.46 1531.54 1082.3 1533.1 Q1085.13 1534.66 1086.94 1537.81 L1086.94 1532.4 L1092.8 1532.4 L1092.8 1563.62 Z\" fill=\"#000000\" fill-rule=\"evenodd\" fill-opacity=\"1\" /><path clip-path=\"url(#clip310)\" d=\"M1139.4 1536.5 Q1134.69 1536.5 1131.95 1540.19 Q1129.21 1543.85 1129.21 1550.25 Q1129.21 1556.65 1131.92 1560.34 Q1134.65 1564 1139.4 1564 Q1144.08 1564 1146.81 1560.31 Q1149.55 1556.62 1149.55 1550.25 Q1149.55 1543.92 1146.81 1540.23 Q1144.08 1536.5 1139.4 1536.5 M1139.4 1531.54 Q1147.04 1531.54 1151.4 1536.5 Q1155.76 1541.47 1155.76 1550.25 Q1155.76 1559 1151.4 1564 Q1147.04 1568.97 1139.4 1568.97 Q1131.73 1568.97 1127.37 1564 Q1123.04 1559 1123.04 1550.25 Q1123.04 1541.47 1127.37 1536.5 Q1131.73 1531.54 1139.4 1531.54 Z\" fill=\"#000000\" fill-rule=\"evenodd\" fill-opacity=\"1\" /><path clip-path=\"url(#clip310)\" d=\"M1183.51 1518.52 L1183.51 1523.39 L1177.91 1523.39 Q1174.76 1523.39 1173.52 1524.66 Q1172.31 1525.93 1172.31 1529.24 L1172.31 1532.4 L1181.95 1532.4 L1181.95 1536.95 L1172.31 1536.95 L1172.31 1568.04 L1166.42 1568.04 L1166.42 1536.95 L1160.82 1536.95 L1160.82 1532.4 L1166.42 1532.4 L1166.42 1529.91 Q1166.42 1523.96 1169.19 1521.26 Q1171.96 1518.52 1177.97 1518.52 L1183.51 1518.52 Z\" fill=\"#000000\" fill-rule=\"evenodd\" fill-opacity=\"1\" /><path clip-path=\"url(#clip310)\" d=\"M1209.13 1518.52 L1214.99 1518.52 L1214.99 1568.04 L1209.13 1568.04 L1209.13 1518.52 Z\" fill=\"#000000\" fill-rule=\"evenodd\" fill-opacity=\"1\" /><path clip-path=\"url(#clip310)\" d=\"M1257.73 1548.76 L1257.73 1551.62 L1230.81 1551.62 Q1231.19 1557.67 1234.44 1560.85 Q1237.71 1564 1243.54 1564 Q1246.91 1564 1250.06 1563.17 Q1253.25 1562.35 1256.37 1560.69 L1256.37 1566.23 Q1253.22 1567.57 1249.91 1568.27 Q1246.59 1568.97 1243.19 1568.97 Q1234.66 1568.97 1229.66 1564 Q1224.7 1559.04 1224.7 1550.57 Q1224.7 1541.82 1229.41 1536.69 Q1234.15 1531.54 1242.17 1531.54 Q1249.36 1531.54 1253.53 1536.18 Q1257.73 1540.8 1257.73 1548.76 M1251.88 1547.04 Q1251.81 1542.23 1249.17 1539.37 Q1246.56 1536.5 1242.23 1536.5 Q1237.33 1536.5 1234.37 1539.27 Q1231.44 1542.04 1231 1547.07 L1251.88 1547.04 Z\" fill=\"#000000\" fill-rule=\"evenodd\" fill-opacity=\"1\" /><path clip-path=\"url(#clip310)\" d=\"M1296.98 1546.53 L1296.98 1568.04 L1291.12 1568.04 L1291.12 1546.72 Q1291.12 1541.66 1289.15 1539.14 Q1287.18 1536.63 1283.23 1536.63 Q1278.49 1536.63 1275.75 1539.65 Q1273.01 1542.68 1273.01 1547.9 L1273.01 1568.04 L1267.12 1568.04 L1267.12 1532.4 L1273.01 1532.4 L1273.01 1537.93 Q1275.11 1534.72 1277.95 1533.13 Q1280.81 1531.54 1284.53 1531.54 Q1290.68 1531.54 1293.83 1535.36 Q1296.98 1539.14 1296.98 1546.53 Z\" fill=\"#000000\" fill-rule=\"evenodd\" fill-opacity=\"1\" /><path clip-path=\"url(#clip310)\" d=\"M1332.12 1549.81 Q1332.12 1543.44 1329.48 1539.94 Q1326.87 1536.44 1322.12 1536.44 Q1317.41 1536.44 1314.77 1539.94 Q1312.16 1543.44 1312.16 1549.81 Q1312.16 1556.14 1314.77 1559.64 Q1317.41 1563.14 1322.12 1563.14 Q1326.87 1563.14 1329.48 1559.64 Q1332.12 1556.14 1332.12 1549.81 M1337.97 1563.62 Q1337.97 1572.72 1333.93 1577.15 Q1329.89 1581.6 1321.55 1581.6 Q1318.46 1581.6 1315.73 1581.13 Q1312.99 1580.68 1310.41 1579.72 L1310.41 1574.03 Q1312.99 1575.43 1315.5 1576.1 Q1318.02 1576.76 1320.63 1576.76 Q1326.39 1576.76 1329.25 1573.74 Q1332.12 1570.75 1332.12 1564.67 L1332.12 1561.77 Q1330.3 1564.92 1327.47 1566.48 Q1324.64 1568.04 1320.69 1568.04 Q1314.14 1568.04 1310.12 1563.05 Q1306.11 1558.05 1306.11 1549.81 Q1306.11 1541.53 1310.12 1536.53 Q1314.14 1531.54 1320.69 1531.54 Q1324.64 1531.54 1327.47 1533.1 Q1330.3 1534.66 1332.12 1537.81 L1332.12 1532.4 L1337.97 1532.4 L1337.97 1563.62 Z\" fill=\"#000000\" fill-rule=\"evenodd\" fill-opacity=\"1\" /><path clip-path=\"url(#clip310)\" d=\"M1355.83 1522.27 L1355.83 1532.4 L1367.89 1532.4 L1367.89 1536.95 L1355.83 1536.95 L1355.83 1556.3 Q1355.83 1560.66 1357.01 1561.9 Q1358.22 1563.14 1361.88 1563.14 L1367.89 1563.14 L1367.89 1568.04 L1361.88 1568.04 Q1355.1 1568.04 1352.52 1565.53 Q1349.94 1562.98 1349.94 1556.3 L1349.94 1536.95 L1345.65 1536.95 L1345.65 1532.4 L1349.94 1532.4 L1349.94 1522.27 L1355.83 1522.27 Z\" fill=\"#000000\" fill-rule=\"evenodd\" fill-opacity=\"1\" /><path clip-path=\"url(#clip310)\" d=\"M1405.23 1546.53 L1405.23 1568.04 L1399.37 1568.04 L1399.37 1546.72 Q1399.37 1541.66 1397.4 1539.14 Q1395.43 1536.63 1391.48 1536.63 Q1386.74 1536.63 1384 1539.65 Q1381.26 1542.68 1381.26 1547.9 L1381.26 1568.04 L1375.37 1568.04 L1375.37 1518.52 L1381.26 1518.52 L1381.26 1537.93 Q1383.36 1534.72 1386.19 1533.13 Q1389.06 1531.54 1392.78 1531.54 Q1398.93 1531.54 1402.08 1535.36 Q1405.23 1539.14 1405.23 1546.53 Z\" fill=\"#000000\" fill-rule=\"evenodd\" fill-opacity=\"1\" /><path clip-path=\"url(#clip310)\" d=\"M1451.44 1536.5 Q1446.73 1536.5 1444 1540.19 Q1441.26 1543.85 1441.26 1550.25 Q1441.26 1556.65 1443.96 1560.34 Q1446.7 1564 1451.44 1564 Q1456.12 1564 1458.86 1560.31 Q1461.6 1556.62 1461.6 1550.25 Q1461.6 1543.92 1458.86 1540.23 Q1456.12 1536.5 1451.44 1536.5 M1451.44 1531.54 Q1459.08 1531.54 1463.44 1536.5 Q1467.8 1541.47 1467.8 1550.25 Q1467.8 1559 1463.44 1564 Q1459.08 1568.97 1451.44 1568.97 Q1443.77 1568.97 1439.41 1564 Q1435.08 1559 1435.08 1550.25 Q1435.08 1541.47 1439.41 1536.5 Q1443.77 1531.54 1451.44 1531.54 Z\" fill=\"#000000\" fill-rule=\"evenodd\" fill-opacity=\"1\" /><path clip-path=\"url(#clip310)\" d=\"M1495.56 1518.52 L1495.56 1523.39 L1489.96 1523.39 Q1486.8 1523.39 1485.56 1524.66 Q1484.35 1525.93 1484.35 1529.24 L1484.35 1532.4 L1494 1532.4 L1494 1536.95 L1484.35 1536.95 L1484.35 1568.04 L1478.47 1568.04 L1478.47 1536.95 L1472.86 1536.95 L1472.86 1532.4 L1478.47 1532.4 L1478.47 1529.91 Q1478.47 1523.96 1481.23 1521.26 Q1484 1518.52 1490.02 1518.52 L1495.56 1518.52 Z\" fill=\"#000000\" fill-rule=\"evenodd\" fill-opacity=\"1\" /><path clip-path=\"url(#clip310)\" d=\"M1526.72 1515.91 L1535.69 1527.81 L1530.82 1527.81 L1520.45 1515.91 L1526.72 1515.91 Z\" fill=\"#000000\" fill-rule=\"evenodd\" fill-opacity=\"1\" /><path clip-path=\"url(#clip310)\" d=\"M1571.82 1518.52 L1571.82 1523.39 L1566.22 1523.39 Q1563.07 1523.39 1561.82 1524.66 Q1560.62 1525.93 1560.62 1529.24 L1560.62 1532.4 L1570.26 1532.4 L1570.26 1536.95 L1560.62 1536.95 L1560.62 1568.04 L1554.73 1568.04 L1554.73 1536.95 L1549.13 1536.95 L1549.13 1532.4 L1554.73 1532.4 L1554.73 1529.91 Q1554.73 1523.96 1557.5 1521.26 Q1560.27 1518.52 1566.28 1518.52 L1571.82 1518.52 Z\" fill=\"#000000\" fill-rule=\"evenodd\" fill-opacity=\"1\" /><path clip-path=\"url(#clip310)\" d=\"M1590.53 1536.5 Q1585.82 1536.5 1583.09 1540.19 Q1580.35 1543.85 1580.35 1550.25 Q1580.35 1556.65 1583.05 1560.34 Q1585.79 1564 1590.53 1564 Q1595.21 1564 1597.95 1560.31 Q1600.69 1556.62 1600.69 1550.25 Q1600.69 1543.92 1597.95 1540.23 Q1595.21 1536.5 1590.53 1536.5 M1590.53 1531.54 Q1598.17 1531.54 1602.53 1536.5 Q1606.89 1541.47 1606.89 1550.25 Q1606.89 1559 1602.53 1564 Q1598.17 1568.97 1590.53 1568.97 Q1582.86 1568.97 1578.5 1564 Q1574.17 1559 1574.17 1550.25 Q1574.17 1541.47 1578.5 1536.5 Q1582.86 1531.54 1590.53 1531.54 Z\" fill=\"#000000\" fill-rule=\"evenodd\" fill-opacity=\"1\" /><path clip-path=\"url(#clip310)\" d=\"M1630.42 1536.5 Q1625.7 1536.5 1622.97 1540.19 Q1620.23 1543.85 1620.23 1550.25 Q1620.23 1556.65 1622.94 1560.34 Q1625.67 1564 1630.42 1564 Q1635.09 1564 1637.83 1560.31 Q1640.57 1556.62 1640.57 1550.25 Q1640.57 1543.92 1637.83 1540.23 Q1635.09 1536.5 1630.42 1536.5 M1630.42 1531.54 Q1638.05 1531.54 1642.41 1536.5 Q1646.78 1541.47 1646.78 1550.25 Q1646.78 1559 1642.41 1564 Q1638.05 1568.97 1630.42 1568.97 Q1622.74 1568.97 1618.38 1564 Q1614.06 1559 1614.06 1550.25 Q1614.06 1541.47 1618.38 1536.5 Q1622.74 1531.54 1630.42 1531.54 Z\" fill=\"#000000\" fill-rule=\"evenodd\" fill-opacity=\"1\" /><path clip-path=\"url(#clip310)\" d=\"M1662.02 1515.91 L1671 1527.81 L1666.13 1527.81 L1655.75 1515.91 L1662.02 1515.91 Z\" fill=\"#000000\" fill-rule=\"evenodd\" fill-opacity=\"1\" /><polyline clip-path=\"url(#clip312)\" style=\"stroke:#000000; stroke-linecap:butt; stroke-linejoin:round; stroke-width:2; stroke-opacity:0.1; fill:none\" points=\"\n",
       "  175.445,1383.9 2352.76,1383.9 \n",
       "  \"/>\n",
       "<polyline clip-path=\"url(#clip312)\" style=\"stroke:#000000; stroke-linecap:butt; stroke-linejoin:round; stroke-width:2; stroke-opacity:0.1; fill:none\" points=\"\n",
       "  175.445,1169.58 2352.76,1169.58 \n",
       "  \"/>\n",
       "<polyline clip-path=\"url(#clip312)\" style=\"stroke:#000000; stroke-linecap:butt; stroke-linejoin:round; stroke-width:2; stroke-opacity:0.1; fill:none\" points=\"\n",
       "  175.445,955.27 2352.76,955.27 \n",
       "  \"/>\n",
       "<polyline clip-path=\"url(#clip312)\" style=\"stroke:#000000; stroke-linecap:butt; stroke-linejoin:round; stroke-width:2; stroke-opacity:0.1; fill:none\" points=\"\n",
       "  175.445,740.956 2352.76,740.956 \n",
       "  \"/>\n",
       "<polyline clip-path=\"url(#clip312)\" style=\"stroke:#000000; stroke-linecap:butt; stroke-linejoin:round; stroke-width:2; stroke-opacity:0.1; fill:none\" points=\"\n",
       "  175.445,526.641 2352.76,526.641 \n",
       "  \"/>\n",
       "<polyline clip-path=\"url(#clip312)\" style=\"stroke:#000000; stroke-linecap:butt; stroke-linejoin:round; stroke-width:2; stroke-opacity:0.1; fill:none\" points=\"\n",
       "  175.445,312.327 2352.76,312.327 \n",
       "  \"/>\n",
       "<polyline clip-path=\"url(#clip310)\" style=\"stroke:#000000; stroke-linecap:butt; stroke-linejoin:round; stroke-width:4; stroke-opacity:1; fill:none\" points=\"\n",
       "  175.445,1423.18 175.445,123.472 \n",
       "  \"/>\n",
       "<polyline clip-path=\"url(#clip310)\" style=\"stroke:#000000; stroke-linecap:butt; stroke-linejoin:round; stroke-width:4; stroke-opacity:1; fill:none\" points=\"\n",
       "  175.445,1383.9 201.573,1383.9 \n",
       "  \"/>\n",
       "<polyline clip-path=\"url(#clip310)\" style=\"stroke:#000000; stroke-linecap:butt; stroke-linejoin:round; stroke-width:4; stroke-opacity:1; fill:none\" points=\"\n",
       "  175.445,1169.58 201.573,1169.58 \n",
       "  \"/>\n",
       "<polyline clip-path=\"url(#clip310)\" style=\"stroke:#000000; stroke-linecap:butt; stroke-linejoin:round; stroke-width:4; stroke-opacity:1; fill:none\" points=\"\n",
       "  175.445,955.27 201.573,955.27 \n",
       "  \"/>\n",
       "<polyline clip-path=\"url(#clip310)\" style=\"stroke:#000000; stroke-linecap:butt; stroke-linejoin:round; stroke-width:4; stroke-opacity:1; fill:none\" points=\"\n",
       "  175.445,740.956 201.573,740.956 \n",
       "  \"/>\n",
       "<polyline clip-path=\"url(#clip310)\" style=\"stroke:#000000; stroke-linecap:butt; stroke-linejoin:round; stroke-width:4; stroke-opacity:1; fill:none\" points=\"\n",
       "  175.445,526.641 201.573,526.641 \n",
       "  \"/>\n",
       "<polyline clip-path=\"url(#clip310)\" style=\"stroke:#000000; stroke-linecap:butt; stroke-linejoin:round; stroke-width:4; stroke-opacity:1; fill:none\" points=\"\n",
       "  175.445,312.327 201.573,312.327 \n",
       "  \"/>\n",
       "<path clip-path=\"url(#clip310)\" d=\"M119.538 1397.24 L127.177 1397.24 L127.177 1370.88 L118.867 1372.54 L118.867 1368.29 L127.13 1366.62 L131.806 1366.62 L131.806 1397.24 L139.445 1397.24 L139.445 1401.18 L119.538 1401.18 L119.538 1397.24 Z\" fill=\"#000000\" fill-rule=\"evenodd\" fill-opacity=\"1\" /><path clip-path=\"url(#clip310)\" d=\"M123.126 1182.93 L139.445 1182.93 L139.445 1186.86 L117.501 1186.86 L117.501 1182.93 Q120.163 1180.17 124.746 1175.54 Q129.353 1170.89 130.533 1169.55 Q132.779 1167.03 133.658 1165.29 Q134.561 1163.53 134.561 1161.84 Q134.561 1159.09 132.617 1157.35 Q130.695 1155.61 127.593 1155.61 Q125.394 1155.61 122.941 1156.38 Q120.51 1157.14 117.732 1158.69 L117.732 1153.97 Q120.556 1152.84 123.01 1152.26 Q125.464 1151.68 127.501 1151.68 Q132.871 1151.68 136.066 1154.36 Q139.26 1157.05 139.26 1161.54 Q139.26 1163.67 138.45 1165.59 Q137.663 1167.49 135.556 1170.08 Q134.978 1170.75 131.876 1173.97 Q128.774 1177.17 123.126 1182.93 Z\" fill=\"#000000\" fill-rule=\"evenodd\" fill-opacity=\"1\" /><path clip-path=\"url(#clip310)\" d=\"M132.316 953.916 Q135.672 954.633 137.547 956.902 Q139.445 959.17 139.445 962.504 Q139.445 967.619 135.927 970.42 Q132.408 973.221 125.927 973.221 Q123.751 973.221 121.436 972.781 Q119.144 972.365 116.691 971.508 L116.691 966.994 Q118.635 968.129 120.95 968.707 Q123.265 969.286 125.788 969.286 Q130.186 969.286 132.478 967.55 Q134.792 965.814 134.792 962.504 Q134.792 959.448 132.64 957.735 Q130.51 955.999 126.691 955.999 L122.663 955.999 L122.663 952.157 L126.876 952.157 Q130.325 952.157 132.154 950.791 Q133.982 949.402 133.982 946.809 Q133.982 944.147 132.084 942.735 Q130.209 941.3 126.691 941.3 Q124.769 941.3 122.57 941.717 Q120.371 942.133 117.732 943.013 L117.732 938.846 Q120.394 938.106 122.709 937.735 Q125.047 937.365 127.107 937.365 Q132.431 937.365 135.533 939.795 Q138.635 942.203 138.635 946.323 Q138.635 949.194 136.992 951.184 Q135.348 953.152 132.316 953.916 Z\" fill=\"#000000\" fill-rule=\"evenodd\" fill-opacity=\"1\" /><path clip-path=\"url(#clip310)\" d=\"M129.862 727.75 L118.056 746.199 L129.862 746.199 L129.862 727.75 M128.635 723.676 L134.515 723.676 L134.515 746.199 L139.445 746.199 L139.445 750.087 L134.515 750.087 L134.515 758.236 L129.862 758.236 L129.862 750.087 L114.26 750.087 L114.26 745.574 L128.635 723.676 Z\" fill=\"#000000\" fill-rule=\"evenodd\" fill-opacity=\"1\" /><path clip-path=\"url(#clip310)\" d=\"M118.543 509.361 L136.899 509.361 L136.899 513.296 L122.825 513.296 L122.825 521.768 Q123.843 521.421 124.862 521.259 Q125.88 521.074 126.899 521.074 Q132.686 521.074 136.066 524.245 Q139.445 527.417 139.445 532.833 Q139.445 538.412 135.973 541.514 Q132.501 544.592 126.181 544.592 Q124.005 544.592 121.737 544.222 Q119.492 543.852 117.084 543.111 L117.084 538.412 Q119.168 539.546 121.39 540.102 Q123.612 540.657 126.089 540.657 Q130.093 540.657 132.431 538.551 Q134.769 536.444 134.769 532.833 Q134.769 529.222 132.431 527.116 Q130.093 525.009 126.089 525.009 Q124.214 525.009 122.339 525.426 Q120.487 525.843 118.543 526.722 L118.543 509.361 Z\" fill=\"#000000\" fill-rule=\"evenodd\" fill-opacity=\"1\" /><path clip-path=\"url(#clip310)\" d=\"M127.917 310.463 Q124.769 310.463 122.918 312.616 Q121.089 314.769 121.089 318.519 Q121.089 322.246 122.918 324.422 Q124.769 326.574 127.917 326.574 Q131.066 326.574 132.894 324.422 Q134.746 322.246 134.746 318.519 Q134.746 314.769 132.894 312.616 Q131.066 310.463 127.917 310.463 M137.2 295.811 L137.2 300.07 Q135.441 299.236 133.635 298.797 Q131.853 298.357 130.093 298.357 Q125.464 298.357 123.01 301.482 Q120.58 304.607 120.232 310.926 Q121.598 308.912 123.658 307.848 Q125.718 306.76 128.195 306.76 Q133.404 306.76 136.413 309.931 Q139.445 313.079 139.445 318.519 Q139.445 323.843 136.297 327.06 Q133.149 330.278 127.917 330.278 Q121.922 330.278 118.751 325.695 Q115.58 321.088 115.58 312.361 Q115.58 304.167 119.468 299.306 Q123.357 294.422 129.908 294.422 Q131.667 294.422 133.45 294.769 Q135.255 295.116 137.2 295.811 Z\" fill=\"#000000\" fill-rule=\"evenodd\" fill-opacity=\"1\" /><path clip-path=\"url(#clip310)\" d=\"M16.4842 1276.76 L16.4842 1249.45 L21.895 1249.45 L21.895 1270.33 L35.8996 1270.33 L35.8996 1251.49 L41.3104 1251.49 L41.3104 1270.33 L64.0042 1270.33 L64.0042 1276.76 L16.4842 1276.76 Z\" fill=\"#000000\" fill-rule=\"evenodd\" fill-opacity=\"1\" /><path clip-path=\"url(#clip310)\" d=\"M46.0847 1229.3 Q46.0847 1236.4 47.7079 1239.14 Q49.3312 1241.87 53.2461 1241.87 Q56.3653 1241.87 58.2114 1239.84 Q60.0256 1237.77 60.0256 1234.23 Q60.0256 1229.37 56.5881 1226.44 Q53.1188 1223.48 47.3897 1223.48 L46.0847 1223.48 L46.0847 1229.3 M43.6657 1217.62 L64.0042 1217.62 L64.0042 1223.48 L58.5933 1223.48 Q61.8398 1225.48 63.3994 1228.47 Q64.9272 1231.47 64.9272 1235.79 Q64.9272 1241.27 61.8716 1244.52 Q58.7843 1247.73 53.6281 1247.73 Q47.6125 1247.73 44.5569 1243.72 Q41.5014 1239.68 41.5014 1231.69 L41.5014 1223.48 L40.9285 1223.48 Q36.8862 1223.48 34.6901 1226.15 Q32.4621 1228.79 32.4621 1233.6 Q32.4621 1236.65 33.1941 1239.55 Q33.9262 1242.45 35.3903 1245.12 L29.9795 1245.12 Q28.7381 1241.91 28.1334 1238.88 Q27.4968 1235.86 27.4968 1232.99 Q27.4968 1225.26 31.5072 1221.44 Q35.5176 1217.62 43.6657 1217.62 Z\" fill=\"#000000\" fill-rule=\"evenodd\" fill-opacity=\"1\" /><path clip-path=\"url(#clip310)\" d=\"M29.7248 1179.9 L35.1993 1179.9 Q33.8307 1182.39 33.1623 1184.9 Q32.4621 1187.38 32.4621 1189.93 Q32.4621 1195.63 36.0905 1198.78 Q39.6872 1201.93 46.212 1201.93 Q52.7369 1201.93 56.3653 1198.78 Q59.9619 1195.63 59.9619 1189.93 Q59.9619 1187.38 59.2935 1184.9 Q58.5933 1182.39 57.2247 1179.9 L62.6355 1179.9 Q63.7814 1182.35 64.3543 1185 Q64.9272 1187.61 64.9272 1190.57 Q64.9272 1198.62 59.8664 1203.36 Q54.8057 1208.1 46.212 1208.1 Q37.491 1208.1 32.4939 1203.33 Q27.4968 1198.52 27.4968 1190.18 Q27.4968 1187.48 28.0697 1184.9 Q28.6108 1182.32 29.7248 1179.9 Z\" fill=\"#000000\" fill-rule=\"evenodd\" fill-opacity=\"1\" /><path clip-path=\"url(#clip310)\" d=\"M18.2347 1163.93 L28.3562 1163.93 L28.3562 1151.86 L32.9077 1151.86 L32.9077 1163.93 L52.2594 1163.93 Q56.6199 1163.93 57.8613 1162.75 Q59.1026 1161.54 59.1026 1157.88 L59.1026 1151.86 L64.0042 1151.86 L64.0042 1157.88 Q64.0042 1164.66 61.4897 1167.24 Q58.9434 1169.81 52.2594 1169.81 L32.9077 1169.81 L32.9077 1174.11 L28.3562 1174.11 L28.3562 1169.81 L18.2347 1169.81 L18.2347 1163.93 Z\" fill=\"#000000\" fill-rule=\"evenodd\" fill-opacity=\"1\" /><path clip-path=\"url(#clip310)\" d=\"M32.4621 1130.35 Q32.4621 1135.06 36.1542 1137.79 Q39.8145 1140.53 46.212 1140.53 Q52.6095 1140.53 56.3017 1137.83 Q59.9619 1135.09 59.9619 1130.35 Q59.9619 1125.67 56.2698 1122.93 Q52.5777 1120.19 46.212 1120.19 Q39.8781 1120.19 36.186 1122.93 Q32.4621 1125.67 32.4621 1130.35 M27.4968 1130.35 Q27.4968 1122.71 32.4621 1118.35 Q37.4273 1113.99 46.212 1113.99 Q54.9649 1113.99 59.9619 1118.35 Q64.9272 1122.71 64.9272 1130.35 Q64.9272 1138.02 59.9619 1142.38 Q54.9649 1146.71 46.212 1146.71 Q37.4273 1146.71 32.4621 1142.38 Q27.4968 1138.02 27.4968 1130.35 Z\" fill=\"#000000\" fill-rule=\"evenodd\" fill-opacity=\"1\" /><path clip-path=\"url(#clip310)\" d=\"M33.8307 1083.62 Q33.2578 1084.61 33.0032 1085.79 Q32.7167 1086.93 32.7167 1088.33 Q32.7167 1093.3 35.9632 1095.97 Q39.1779 1098.61 45.2253 1098.61 L64.0042 1098.61 L64.0042 1104.5 L28.3562 1104.5 L28.3562 1098.61 L33.8944 1098.61 Q30.6479 1096.77 29.0883 1093.81 Q27.4968 1090.85 27.4968 1086.61 Q27.4968 1086.01 27.5923 1085.28 Q27.656 1084.55 27.8151 1083.65 L33.8307 1083.62 Z\" fill=\"#000000\" fill-rule=\"evenodd\" fill-opacity=\"1\" /><path clip-path=\"url(#clip310)\" d=\"M32.4621 1042.95 Q32.4621 1047.66 36.1542 1050.39 Q39.8145 1053.13 46.212 1053.13 Q52.6095 1053.13 56.3017 1050.43 Q59.9619 1047.69 59.9619 1042.95 Q59.9619 1038.27 56.2698 1035.53 Q52.5777 1032.79 46.212 1032.79 Q39.8781 1032.79 36.186 1035.53 Q32.4621 1038.27 32.4621 1042.95 M27.4968 1042.95 Q27.4968 1035.31 32.4621 1030.95 Q37.4273 1026.59 46.212 1026.59 Q54.9649 1026.59 59.9619 1030.95 Q64.9272 1035.31 64.9272 1042.95 Q64.9272 1050.62 59.9619 1054.98 Q54.9649 1059.31 46.212 1059.31 Q37.4273 1059.31 32.4621 1054.98 Q27.4968 1050.62 27.4968 1042.95 Z\" fill=\"#000000\" fill-rule=\"evenodd\" fill-opacity=\"1\" /><path clip-path=\"url(#clip310)\" d=\"M14.479 998.831 L19.3487 998.831 L19.3487 1004.43 Q19.3487 1007.58 20.6219 1008.83 Q21.895 1010.03 25.2052 1010.03 L28.3562 1010.03 L28.3562 1000.39 L32.9077 1000.39 L32.9077 1010.03 L64.0042 1010.03 L64.0042 1015.92 L32.9077 1015.92 L32.9077 1021.52 L28.3562 1021.52 L28.3562 1015.92 L25.8736 1015.92 Q19.9216 1015.92 17.2162 1013.15 Q14.479 1010.38 14.479 1004.37 L14.479 998.831 Z\" fill=\"#000000\" fill-rule=\"evenodd\" fill-opacity=\"1\" /><path clip-path=\"url(#clip310)\" d=\"M58.657 967.544 L77.5631 967.544 L77.5631 973.432 L28.3562 973.432 L28.3562 967.544 L33.7671 967.544 Q30.5842 965.698 29.0564 962.897 Q27.4968 960.064 27.4968 956.149 Q27.4968 949.656 32.6531 945.614 Q37.8093 941.54 46.212 941.54 Q54.6147 941.54 59.771 945.614 Q64.9272 949.656 64.9272 956.149 Q64.9272 960.064 63.3994 962.897 Q61.8398 965.698 58.657 967.544 M46.212 947.619 Q39.7508 947.619 36.0905 950.293 Q32.3984 952.934 32.3984 957.581 Q32.3984 962.228 36.0905 964.902 Q39.7508 967.544 46.212 967.544 Q52.6732 967.544 56.3653 964.902 Q60.0256 962.228 60.0256 957.581 Q60.0256 952.934 56.3653 950.293 Q52.6732 947.619 46.212 947.619 Z\" fill=\"#000000\" fill-rule=\"evenodd\" fill-opacity=\"1\" /><path clip-path=\"url(#clip310)\" d=\"M44.7161 901.34 L47.5806 901.34 L47.5806 928.267 Q53.6281 927.885 56.8109 924.639 Q59.9619 921.36 59.9619 915.536 Q59.9619 912.162 59.1344 909.011 Q58.3069 905.828 56.6518 902.709 L62.1899 902.709 Q63.5267 905.86 64.227 909.17 Q64.9272 912.48 64.9272 915.886 Q64.9272 924.416 59.9619 929.413 Q54.9967 934.378 46.5303 934.378 Q37.7774 934.378 32.6531 929.668 Q27.4968 924.925 27.4968 916.904 Q27.4968 909.711 32.1438 905.542 Q36.7589 901.34 44.7161 901.34 M42.9973 907.197 Q38.1912 907.26 35.3266 909.902 Q32.4621 912.512 32.4621 916.841 Q32.4621 921.742 35.2312 924.702 Q38.0002 927.631 43.0292 928.076 L42.9973 907.197 Z\" fill=\"#000000\" fill-rule=\"evenodd\" fill-opacity=\"1\" /><path clip-path=\"url(#clip310)\" d=\"M33.8307 871.071 Q33.2578 872.058 33.0032 873.236 Q32.7167 874.382 32.7167 875.782 Q32.7167 880.747 35.9632 883.421 Q39.1779 886.063 45.2253 886.063 L64.0042 886.063 L64.0042 891.951 L28.3562 891.951 L28.3562 886.063 L33.8944 886.063 Q30.6479 884.217 29.0883 881.257 Q27.4968 878.296 27.4968 874.063 Q27.4968 873.459 27.5923 872.726 Q27.656 871.994 27.8151 871.103 L33.8307 871.071 Z\" fill=\"#000000\" fill-rule=\"evenodd\" fill-opacity=\"1\" /><path clip-path=\"url(#clip310)\" d=\"M14.479 846.882 L19.3487 846.882 L19.3487 852.484 Q19.3487 855.635 20.6219 856.876 Q21.895 858.085 25.2052 858.085 L28.3562 858.085 L28.3562 848.441 L32.9077 848.441 L32.9077 858.085 L64.0042 858.085 L64.0042 863.974 L32.9077 863.974 L32.9077 869.575 L28.3562 869.575 L28.3562 863.974 L25.8736 863.974 Q19.9216 863.974 17.2162 861.205 Q14.479 858.435 14.479 852.42 L14.479 846.882 Z\" fill=\"#000000\" fill-rule=\"evenodd\" fill-opacity=\"1\" /><path clip-path=\"url(#clip310)\" d=\"M32.4621 828.167 Q32.4621 832.877 36.1542 835.614 Q39.8145 838.352 46.212 838.352 Q52.6095 838.352 56.3017 835.646 Q59.9619 832.909 59.9619 828.167 Q59.9619 823.488 56.2698 820.75 Q52.5777 818.013 46.212 818.013 Q39.8781 818.013 36.186 820.75 Q32.4621 823.488 32.4621 828.167 M27.4968 828.167 Q27.4968 820.528 32.4621 816.167 Q37.4273 811.807 46.212 811.807 Q54.9649 811.807 59.9619 816.167 Q64.9272 820.528 64.9272 828.167 Q64.9272 835.837 59.9619 840.198 Q54.9649 844.526 46.212 844.526 Q37.4273 844.526 32.4621 840.198 Q27.4968 835.837 27.4968 828.167 Z\" fill=\"#000000\" fill-rule=\"evenodd\" fill-opacity=\"1\" /><path clip-path=\"url(#clip310)\" d=\"M33.8307 781.442 Q33.2578 782.429 33.0032 783.607 Q32.7167 784.752 32.7167 786.153 Q32.7167 791.118 35.9632 793.792 Q39.1779 796.433 45.2253 796.433 L64.0042 796.433 L64.0042 802.322 L28.3562 802.322 L28.3562 796.433 L33.8944 796.433 Q30.6479 794.587 29.0883 791.627 Q27.4968 788.667 27.4968 784.434 Q27.4968 783.829 27.5923 783.097 Q27.656 782.365 27.8151 781.474 L33.8307 781.442 Z\" fill=\"#000000\" fill-rule=\"evenodd\" fill-opacity=\"1\" /><path clip-path=\"url(#clip310)\" d=\"M35.1993 748.691 Q31.2526 746.495 29.3747 743.439 Q27.4968 740.383 27.4968 736.246 Q27.4968 730.676 31.4117 727.652 Q35.2948 724.628 42.4881 724.628 L64.0042 724.628 L64.0042 730.517 L42.679 730.517 Q37.5546 730.517 35.072 732.331 Q32.5894 734.145 32.5894 737.869 Q32.5894 742.42 35.6131 745.062 Q38.6368 747.704 43.8567 747.704 L64.0042 747.704 L64.0042 753.592 L42.679 753.592 Q37.5228 753.592 35.072 755.407 Q32.5894 757.221 32.5894 761.008 Q32.5894 765.496 35.6449 768.138 Q38.6686 770.78 43.8567 770.78 L64.0042 770.78 L64.0042 776.668 L28.3562 776.668 L28.3562 770.78 L33.8944 770.78 Q30.616 768.775 29.0564 765.974 Q27.4968 763.173 27.4968 759.321 Q27.4968 755.438 29.4702 752.733 Q31.4436 749.996 35.1993 748.691 Z\" fill=\"#000000\" fill-rule=\"evenodd\" fill-opacity=\"1\" /><path clip-path=\"url(#clip310)\" d=\"M46.0847 696.747 Q46.0847 703.844 47.7079 706.582 Q49.3312 709.319 53.2461 709.319 Q56.3653 709.319 58.2114 707.282 Q60.0256 705.213 60.0256 701.68 Q60.0256 696.81 56.5881 693.882 Q53.1188 690.922 47.3897 690.922 L46.0847 690.922 L46.0847 696.747 M43.6657 685.065 L64.0042 685.065 L64.0042 690.922 L58.5933 690.922 Q61.8398 692.927 63.3994 695.919 Q64.9272 698.911 64.9272 703.24 Q64.9272 708.714 61.8716 711.961 Q58.7843 715.175 53.6281 715.175 Q47.6125 715.175 44.5569 711.165 Q41.5014 707.123 41.5014 699.134 L41.5014 690.922 L40.9285 690.922 Q36.8862 690.922 34.6901 693.596 Q32.4621 696.237 32.4621 701.043 Q32.4621 704.099 33.1941 706.995 Q33.9262 709.892 35.3903 712.565 L29.9795 712.565 Q28.7381 709.351 28.1334 706.327 Q27.4968 703.303 27.4968 700.439 Q27.4968 692.704 31.5072 688.885 Q35.5176 685.065 43.6657 685.065 Z\" fill=\"#000000\" fill-rule=\"evenodd\" fill-opacity=\"1\" /><path clip-path=\"url(#clip310)\" d=\"M42.4881 643.37 L64.0042 643.37 L64.0042 649.227 L42.679 649.227 Q37.6183 649.227 35.1038 651.2 Q32.5894 653.173 32.5894 657.12 Q32.5894 661.862 35.6131 664.6 Q38.6368 667.337 43.8567 667.337 L64.0042 667.337 L64.0042 673.225 L28.3562 673.225 L28.3562 667.337 L33.8944 667.337 Q30.6797 665.236 29.0883 662.404 Q27.4968 659.539 27.4968 655.815 Q27.4968 649.672 31.3163 646.521 Q35.1038 643.37 42.4881 643.37 Z\" fill=\"#000000\" fill-rule=\"evenodd\" fill-opacity=\"1\" /><path clip-path=\"url(#clip310)\" d=\"M29.7248 606.035 L35.1993 606.035 Q33.8307 608.518 33.1623 611.032 Q32.4621 613.515 32.4621 616.061 Q32.4621 621.759 36.0905 624.91 Q39.6872 628.061 46.212 628.061 Q52.7369 628.061 56.3653 624.91 Q59.9619 621.759 59.9619 616.061 Q59.9619 613.515 59.2935 611.032 Q58.5933 608.518 57.2247 606.035 L62.6355 606.035 Q63.7814 608.486 64.3543 611.128 Q64.9272 613.738 64.9272 616.698 Q64.9272 624.75 59.8664 629.493 Q54.8057 634.235 46.212 634.235 Q37.491 634.235 32.4939 629.461 Q27.4968 624.655 27.4968 616.316 Q27.4968 613.61 28.0697 611.032 Q28.6108 608.454 29.7248 606.035 Z\" fill=\"#000000\" fill-rule=\"evenodd\" fill-opacity=\"1\" /><path clip-path=\"url(#clip310)\" d=\"M44.7161 565.358 L47.5806 565.358 L47.5806 592.285 Q53.6281 591.903 56.8109 588.657 Q59.9619 585.378 59.9619 579.554 Q59.9619 576.18 59.1344 573.029 Q58.3069 569.846 56.6518 566.727 L62.1899 566.727 Q63.5267 569.878 64.227 573.188 Q64.9272 576.498 64.9272 579.904 Q64.9272 588.434 59.9619 593.431 Q54.9967 598.396 46.5303 598.396 Q37.7774 598.396 32.6531 593.686 Q27.4968 588.943 27.4968 580.923 Q27.4968 573.729 32.1438 569.56 Q36.7589 565.358 44.7161 565.358 M42.9973 571.215 Q38.1912 571.278 35.3266 573.92 Q32.4621 576.53 32.4621 580.859 Q32.4621 585.76 35.2312 588.72 Q38.0002 591.649 43.0292 592.094 L42.9973 571.215 Z\" fill=\"#000000\" fill-rule=\"evenodd\" fill-opacity=\"1\" /><path clip-path=\"url(#clip310)\" d=\"M28.3562 535.026 L28.3562 529.169 L64.0042 529.169 L64.0042 535.026 L28.3562 535.026 M14.479 535.026 L14.479 529.169 L21.895 529.169 L21.895 535.026 L14.479 535.026 Z\" fill=\"#000000\" fill-rule=\"evenodd\" fill-opacity=\"1\" /><path clip-path=\"url(#clip310)\" d=\"M42.4881 487.283 L64.0042 487.283 L64.0042 493.139 L42.679 493.139 Q37.6183 493.139 35.1038 495.113 Q32.5894 497.086 32.5894 501.033 Q32.5894 505.775 35.6131 508.513 Q38.6368 511.25 43.8567 511.25 L64.0042 511.25 L64.0042 517.138 L28.3562 517.138 L28.3562 511.25 L33.8944 511.25 Q30.6797 509.149 29.0883 506.316 Q27.4968 503.452 27.4968 499.728 Q27.4968 493.585 31.3163 490.434 Q35.1038 487.283 42.4881 487.283 Z\" fill=\"#000000\" fill-rule=\"evenodd\" fill-opacity=\"1\" /><path clip-path=\"url(#clip310)\" d=\"M29.7248 449.948 L35.1993 449.948 Q33.8307 452.431 33.1623 454.945 Q32.4621 457.428 32.4621 459.974 Q32.4621 465.671 36.0905 468.822 Q39.6872 471.973 46.212 471.973 Q52.7369 471.973 56.3653 468.822 Q59.9619 465.671 59.9619 459.974 Q59.9619 457.428 59.2935 454.945 Q58.5933 452.431 57.2247 449.948 L62.6355 449.948 Q63.7814 452.399 64.3543 455.041 Q64.9272 457.651 64.9272 460.611 Q64.9272 468.663 59.8664 473.406 Q54.8057 478.148 46.212 478.148 Q37.491 478.148 32.4939 473.374 Q27.4968 468.568 27.4968 460.229 Q27.4968 457.523 28.0697 454.945 Q28.6108 452.367 29.7248 449.948 Z\" fill=\"#000000\" fill-rule=\"evenodd\" fill-opacity=\"1\" /><path clip-path=\"url(#clip310)\" d=\"M33.8307 419.106 Q33.2578 420.093 33.0032 421.271 Q32.7167 422.416 32.7167 423.817 Q32.7167 428.782 35.9632 431.456 Q39.1779 434.097 45.2253 434.097 L64.0042 434.097 L64.0042 439.986 L28.3562 439.986 L28.3562 434.097 L33.8944 434.097 Q30.6479 432.251 29.0883 429.291 Q27.4968 426.331 27.4968 422.098 Q27.4968 421.493 27.5923 420.761 Q27.656 420.029 27.8151 419.138 L33.8307 419.106 Z\" fill=\"#000000\" fill-rule=\"evenodd\" fill-opacity=\"1\" /><path clip-path=\"url(#clip310)\" d=\"M44.7161 383.904 L47.5806 383.904 L47.5806 410.831 Q53.6281 410.449 56.8109 407.202 Q59.9619 403.924 59.9619 398.099 Q59.9619 394.726 59.1344 391.575 Q58.3069 388.392 56.6518 385.273 L62.1899 385.273 Q63.5267 388.424 64.227 391.734 Q64.9272 395.044 64.9272 398.45 Q64.9272 406.98 59.9619 411.977 Q54.9967 416.942 46.5303 416.942 Q37.7774 416.942 32.6531 412.231 Q27.4968 407.489 27.4968 399.468 Q27.4968 392.275 32.1438 388.105 Q36.7589 383.904 44.7161 383.904 M42.9973 389.76 Q38.1912 389.824 35.3266 392.466 Q32.4621 395.076 32.4621 399.404 Q32.4621 404.306 35.2312 407.266 Q38.0002 410.194 43.0292 410.64 L42.9973 389.76 Z\" fill=\"#000000\" fill-rule=\"evenodd\" fill-opacity=\"1\" /><path clip-path=\"url(#clip310)\" d=\"M46.0847 358.091 Q46.0847 365.189 47.7079 367.926 Q49.3312 370.663 53.2461 370.663 Q56.3653 370.663 58.2114 368.626 Q60.0256 366.557 60.0256 363.024 Q60.0256 358.155 56.5881 355.226 Q53.1188 352.266 47.3897 352.266 L46.0847 352.266 L46.0847 358.091 M43.6657 346.41 L64.0042 346.41 L64.0042 352.266 L58.5933 352.266 Q61.8398 354.272 63.3994 357.263 Q64.9272 360.255 64.9272 364.584 Q64.9272 370.058 61.8716 373.305 Q58.7843 376.52 53.6281 376.52 Q47.6125 376.52 44.5569 372.509 Q41.5014 368.467 41.5014 360.478 L41.5014 352.266 L40.9285 352.266 Q36.8862 352.266 34.6901 354.94 Q32.4621 357.582 32.4621 362.388 Q32.4621 365.443 33.1941 368.34 Q33.9262 371.236 35.3903 373.91 L29.9795 373.91 Q28.7381 370.695 28.1334 367.671 Q27.4968 364.648 27.4968 361.783 Q27.4968 354.049 31.5072 350.229 Q35.5176 346.41 43.6657 346.41 Z\" fill=\"#000000\" fill-rule=\"evenodd\" fill-opacity=\"1\" /><path clip-path=\"url(#clip310)\" d=\"M29.4065 311.621 L34.9447 311.621 Q33.6716 314.104 33.035 316.778 Q32.3984 319.451 32.3984 322.316 Q32.3984 326.676 33.7352 328.872 Q35.072 331.037 37.7456 331.037 Q39.7826 331.037 40.9603 329.477 Q42.1061 327.917 43.1565 323.207 L43.6021 321.202 Q44.9389 314.963 47.3897 312.353 Q49.8086 309.712 54.1691 309.712 Q59.1344 309.712 62.0308 313.658 Q64.9272 317.573 64.9272 324.448 Q64.9272 327.313 64.3543 330.432 Q63.8132 333.519 62.6992 336.957 L56.6518 336.957 Q58.3387 333.71 59.198 330.559 Q60.0256 327.408 60.0256 324.321 Q60.0256 320.183 58.6251 317.955 Q57.1929 315.727 54.6147 315.727 Q52.2276 315.727 50.9545 317.35 Q49.6813 318.942 48.5037 324.385 L48.0262 326.422 Q46.8804 331.864 44.5251 334.283 Q42.138 336.702 38.0002 336.702 Q32.9713 336.702 30.2341 333.137 Q27.4968 329.573 27.4968 323.016 Q27.4968 319.769 27.9743 316.905 Q28.4517 314.04 29.4065 311.621 Z\" fill=\"#000000\" fill-rule=\"evenodd\" fill-opacity=\"1\" /><path clip-path=\"url(#clip310)\" d=\"M44.7161 269.894 L47.5806 269.894 L47.5806 296.821 Q53.6281 296.439 56.8109 293.193 Q59.9619 289.914 59.9619 284.09 Q59.9619 280.716 59.1344 277.565 Q58.3069 274.382 56.6518 271.263 L62.1899 271.263 Q63.5267 274.414 64.227 277.724 Q64.9272 281.034 64.9272 284.44 Q64.9272 292.97 59.9619 297.967 Q54.9967 302.932 46.5303 302.932 Q37.7774 302.932 32.6531 298.221 Q27.4968 293.479 27.4968 285.458 Q27.4968 278.265 32.1438 274.095 Q36.7589 269.894 44.7161 269.894 M42.9973 275.751 Q38.1912 275.814 35.3266 278.456 Q32.4621 281.066 32.4621 285.395 Q32.4621 290.296 35.2312 293.256 Q38.0002 296.184 43.0292 296.63 L42.9973 275.751 Z\" fill=\"#000000\" fill-rule=\"evenodd\" fill-opacity=\"1\" /><path clip-path=\"url(#clip310)\" d=\"M441.321 18.8205 L441.321 41.5461 L451.611 41.5461 Q457.322 41.5461 460.442 38.5889 Q463.561 35.6318 463.561 30.163 Q463.561 24.7348 460.442 21.7777 Q457.322 18.8205 451.611 18.8205 L441.321 18.8205 M433.139 12.096 L451.611 12.096 Q461.778 12.096 466.964 16.714 Q472.189 21.2916 472.189 30.163 Q472.189 39.1155 466.964 43.6931 Q461.778 48.2706 451.611 48.2706 L441.321 48.2706 L441.321 72.576 L433.139 72.576 L433.139 12.096 Z\" fill=\"#000000\" fill-rule=\"evenodd\" fill-opacity=\"1\" /><path clip-path=\"url(#clip310)\" d=\"M518.694 48.0275 L518.694 51.6733 L484.423 51.6733 Q484.909 59.3701 489.041 63.421 Q493.213 67.4314 500.627 67.4314 Q504.921 67.4314 508.931 66.3781 Q512.982 65.3249 516.952 63.2184 L516.952 70.267 Q512.941 71.9684 508.728 72.8596 Q504.516 73.7508 500.181 73.7508 Q489.325 73.7508 482.965 67.4314 Q476.645 61.1119 476.645 50.3365 Q476.645 39.1965 482.641 32.6746 Q488.676 26.1121 498.885 26.1121 Q508.04 26.1121 513.346 32.0264 Q518.694 37.9003 518.694 48.0275 M511.24 45.84 Q511.159 39.7232 507.797 36.0774 Q504.475 32.4315 498.966 32.4315 Q492.727 32.4315 488.96 35.9558 Q485.233 39.4801 484.666 45.8805 L511.24 45.84 Z\" fill=\"#000000\" fill-rule=\"evenodd\" fill-opacity=\"1\" /><path clip-path=\"url(#clip310)\" d=\"M557.218 34.1734 Q555.962 33.4443 554.463 33.1202 Q553.005 32.7556 551.222 32.7556 Q544.903 32.7556 541.5 36.8875 Q538.138 40.9789 538.138 48.6757 L538.138 72.576 L530.644 72.576 L530.644 27.2059 L538.138 27.2059 L538.138 34.2544 Q540.488 30.1225 544.255 28.1376 Q548.022 26.1121 553.41 26.1121 Q554.18 26.1121 555.111 26.2337 Q556.043 26.3147 557.177 26.5172 L557.218 34.1734 Z\" fill=\"#000000\" fill-rule=\"evenodd\" fill-opacity=\"1\" /><path clip-path=\"url(#clip310)\" d=\"M588.005 9.54393 L588.005 15.7418 L580.875 15.7418 Q576.865 15.7418 575.285 17.3622 Q573.745 18.9825 573.745 23.1955 L573.745 27.2059 L586.02 27.2059 L586.02 32.9987 L573.745 32.9987 L573.745 72.576 L566.251 72.576 L566.251 32.9987 L559.122 32.9987 L559.122 27.2059 L566.251 27.2059 L566.251 24.0462 Q566.251 16.471 569.776 13.0277 Q573.3 9.54393 580.956 9.54393 L588.005 9.54393 Z\" fill=\"#000000\" fill-rule=\"evenodd\" fill-opacity=\"1\" /><path clip-path=\"url(#clip310)\" d=\"M611.824 32.4315 Q605.829 32.4315 602.345 37.1306 Q598.861 41.7891 598.861 49.9314 Q598.861 58.0738 602.304 62.7728 Q605.788 67.4314 611.824 67.4314 Q617.779 67.4314 621.263 62.7323 Q624.746 58.0333 624.746 49.9314 Q624.746 41.8701 621.263 37.1711 Q617.779 32.4315 611.824 32.4315 M611.824 26.1121 Q621.546 26.1121 627.096 32.4315 Q632.646 38.7509 632.646 49.9314 Q632.646 61.0714 627.096 67.4314 Q621.546 73.7508 611.824 73.7508 Q602.061 73.7508 596.512 67.4314 Q591.002 61.0714 591.002 49.9314 Q591.002 38.7509 596.512 32.4315 Q602.061 26.1121 611.824 26.1121 Z\" fill=\"#000000\" fill-rule=\"evenodd\" fill-opacity=\"1\" /><path clip-path=\"url(#clip310)\" d=\"M671.291 34.1734 Q670.035 33.4443 668.537 33.1202 Q667.078 32.7556 665.296 32.7556 Q658.976 32.7556 655.574 36.8875 Q652.211 40.9789 652.211 48.6757 L652.211 72.576 L644.717 72.576 L644.717 27.2059 L652.211 27.2059 L652.211 34.2544 Q654.561 30.1225 658.328 28.1376 Q662.096 26.1121 667.483 26.1121 Q668.253 26.1121 669.185 26.2337 Q670.116 26.3147 671.251 26.5172 L671.291 34.1734 Z\" fill=\"#000000\" fill-rule=\"evenodd\" fill-opacity=\"1\" /><path clip-path=\"url(#clip310)\" d=\"M712.975 35.9153 Q715.77 30.8922 719.659 28.5022 Q723.548 26.1121 728.814 26.1121 Q735.903 26.1121 739.752 31.0947 Q743.6 36.0368 743.6 45.1919 L743.6 72.576 L736.106 72.576 L736.106 45.4349 Q736.106 38.913 733.797 35.7533 Q731.488 32.5936 726.748 32.5936 Q720.955 32.5936 717.593 36.4419 Q714.231 40.2903 714.231 46.9338 L714.231 72.576 L706.737 72.576 L706.737 45.4349 Q706.737 38.8725 704.428 35.7533 Q702.119 32.5936 697.298 32.5936 Q691.586 32.5936 688.224 36.4824 Q684.862 40.3308 684.862 46.9338 L684.862 72.576 L677.368 72.576 L677.368 27.2059 L684.862 27.2059 L684.862 34.2544 Q687.414 30.082 690.979 28.0971 Q694.543 26.1121 699.445 26.1121 Q704.387 26.1121 707.83 28.6237 Q711.314 31.1352 712.975 35.9153 Z\" fill=\"#000000\" fill-rule=\"evenodd\" fill-opacity=\"1\" /><path clip-path=\"url(#clip310)\" d=\"M779.086 49.7694 Q770.052 49.7694 766.569 51.8354 Q763.085 53.9013 763.085 58.8839 Q763.085 62.8538 765.677 65.2034 Q768.31 67.5124 772.807 67.5124 Q779.005 67.5124 782.732 63.1374 Q786.499 58.7219 786.499 51.4303 L786.499 49.7694 L779.086 49.7694 M793.953 46.6907 L793.953 72.576 L786.499 72.576 L786.499 65.6895 Q783.947 69.8214 780.139 71.8063 Q776.331 73.7508 770.822 73.7508 Q763.854 73.7508 759.722 69.8619 Q755.631 65.9325 755.631 59.3701 Q755.631 51.7138 760.735 47.825 Q765.88 43.9361 776.048 43.9361 L786.499 43.9361 L786.499 43.2069 Q786.499 38.0623 783.096 35.2672 Q779.734 32.4315 773.617 32.4315 Q769.728 32.4315 766.042 33.3632 Q762.356 34.295 758.953 36.1584 L758.953 29.2718 Q763.044 27.692 766.893 26.9223 Q770.741 26.1121 774.387 26.1121 Q784.23 26.1121 789.092 31.2163 Q793.953 36.3204 793.953 46.6907 Z\" fill=\"#000000\" fill-rule=\"evenodd\" fill-opacity=\"1\" /><path clip-path=\"url(#clip310)\" d=\"M847.019 45.1919 L847.019 72.576 L839.566 72.576 L839.566 45.4349 Q839.566 38.994 837.054 35.7938 Q834.543 32.5936 829.52 32.5936 Q823.484 32.5936 820 36.4419 Q816.516 40.2903 816.516 46.9338 L816.516 72.576 L809.022 72.576 L809.022 27.2059 L816.516 27.2059 L816.516 34.2544 Q819.19 30.163 822.795 28.1376 Q826.441 26.1121 831.18 26.1121 Q838.999 26.1121 843.009 30.9732 Q847.019 35.7938 847.019 45.1919 Z\" fill=\"#000000\" fill-rule=\"evenodd\" fill-opacity=\"1\" /><path clip-path=\"url(#clip310)\" d=\"M894.537 28.9478 L894.537 35.9153 Q891.377 34.1734 888.177 33.3227 Q885.017 32.4315 881.776 32.4315 Q874.525 32.4315 870.515 37.0496 Q866.504 41.6271 866.504 49.9314 Q866.504 58.2358 870.515 62.8538 Q874.525 67.4314 881.776 67.4314 Q885.017 67.4314 888.177 66.5807 Q891.377 65.6895 894.537 63.9476 L894.537 70.8341 Q891.417 72.2924 888.055 73.0216 Q884.733 73.7508 880.966 73.7508 Q870.717 73.7508 864.681 67.3098 Q858.646 60.8689 858.646 49.9314 Q858.646 38.832 864.722 32.472 Q870.839 26.1121 881.452 26.1121 Q884.895 26.1121 888.177 26.8413 Q891.458 27.5299 894.537 28.9478 Z\" fill=\"#000000\" fill-rule=\"evenodd\" fill-opacity=\"1\" /><path clip-path=\"url(#clip310)\" d=\"M946.307 48.0275 L946.307 51.6733 L912.036 51.6733 Q912.523 59.3701 916.655 63.421 Q920.827 67.4314 928.24 67.4314 Q932.534 67.4314 936.544 66.3781 Q940.595 65.3249 944.565 63.2184 L944.565 70.267 Q940.555 71.9684 936.342 72.8596 Q932.129 73.7508 927.794 73.7508 Q916.938 73.7508 910.578 67.4314 Q904.259 61.1119 904.259 50.3365 Q904.259 39.1965 910.254 32.6746 Q916.29 26.1121 926.498 26.1121 Q935.653 26.1121 940.96 32.0264 Q946.307 37.9003 946.307 48.0275 M938.853 45.84 Q938.772 39.7232 935.41 36.0774 Q932.088 32.4315 926.579 32.4315 Q920.341 32.4315 916.573 35.9558 Q912.847 39.4801 912.28 45.8805 L938.853 45.84 Z\" fill=\"#000000\" fill-rule=\"evenodd\" fill-opacity=\"1\" /><path clip-path=\"url(#clip310)\" d=\"M984.912 27.2059 L992.366 27.2059 L992.366 72.576 L984.912 72.576 L984.912 27.2059 M984.912 9.54393 L992.366 9.54393 L992.366 18.9825 L984.912 18.9825 L984.912 9.54393 Z\" fill=\"#000000\" fill-rule=\"evenodd\" fill-opacity=\"1\" /><path clip-path=\"url(#clip310)\" d=\"M1045.68 45.1919 L1045.68 72.576 L1038.22 72.576 L1038.22 45.4349 Q1038.22 38.994 1035.71 35.7938 Q1033.2 32.5936 1028.18 32.5936 Q1022.14 32.5936 1018.66 36.4419 Q1015.17 40.2903 1015.17 46.9338 L1015.17 72.576 L1007.68 72.576 L1007.68 27.2059 L1015.17 27.2059 L1015.17 34.2544 Q1017.85 30.163 1021.45 28.1376 Q1025.1 26.1121 1029.84 26.1121 Q1037.66 26.1121 1041.67 30.9732 Q1045.68 35.7938 1045.68 45.1919 Z\" fill=\"#000000\" fill-rule=\"evenodd\" fill-opacity=\"1\" /><path clip-path=\"url(#clip310)\" d=\"M1093.19 28.9478 L1093.19 35.9153 Q1090.03 34.1734 1086.83 33.3227 Q1083.67 32.4315 1080.43 32.4315 Q1073.18 32.4315 1069.17 37.0496 Q1065.16 41.6271 1065.16 49.9314 Q1065.16 58.2358 1069.17 62.8538 Q1073.18 67.4314 1080.43 67.4314 Q1083.67 67.4314 1086.83 66.5807 Q1090.03 65.6895 1093.19 63.9476 L1093.19 70.8341 Q1090.07 72.2924 1086.71 73.0216 Q1083.39 73.7508 1079.62 73.7508 Q1069.37 73.7508 1063.34 67.3098 Q1057.3 60.8689 1057.3 49.9314 Q1057.3 38.832 1063.38 32.472 Q1069.5 26.1121 1080.11 26.1121 Q1083.55 26.1121 1086.83 26.8413 Q1090.11 27.5299 1093.19 28.9478 Z\" fill=\"#000000\" fill-rule=\"evenodd\" fill-opacity=\"1\" /><path clip-path=\"url(#clip310)\" d=\"M1132.45 34.1734 Q1131.19 33.4443 1129.69 33.1202 Q1128.23 32.7556 1126.45 32.7556 Q1120.13 32.7556 1116.73 36.8875 Q1113.37 40.9789 1113.37 48.6757 L1113.37 72.576 L1105.87 72.576 L1105.87 27.2059 L1113.37 27.2059 L1113.37 34.2544 Q1115.72 30.1225 1119.48 28.1376 Q1123.25 26.1121 1128.64 26.1121 Q1129.41 26.1121 1130.34 26.2337 Q1131.27 26.3147 1132.41 26.5172 L1132.45 34.1734 Z\" fill=\"#000000\" fill-rule=\"evenodd\" fill-opacity=\"1\" /><path clip-path=\"url(#clip310)\" d=\"M1177.25 48.0275 L1177.25 51.6733 L1142.98 51.6733 Q1143.46 59.3701 1147.6 63.421 Q1151.77 67.4314 1159.18 67.4314 Q1163.48 67.4314 1167.49 66.3781 Q1171.54 65.3249 1175.51 63.2184 L1175.51 70.267 Q1171.5 71.9684 1167.28 72.8596 Q1163.07 73.7508 1158.74 73.7508 Q1147.88 73.7508 1141.52 67.4314 Q1135.2 61.1119 1135.2 50.3365 Q1135.2 39.1965 1141.2 32.6746 Q1147.23 26.1121 1157.44 26.1121 Q1166.6 26.1121 1171.9 32.0264 Q1177.25 37.9003 1177.25 48.0275 M1169.8 45.84 Q1169.71 39.7232 1166.35 36.0774 Q1163.03 32.4315 1157.52 32.4315 Q1151.28 32.4315 1147.52 35.9558 Q1143.79 39.4801 1143.22 45.8805 L1169.8 45.84 Z\" fill=\"#000000\" fill-rule=\"evenodd\" fill-opacity=\"1\" /><path clip-path=\"url(#clip310)\" d=\"M1210.1 49.7694 Q1201.07 49.7694 1197.58 51.8354 Q1194.1 53.9013 1194.1 58.8839 Q1194.1 62.8538 1196.69 65.2034 Q1199.33 67.5124 1203.82 67.5124 Q1210.02 67.5124 1213.75 63.1374 Q1217.52 58.7219 1217.52 51.4303 L1217.52 49.7694 L1210.1 49.7694 M1224.97 46.6907 L1224.97 72.576 L1217.52 72.576 L1217.52 65.6895 Q1214.96 69.8214 1211.16 71.8063 Q1207.35 73.7508 1201.84 73.7508 Q1194.87 73.7508 1190.74 69.8619 Q1186.65 65.9325 1186.65 59.3701 Q1186.65 51.7138 1191.75 47.825 Q1196.9 43.9361 1207.06 43.9361 L1217.52 43.9361 L1217.52 43.2069 Q1217.52 38.0623 1214.11 35.2672 Q1210.75 32.4315 1204.63 32.4315 Q1200.74 32.4315 1197.06 33.3632 Q1193.37 34.295 1189.97 36.1584 L1189.97 29.2718 Q1194.06 27.692 1197.91 26.9223 Q1201.76 26.1121 1205.4 26.1121 Q1215.25 26.1121 1220.11 31.2163 Q1224.97 36.3204 1224.97 46.6907 Z\" fill=\"#000000\" fill-rule=\"evenodd\" fill-opacity=\"1\" /><path clip-path=\"url(#clip310)\" d=\"M1269.25 28.5427 L1269.25 35.5912 Q1266.09 33.9709 1262.68 33.1607 Q1259.28 32.3505 1255.63 32.3505 Q1250.08 32.3505 1247.29 34.0519 Q1244.53 35.7533 1244.53 39.156 Q1244.53 41.7486 1246.52 43.2475 Q1248.5 44.7058 1254.5 46.0426 L1257.05 46.6097 Q1264.99 48.3111 1268.31 51.4303 Q1271.68 54.509 1271.68 60.0587 Q1271.68 66.3781 1266.65 70.0644 Q1261.67 73.7508 1252.92 73.7508 Q1249.27 73.7508 1245.3 73.0216 Q1241.37 72.3329 1237 70.9151 L1237 63.2184 Q1241.13 65.3654 1245.14 66.4591 Q1249.15 67.5124 1253.08 67.5124 Q1258.35 67.5124 1261.18 65.73 Q1264.02 63.9071 1264.02 60.6258 Q1264.02 57.5877 1261.95 55.9673 Q1259.93 54.3469 1253 52.8481 L1250.41 52.2405 Q1243.48 50.7821 1240.4 47.7845 Q1237.32 44.7463 1237.32 39.4801 Q1237.32 33.0797 1241.86 29.5959 Q1246.4 26.1121 1254.74 26.1121 Q1258.87 26.1121 1262.52 26.7198 Q1266.17 27.3274 1269.25 28.5427 Z\" fill=\"#000000\" fill-rule=\"evenodd\" fill-opacity=\"1\" /><path clip-path=\"url(#clip310)\" d=\"M1322.35 48.0275 L1322.35 51.6733 L1288.08 51.6733 Q1288.57 59.3701 1292.7 63.421 Q1296.87 67.4314 1304.29 67.4314 Q1308.58 67.4314 1312.59 66.3781 Q1316.64 65.3249 1320.61 63.2184 L1320.61 70.267 Q1316.6 71.9684 1312.39 72.8596 Q1308.17 73.7508 1303.84 73.7508 Q1292.98 73.7508 1286.62 67.4314 Q1280.3 61.1119 1280.3 50.3365 Q1280.3 39.1965 1286.3 32.6746 Q1292.34 26.1121 1302.54 26.1121 Q1311.7 26.1121 1317.01 32.0264 Q1322.35 37.9003 1322.35 48.0275 M1314.9 45.84 Q1314.82 39.7232 1311.46 36.0774 Q1308.13 32.4315 1302.62 32.4315 Q1296.39 32.4315 1292.62 35.9558 Q1288.89 39.4801 1288.32 45.8805 L1314.9 45.84 Z\" fill=\"#000000\" fill-rule=\"evenodd\" fill-opacity=\"1\" /><path clip-path=\"url(#clip310)\" d=\"M1383.93 9.54393 L1383.93 15.7418 L1376.8 15.7418 Q1372.79 15.7418 1371.21 17.3622 Q1369.67 18.9825 1369.67 23.1955 L1369.67 27.2059 L1381.94 27.2059 L1381.94 32.9987 L1369.67 32.9987 L1369.67 72.576 L1362.17 72.576 L1362.17 32.9987 L1355.04 32.9987 L1355.04 27.2059 L1362.17 27.2059 L1362.17 24.0462 Q1362.17 16.471 1365.7 13.0277 Q1369.22 9.54393 1376.88 9.54393 L1383.93 9.54393 Z\" fill=\"#000000\" fill-rule=\"evenodd\" fill-opacity=\"1\" /><path clip-path=\"url(#clip310)\" d=\"M1416.46 34.1734 Q1415.2 33.4443 1413.7 33.1202 Q1412.24 32.7556 1410.46 32.7556 Q1404.14 32.7556 1400.74 36.8875 Q1397.38 40.9789 1397.38 48.6757 L1397.38 72.576 L1389.88 72.576 L1389.88 27.2059 L1397.38 27.2059 L1397.38 34.2544 Q1399.72 30.1225 1403.49 28.1376 Q1407.26 26.1121 1412.65 26.1121 Q1413.42 26.1121 1414.35 26.2337 Q1415.28 26.3147 1416.41 26.5172 L1416.46 34.1734 Z\" fill=\"#000000\" fill-rule=\"evenodd\" fill-opacity=\"1\" /><path clip-path=\"url(#clip310)\" d=\"M1440.03 32.4315 Q1434.04 32.4315 1430.55 37.1306 Q1427.07 41.7891 1427.07 49.9314 Q1427.07 58.0738 1430.51 62.7728 Q1434 67.4314 1440.03 67.4314 Q1445.99 67.4314 1449.47 62.7323 Q1452.95 58.0333 1452.95 49.9314 Q1452.95 41.8701 1449.47 37.1711 Q1445.99 32.4315 1440.03 32.4315 M1440.03 26.1121 Q1449.75 26.1121 1455.3 32.4315 Q1460.85 38.7509 1460.85 49.9314 Q1460.85 61.0714 1455.3 67.4314 Q1449.75 73.7508 1440.03 73.7508 Q1430.27 73.7508 1424.72 67.4314 Q1419.21 61.0714 1419.21 49.9314 Q1419.21 38.7509 1424.72 32.4315 Q1430.27 26.1121 1440.03 26.1121 Z\" fill=\"#000000\" fill-rule=\"evenodd\" fill-opacity=\"1\" /><path clip-path=\"url(#clip310)\" d=\"M1508.53 35.9153 Q1511.33 30.8922 1515.22 28.5022 Q1519.1 26.1121 1524.37 26.1121 Q1531.46 26.1121 1535.31 31.0947 Q1539.16 36.0368 1539.16 45.1919 L1539.16 72.576 L1531.66 72.576 L1531.66 45.4349 Q1531.66 38.913 1529.35 35.7533 Q1527.04 32.5936 1522.31 32.5936 Q1516.51 32.5936 1513.15 36.4419 Q1509.79 40.2903 1509.79 46.9338 L1509.79 72.576 L1502.29 72.576 L1502.29 45.4349 Q1502.29 38.8725 1499.98 35.7533 Q1497.68 32.5936 1492.86 32.5936 Q1487.14 32.5936 1483.78 36.4824 Q1480.42 40.3308 1480.42 46.9338 L1480.42 72.576 L1472.92 72.576 L1472.92 27.2059 L1480.42 27.2059 L1480.42 34.2544 Q1482.97 30.082 1486.54 28.0971 Q1490.1 26.1121 1495 26.1121 Q1499.94 26.1121 1503.39 28.6237 Q1506.87 31.1352 1508.53 35.9153 Z\" fill=\"#000000\" fill-rule=\"evenodd\" fill-opacity=\"1\" /><path clip-path=\"url(#clip310)\" d=\"M1580.4 27.2059 L1587.85 27.2059 L1587.85 72.576 L1580.4 72.576 L1580.4 27.2059 M1580.4 9.54393 L1587.85 9.54393 L1587.85 18.9825 L1580.4 18.9825 L1580.4 9.54393 Z\" fill=\"#000000\" fill-rule=\"evenodd\" fill-opacity=\"1\" /><path clip-path=\"url(#clip310)\" d=\"M1641.16 45.1919 L1641.16 72.576 L1633.71 72.576 L1633.71 45.4349 Q1633.71 38.994 1631.19 35.7938 Q1628.68 32.5936 1623.66 32.5936 Q1617.62 32.5936 1614.14 36.4419 Q1610.66 40.2903 1610.66 46.9338 L1610.66 72.576 L1603.16 72.576 L1603.16 27.2059 L1610.66 27.2059 L1610.66 34.2544 Q1613.33 30.163 1616.93 28.1376 Q1620.58 26.1121 1625.32 26.1121 Q1633.14 26.1121 1637.15 30.9732 Q1641.16 35.7938 1641.16 45.1919 Z\" fill=\"#000000\" fill-rule=\"evenodd\" fill-opacity=\"1\" /><path clip-path=\"url(#clip310)\" d=\"M1663.4 14.324 L1663.4 27.2059 L1678.75 27.2059 L1678.75 32.9987 L1663.4 32.9987 L1663.4 57.6282 Q1663.4 63.1779 1664.9 64.7578 Q1666.44 66.3376 1671.09 66.3376 L1678.75 66.3376 L1678.75 72.576 L1671.09 72.576 Q1662.47 72.576 1659.19 69.3758 Q1655.9 66.1351 1655.9 57.6282 L1655.9 32.9987 L1650.44 32.9987 L1650.44 27.2059 L1655.9 27.2059 L1655.9 14.324 L1663.4 14.324 Z\" fill=\"#000000\" fill-rule=\"evenodd\" fill-opacity=\"1\" /><path clip-path=\"url(#clip310)\" d=\"M1727.36 48.0275 L1727.36 51.6733 L1693.09 51.6733 Q1693.58 59.3701 1697.71 63.421 Q1701.88 67.4314 1709.29 67.4314 Q1713.59 67.4314 1717.6 66.3781 Q1721.65 65.3249 1725.62 63.2184 L1725.62 70.267 Q1721.61 71.9684 1717.4 72.8596 Q1713.18 73.7508 1708.85 73.7508 Q1697.99 73.7508 1691.63 67.4314 Q1685.31 61.1119 1685.31 50.3365 Q1685.31 39.1965 1691.31 32.6746 Q1697.34 26.1121 1707.55 26.1121 Q1716.71 26.1121 1722.01 32.0264 Q1727.36 37.9003 1727.36 48.0275 M1719.91 45.84 Q1719.83 39.7232 1716.47 36.0774 Q1713.14 32.4315 1707.63 32.4315 Q1701.4 32.4315 1697.63 35.9558 Q1693.9 39.4801 1693.33 45.8805 L1719.91 45.84 Z\" fill=\"#000000\" fill-rule=\"evenodd\" fill-opacity=\"1\" /><path clip-path=\"url(#clip310)\" d=\"M1765.89 34.1734 Q1764.63 33.4443 1763.13 33.1202 Q1761.67 32.7556 1759.89 32.7556 Q1753.57 32.7556 1750.17 36.8875 Q1746.81 40.9789 1746.81 48.6757 L1746.81 72.576 L1739.31 72.576 L1739.31 27.2059 L1746.81 27.2059 L1746.81 34.2544 Q1749.16 30.1225 1752.92 28.1376 Q1756.69 26.1121 1762.08 26.1121 Q1762.85 26.1121 1763.78 26.2337 Q1764.71 26.3147 1765.85 26.5172 L1765.89 34.1734 Z\" fill=\"#000000\" fill-rule=\"evenodd\" fill-opacity=\"1\" /><path clip-path=\"url(#clip310)\" d=\"M1780.91 65.7705 L1780.91 89.8329 L1773.42 89.8329 L1773.42 27.2059 L1780.91 27.2059 L1780.91 34.0924 Q1783.26 30.0415 1786.83 28.0971 Q1790.43 26.1121 1795.42 26.1121 Q1803.68 26.1121 1808.83 32.6746 Q1814.01 39.2371 1814.01 49.9314 Q1814.01 60.6258 1808.83 67.1883 Q1803.68 73.7508 1795.42 73.7508 Q1790.43 73.7508 1786.83 71.8063 Q1783.26 69.8214 1780.91 65.7705 M1806.27 49.9314 Q1806.27 41.7081 1802.87 37.0496 Q1799.51 32.3505 1793.59 32.3505 Q1787.68 32.3505 1784.28 37.0496 Q1780.91 41.7081 1780.91 49.9314 Q1780.91 58.1548 1784.28 62.8538 Q1787.68 67.5124 1793.59 67.5124 Q1799.51 67.5124 1802.87 62.8538 Q1806.27 58.1548 1806.27 49.9314 Z\" fill=\"#000000\" fill-rule=\"evenodd\" fill-opacity=\"1\" /><path clip-path=\"url(#clip310)\" d=\"M1843.95 32.4315 Q1837.95 32.4315 1834.47 37.1306 Q1830.98 41.7891 1830.98 49.9314 Q1830.98 58.0738 1834.43 62.7728 Q1837.91 67.4314 1843.95 67.4314 Q1849.9 67.4314 1853.39 62.7323 Q1856.87 58.0333 1856.87 49.9314 Q1856.87 41.8701 1853.39 37.1711 Q1849.9 32.4315 1843.95 32.4315 M1843.95 26.1121 Q1853.67 26.1121 1859.22 32.4315 Q1864.77 38.7509 1864.77 49.9314 Q1864.77 61.0714 1859.22 67.4314 Q1853.67 73.7508 1843.95 73.7508 Q1834.18 73.7508 1828.63 67.4314 Q1823.13 61.0714 1823.13 49.9314 Q1823.13 38.7509 1828.63 32.4315 Q1834.18 26.1121 1843.95 26.1121 Z\" fill=\"#000000\" fill-rule=\"evenodd\" fill-opacity=\"1\" /><path clip-path=\"url(#clip310)\" d=\"M1877.12 9.54393 L1884.58 9.54393 L1884.58 72.576 L1877.12 72.576 L1877.12 9.54393 Z\" fill=\"#000000\" fill-rule=\"evenodd\" fill-opacity=\"1\" /><path clip-path=\"url(#clip310)\" d=\"M1920.79 49.7694 Q1911.76 49.7694 1908.28 51.8354 Q1904.79 53.9013 1904.79 58.8839 Q1904.79 62.8538 1907.38 65.2034 Q1910.02 67.5124 1914.51 67.5124 Q1920.71 67.5124 1924.44 63.1374 Q1928.21 58.7219 1928.21 51.4303 L1928.21 49.7694 L1920.79 49.7694 M1935.66 46.6907 L1935.66 72.576 L1928.21 72.576 L1928.21 65.6895 Q1925.65 69.8214 1921.85 71.8063 Q1918.04 73.7508 1912.53 73.7508 Q1905.56 73.7508 1901.43 69.8619 Q1897.34 65.9325 1897.34 59.3701 Q1897.34 51.7138 1902.44 47.825 Q1907.59 43.9361 1917.75 43.9361 L1928.21 43.9361 L1928.21 43.2069 Q1928.21 38.0623 1924.8 35.2672 Q1921.44 32.4315 1915.32 32.4315 Q1911.44 32.4315 1907.75 33.3632 Q1904.06 34.295 1900.66 36.1584 L1900.66 29.2718 Q1904.75 27.692 1908.6 26.9223 Q1912.45 26.1121 1916.09 26.1121 Q1925.94 26.1121 1930.8 31.2163 Q1935.66 36.3204 1935.66 46.6907 Z\" fill=\"#000000\" fill-rule=\"evenodd\" fill-opacity=\"1\" /><path clip-path=\"url(#clip310)\" d=\"M1958.39 14.324 L1958.39 27.2059 L1973.74 27.2059 L1973.74 32.9987 L1958.39 32.9987 L1958.39 57.6282 Q1958.39 63.1779 1959.88 64.7578 Q1961.42 66.3376 1966.08 66.3376 L1973.74 66.3376 L1973.74 72.576 L1966.08 72.576 Q1957.45 72.576 1954.17 69.3758 Q1950.89 66.1351 1950.89 57.6282 L1950.89 32.9987 L1945.42 32.9987 L1945.42 27.2059 L1950.89 27.2059 L1950.89 14.324 L1958.39 14.324 Z\" fill=\"#000000\" fill-rule=\"evenodd\" fill-opacity=\"1\" /><path clip-path=\"url(#clip310)\" d=\"M1983.54 27.2059 L1990.99 27.2059 L1990.99 72.576 L1983.54 72.576 L1983.54 27.2059 M1983.54 9.54393 L1990.99 9.54393 L1990.99 18.9825 L1983.54 18.9825 L1983.54 9.54393 Z\" fill=\"#000000\" fill-rule=\"evenodd\" fill-opacity=\"1\" /><path clip-path=\"url(#clip310)\" d=\"M2024.17 32.4315 Q2018.18 32.4315 2014.69 37.1306 Q2011.21 41.7891 2011.21 49.9314 Q2011.21 58.0738 2014.65 62.7728 Q2018.14 67.4314 2024.17 67.4314 Q2030.13 67.4314 2033.61 62.7323 Q2037.09 58.0333 2037.09 49.9314 Q2037.09 41.8701 2033.61 37.1711 Q2030.13 32.4315 2024.17 32.4315 M2024.17 26.1121 Q2033.89 26.1121 2039.44 32.4315 Q2044.99 38.7509 2044.99 49.9314 Q2044.99 61.0714 2039.44 67.4314 Q2033.89 73.7508 2024.17 73.7508 Q2014.41 73.7508 2008.86 67.4314 Q2003.35 61.0714 2003.35 49.9314 Q2003.35 38.7509 2008.86 32.4315 Q2014.41 26.1121 2024.17 26.1121 Z\" fill=\"#000000\" fill-rule=\"evenodd\" fill-opacity=\"1\" /><path clip-path=\"url(#clip310)\" d=\"M2095.06 45.1919 L2095.06 72.576 L2087.61 72.576 L2087.61 45.4349 Q2087.61 38.994 2085.1 35.7938 Q2082.59 32.5936 2077.56 32.5936 Q2071.53 32.5936 2068.04 36.4419 Q2064.56 40.2903 2064.56 46.9338 L2064.56 72.576 L2057.07 72.576 L2057.07 27.2059 L2064.56 27.2059 L2064.56 34.2544 Q2067.23 30.163 2070.84 28.1376 Q2074.48 26.1121 2079.22 26.1121 Q2087.04 26.1121 2091.05 30.9732 Q2095.06 35.7938 2095.06 45.1919 Z\" fill=\"#000000\" fill-rule=\"evenodd\" fill-opacity=\"1\" /><polyline clip-path=\"url(#clip312)\" style=\"stroke:#009af9; stroke-linecap:butt; stroke-linejoin:round; stroke-width:4; stroke-opacity:1; fill:none\" points=\"\n",
       "  237.067,174.08 345.176,160.256 453.285,610.927 561.394,1043.75 669.502,1076.01 777.611,1065.34 885.72,1112.34 993.829,1188.18 1101.94,1249 1210.05,1311.64 \n",
       "  1318.15,1349.77 1426.26,1363.66 1534.37,1376.73 1642.48,1379.8 1750.59,1381.91 1858.7,1383.93 1966.81,1386.4 2074.92,1380.9 2183.03,1384.09 2291.13,1383.43 \n",
       "  \n",
       "  \"/>\n",
       "<circle clip-path=\"url(#clip312)\" cx=\"237.067\" cy=\"174.08\" r=\"14\" fill=\"#e26f46\" fill-rule=\"evenodd\" fill-opacity=\"1\" stroke=\"#000000\" stroke-opacity=\"1\" stroke-width=\"3.2\"/>\n",
       "<circle clip-path=\"url(#clip312)\" cx=\"345.176\" cy=\"160.256\" r=\"14\" fill=\"#e26f46\" fill-rule=\"evenodd\" fill-opacity=\"1\" stroke=\"#000000\" stroke-opacity=\"1\" stroke-width=\"3.2\"/>\n",
       "<circle clip-path=\"url(#clip312)\" cx=\"453.285\" cy=\"610.927\" r=\"14\" fill=\"#e26f46\" fill-rule=\"evenodd\" fill-opacity=\"1\" stroke=\"#000000\" stroke-opacity=\"1\" stroke-width=\"3.2\"/>\n",
       "<circle clip-path=\"url(#clip312)\" cx=\"561.394\" cy=\"1043.75\" r=\"14\" fill=\"#e26f46\" fill-rule=\"evenodd\" fill-opacity=\"1\" stroke=\"#000000\" stroke-opacity=\"1\" stroke-width=\"3.2\"/>\n",
       "<circle clip-path=\"url(#clip312)\" cx=\"669.502\" cy=\"1076.01\" r=\"14\" fill=\"#e26f46\" fill-rule=\"evenodd\" fill-opacity=\"1\" stroke=\"#000000\" stroke-opacity=\"1\" stroke-width=\"3.2\"/>\n",
       "<circle clip-path=\"url(#clip312)\" cx=\"777.611\" cy=\"1065.34\" r=\"14\" fill=\"#e26f46\" fill-rule=\"evenodd\" fill-opacity=\"1\" stroke=\"#000000\" stroke-opacity=\"1\" stroke-width=\"3.2\"/>\n",
       "<circle clip-path=\"url(#clip312)\" cx=\"885.72\" cy=\"1112.34\" r=\"14\" fill=\"#e26f46\" fill-rule=\"evenodd\" fill-opacity=\"1\" stroke=\"#000000\" stroke-opacity=\"1\" stroke-width=\"3.2\"/>\n",
       "<circle clip-path=\"url(#clip312)\" cx=\"993.829\" cy=\"1188.18\" r=\"14\" fill=\"#e26f46\" fill-rule=\"evenodd\" fill-opacity=\"1\" stroke=\"#000000\" stroke-opacity=\"1\" stroke-width=\"3.2\"/>\n",
       "<circle clip-path=\"url(#clip312)\" cx=\"1101.94\" cy=\"1249\" r=\"14\" fill=\"#e26f46\" fill-rule=\"evenodd\" fill-opacity=\"1\" stroke=\"#000000\" stroke-opacity=\"1\" stroke-width=\"3.2\"/>\n",
       "<circle clip-path=\"url(#clip312)\" cx=\"1210.05\" cy=\"1311.64\" r=\"14\" fill=\"#e26f46\" fill-rule=\"evenodd\" fill-opacity=\"1\" stroke=\"#000000\" stroke-opacity=\"1\" stroke-width=\"3.2\"/>\n",
       "<circle clip-path=\"url(#clip312)\" cx=\"1318.15\" cy=\"1349.77\" r=\"14\" fill=\"#e26f46\" fill-rule=\"evenodd\" fill-opacity=\"1\" stroke=\"#000000\" stroke-opacity=\"1\" stroke-width=\"3.2\"/>\n",
       "<circle clip-path=\"url(#clip312)\" cx=\"1426.26\" cy=\"1363.66\" r=\"14\" fill=\"#e26f46\" fill-rule=\"evenodd\" fill-opacity=\"1\" stroke=\"#000000\" stroke-opacity=\"1\" stroke-width=\"3.2\"/>\n",
       "<circle clip-path=\"url(#clip312)\" cx=\"1534.37\" cy=\"1376.73\" r=\"14\" fill=\"#e26f46\" fill-rule=\"evenodd\" fill-opacity=\"1\" stroke=\"#000000\" stroke-opacity=\"1\" stroke-width=\"3.2\"/>\n",
       "<circle clip-path=\"url(#clip312)\" cx=\"1642.48\" cy=\"1379.8\" r=\"14\" fill=\"#e26f46\" fill-rule=\"evenodd\" fill-opacity=\"1\" stroke=\"#000000\" stroke-opacity=\"1\" stroke-width=\"3.2\"/>\n",
       "<circle clip-path=\"url(#clip312)\" cx=\"1750.59\" cy=\"1381.91\" r=\"14\" fill=\"#e26f46\" fill-rule=\"evenodd\" fill-opacity=\"1\" stroke=\"#000000\" stroke-opacity=\"1\" stroke-width=\"3.2\"/>\n",
       "<circle clip-path=\"url(#clip312)\" cx=\"1858.7\" cy=\"1383.93\" r=\"14\" fill=\"#e26f46\" fill-rule=\"evenodd\" fill-opacity=\"1\" stroke=\"#000000\" stroke-opacity=\"1\" stroke-width=\"3.2\"/>\n",
       "<circle clip-path=\"url(#clip312)\" cx=\"1966.81\" cy=\"1386.4\" r=\"14\" fill=\"#e26f46\" fill-rule=\"evenodd\" fill-opacity=\"1\" stroke=\"#000000\" stroke-opacity=\"1\" stroke-width=\"3.2\"/>\n",
       "<circle clip-path=\"url(#clip312)\" cx=\"2074.92\" cy=\"1380.9\" r=\"14\" fill=\"#e26f46\" fill-rule=\"evenodd\" fill-opacity=\"1\" stroke=\"#000000\" stroke-opacity=\"1\" stroke-width=\"3.2\"/>\n",
       "<circle clip-path=\"url(#clip312)\" cx=\"2183.03\" cy=\"1384.09\" r=\"14\" fill=\"#e26f46\" fill-rule=\"evenodd\" fill-opacity=\"1\" stroke=\"#000000\" stroke-opacity=\"1\" stroke-width=\"3.2\"/>\n",
       "<circle clip-path=\"url(#clip312)\" cx=\"2291.13\" cy=\"1383.43\" r=\"14\" fill=\"#e26f46\" fill-rule=\"evenodd\" fill-opacity=\"1\" stroke=\"#000000\" stroke-opacity=\"1\" stroke-width=\"3.2\"/>\n",
       "</svg>\n"
      ]
     },
     "metadata": {},
     "output_type": "display_data"
    }
   ],
   "source": [
    "plot([i for i in 1 : 20], store_ratios, legend = false)\n",
    "scatter!([i for i in 1 : 20], store_ratios)\n",
    "xlabel!(\"The log of length of `foo`\")\n",
    "ylabel!(\"Factor of performance increase\")\n",
    "title!(\"Performance increase from interpolation\")"
   ]
  },
  {
   "cell_type": "markdown",
   "metadata": {},
   "source": [
    "## Performance tips -- type stability\n",
    "\n",
    "One way to optimize code in Julia is to ensure **type stability**. If the type(s) of some variables in a function are subject to change or ambiguity, the compiler cannot reason as well about those variables, and performance will take a hit. Conversely, we allow the compiler to optimize and generate more efficient machine code when we declare variables so that their types will be fixed throughout the function body.\n",
    "\n",
    "For example, let's say we had functions called `baz` and `bar` with the following definitions\n",
    "\n",
    "```julia\n",
    "function baz()\n",
    "    s = rand()\n",
    "    if s > 2/3\n",
    "        return .666667\n",
    "    elseif s > 1/3\n",
    "        return 1//3    \n",
    "    else\n",
    "        return 0    \n",
    "    end\n",
    "end\n",
    "```\n",
    "\n",
    "```julia\n",
    "function bar()\n",
    "    s = rand()\n",
    "    if s > 2/3\n",
    "        return .666667\n",
    "    elseif s > 1/3\n",
    "        return .3333333    \n",
    "    else\n",
    "        return 0.0    \n",
    "    end\n",
    "end\n",
    "```\n",
    "\n",
    "When I benchmark these via\n",
    "\n",
    "```julia\n",
    "using BenchmarkTools\n",
    "@benchmark baz()\n",
    "@benchmark bar()\n",
    "```\n",
    "\n",
    "I see that `bar` is almost three times as fast as `baz`! The reason is that `bar` is type stable while `baz` is not: the compiler can tell that `bar` will always return a `Float`, whereas `baz` could return a `Float`, an `Int`, or a `Rational`. When the compiler can tell what the types of outputs from a function, or variables declared *within a function* are without running the code, it can do much better.\n",
    "\n",
    "#### Exercise\n",
    "\n",
    "The following definition for `my_sum` is not type stable. \n",
    "\n",
    "```julia\n",
    "function my_sum(A)\n",
    "    output = 0\n",
    "    for x in A\n",
    "        output += x\n",
    "    end\n",
    "    return output\n",
    "end\n",
    "```\n",
    "\n",
    "Copy and execute the above code into a new cell. Benchmark it using `A = rand(10^3)`. Then write a new function called `my_sum2` with the same function body as `my_sum`. Update `my_sum2` to make it type stable, and benchmark it for a randomly populated array with 10^3 entries.\n",
    "\n",
    "How much does type stability impact performance? If you'd like, try this same exercise for multiple sizes of `A` to see if this changes your answer!\n",
    "\n",
    "* Hint : Try checking the type of A\n",
    "\n"
   ]
  },
  {
   "cell_type": "code",
   "execution_count": 50,
   "metadata": {},
   "outputs": [
    {
     "data": {
      "text/plain": [
       "baz (generic function with 1 method)"
      ]
     },
     "metadata": {},
     "output_type": "display_data"
    }
   ],
   "source": [
    "function baz()\n",
    "    s = rand()\n",
    "    if s > 2/3\n",
    "        return .666667\n",
    "    elseif s > 1/3\n",
    "        return 1//3    \n",
    "    else\n",
    "        return 0    \n",
    "    end\n",
    "end"
   ]
  },
  {
   "cell_type": "code",
   "execution_count": 51,
   "metadata": {},
   "outputs": [
    {
     "data": {
      "text/plain": [
       "bar (generic function with 1 method)"
      ]
     },
     "metadata": {},
     "output_type": "display_data"
    }
   ],
   "source": [
    "function bar()\n",
    "    s = rand()\n",
    "    if s > 2/3\n",
    "        return .666667\n",
    "    elseif s > 1/3\n",
    "        return .3333333    \n",
    "    else\n",
    "        return 0.0    \n",
    "    end\n",
    "end"
   ]
  },
  {
   "cell_type": "code",
   "execution_count": 52,
   "metadata": {},
   "outputs": [],
   "source": [
    "using BenchmarkTools\n"
   ]
  },
  {
   "cell_type": "code",
   "execution_count": 53,
   "metadata": {},
   "outputs": [
    {
     "data": {
      "text/plain": [
       "BenchmarkTools.Trial: \n",
       "  memory estimate:  0 bytes\n",
       "  allocs estimate:  0\n",
       "  --------------\n",
       "  minimum time:     10.450 ns (0.00% GC)\n",
       "  median time:      11.221 ns (0.00% GC)\n",
       "  mean time:        11.252 ns (0.00% GC)\n",
       "  maximum time:     18.849 ns (0.00% GC)\n",
       "  --------------\n",
       "  samples:          10000\n",
       "  evals/sample:     999"
      ]
     },
     "metadata": {},
     "output_type": "display_data"
    }
   ],
   "source": [
    "@benchmark baz()\n"
   ]
  },
  {
   "cell_type": "code",
   "execution_count": 54,
   "metadata": {},
   "outputs": [
    {
     "data": {
      "text/plain": [
       "BenchmarkTools.Trial: \n",
       "  memory estimate:  0 bytes\n",
       "  allocs estimate:  0\n",
       "  --------------\n",
       "  minimum time:     2.210 ns (0.00% GC)\n",
       "  median time:      2.410 ns (0.00% GC)\n",
       "  mean time:        2.379 ns (0.00% GC)\n",
       "  maximum time:     9.970 ns (0.00% GC)\n",
       "  --------------\n",
       "  samples:          10000\n",
       "  evals/sample:     1000"
      ]
     },
     "metadata": {},
     "output_type": "display_data"
    }
   ],
   "source": [
    "@benchmark bar()"
   ]
  },
  {
   "cell_type": "code",
   "execution_count": 55,
   "metadata": {},
   "outputs": [
    {
     "data": {
      "text/plain": [
       "my_sum (generic function with 1 method)"
      ]
     },
     "metadata": {},
     "output_type": "display_data"
    }
   ],
   "source": [
    "function my_sum(A)\n",
    "    output = 0\n",
    "    for x in A\n",
    "        output += x\n",
    "    end\n",
    "    return output\n",
    "end"
   ]
  },
  {
   "cell_type": "code",
   "execution_count": 68,
   "metadata": {},
   "outputs": [],
   "source": [
    "A_e = rand(10^3);"
   ]
  },
  {
   "cell_type": "code",
   "execution_count": 69,
   "metadata": {},
   "outputs": [
    {
     "data": {
      "text/plain": [
       "BenchmarkTools.Trial: \n",
       "  memory estimate:  0 bytes\n",
       "  allocs estimate:  0\n",
       "  --------------\n",
       "  minimum time:     627.267 ns (0.00% GC)\n",
       "  median time:      630.703 ns (0.00% GC)\n",
       "  mean time:        631.134 ns (0.00% GC)\n",
       "  maximum time:     712.157 ns (0.00% GC)\n",
       "  --------------\n",
       "  samples:          10000\n",
       "  evals/sample:     172"
      ]
     },
     "metadata": {},
     "output_type": "display_data"
    }
   ],
   "source": [
    "@benchmark my_sum($A_e)"
   ]
  },
  {
   "cell_type": "code",
   "execution_count": 70,
   "metadata": {},
   "outputs": [
    {
     "data": {
      "text/plain": [
       "my_sum2 (generic function with 1 method)"
      ]
     },
     "metadata": {},
     "output_type": "display_data"
    }
   ],
   "source": [
    "function my_sum2(A)\n",
    "\toutput = zero(eltype(A))\n",
    "    for x in A\n",
    "        output += x\n",
    "    end\n",
    "    return output\n",
    "end"
   ]
  },
  {
   "cell_type": "code",
   "execution_count": 71,
   "metadata": {},
   "outputs": [
    {
     "data": {
      "text/plain": [
       "BenchmarkTools.Trial: \n",
       "  memory estimate:  0 bytes\n",
       "  allocs estimate:  0\n",
       "  --------------\n",
       "  minimum time:     627.251 ns (0.00% GC)\n",
       "  median time:      631.292 ns (0.00% GC)\n",
       "  mean time:        632.828 ns (0.00% GC)\n",
       "  maximum time:     724.684 ns (0.00% GC)\n",
       "  --------------\n",
       "  samples:          10000\n",
       "  evals/sample:     171"
      ]
     },
     "metadata": {},
     "output_type": "display_data"
    }
   ],
   "source": [
    "@benchmark my_sum2($A_e)"
   ]
  },
  {
   "cell_type": "markdown",
   "metadata": {},
   "source": [
    "#### Exercise\n",
    "\n",
    "Make the following code type stable. You'll know your efforts are paying off when you see a performance boost!\n",
    "\n",
    "```julia\n",
    "\"\"\"\n",
    "    my_sqrt(x)\n",
    "    \n",
    "Calculate the square root of `x` with Newton's method.\n",
    "\"\"\"\n",
    "function my_sqrt(x)\n",
    "    output = 1\n",
    "    for i in 1:1000\n",
    "        output = .5 * (output + x/output)\n",
    "    end\n",
    "    output\n",
    "end\n",
    "```"
   ]
  },
  {
   "cell_type": "code",
   "execution_count": 72,
   "metadata": {},
   "outputs": [
    {
     "data": {
      "text/plain": [
       "my_sqrt (generic function with 1 method)"
      ]
     },
     "metadata": {},
     "output_type": "display_data"
    }
   ],
   "source": [
    "function my_sqrt(x)\n",
    "    output = 1\n",
    "    for i in 1:1000\n",
    "        output = .5 * (output + x/output)\n",
    "    end\n",
    "    output\n",
    "end"
   ]
  },
  {
   "cell_type": "code",
   "execution_count": 73,
   "metadata": {},
   "outputs": [
    {
     "data": {
      "text/plain": [
       "BenchmarkTools.Trial: \n",
       "  memory estimate:  0 bytes\n",
       "  allocs estimate:  0\n",
       "  --------------\n",
       "  minimum time:     4.056 μs (0.00% GC)\n",
       "  median time:      4.100 μs (0.00% GC)\n",
       "  mean time:        4.115 μs (0.00% GC)\n",
       "  maximum time:     6.836 μs (0.00% GC)\n",
       "  --------------\n",
       "  samples:          10000\n",
       "  evals/sample:     8"
      ]
     },
     "metadata": {},
     "output_type": "display_data"
    }
   ],
   "source": [
    "@benchmark my_sqrt(100)"
   ]
  },
  {
   "cell_type": "code",
   "execution_count": 74,
   "metadata": {},
   "outputs": [
    {
     "data": {
      "text/plain": [
       "my_sqrt2 (generic function with 1 method)"
      ]
     },
     "metadata": {},
     "output_type": "display_data"
    }
   ],
   "source": [
    "function my_sqrt2(x)\n",
    "    output = 1.0\n",
    "    for i in 1:1000\n",
    "        output = .5 * (output + x/output)\n",
    "    end\n",
    "    output\n",
    "end"
   ]
  },
  {
   "cell_type": "code",
   "execution_count": 75,
   "metadata": {},
   "outputs": [
    {
     "data": {
      "text/plain": [
       "BenchmarkTools.Trial: \n",
       "  memory estimate:  0 bytes\n",
       "  allocs estimate:  0\n",
       "  --------------\n",
       "  minimum time:     3.984 μs (0.00% GC)\n",
       "  median time:      4.119 μs (0.00% GC)\n",
       "  mean time:        4.135 μs (0.00% GC)\n",
       "  maximum time:     5.479 μs (0.00% GC)\n",
       "  --------------\n",
       "  samples:          10000\n",
       "  evals/sample:     7"
      ]
     },
     "metadata": {},
     "output_type": "display_data"
    }
   ],
   "source": [
    "@benchmark my_sqrt2(100)"
   ]
  },
  {
   "cell_type": "code",
   "execution_count": null,
   "metadata": {},
   "outputs": [],
   "source": []
  }
 ],
 "metadata": {
  "kernelspec": {
   "display_name": "Julia 1.7.2",
   "language": "julia",
   "name": "julia-1.7"
  },
  "language_info": {
   "file_extension": ".jl",
   "mimetype": "application/julia",
   "name": "julia",
   "version": "1.7.2"
  }
 },
 "nbformat": 4,
 "nbformat_minor": 2
}
