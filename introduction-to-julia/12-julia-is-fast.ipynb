{
 "cells": [
  {
   "cell_type": "markdown",
   "metadata": {},
   "source": [
    "# Julia is fast\n",
    "\n",
    "Very often, benchmarks are used to compare languages.  These benchmarks can lead to long discussions, first as to exactly what is being benchmarked and secondly what explains the differences.  These simple questions can sometimes get more complicated than you at first might imagine.\n",
    "\n",
    "The purpose of this notebook is for you to see a simple benchmark for yourself. Everyone will get slightly different results depending on their machine.\n",
    "\n",
    "Writing performant code is extremely important in scientific computing, but also can often be quite mysterious and confusing.\n",
    "\n",
    "(This material began life as a wonderful lecture by Steven Johnson at MIT: https://github.com/stevengj/18S096/blob/master/lectures/lecture1/Boxes-and-registers.ipynb.)"
   ]
  },
  {
   "cell_type": "markdown",
   "metadata": {},
   "source": [
    "# Outline of this notebook\n",
    "\n",
    "- Define the sum function\n",
    "- Implementations & benchmarking of sum in...\n",
    "    - python (built-in)\n",
    "    - python (numpy)\n",
    "    - python (hand-written)\n",
    "    - Julia (built-in)\n",
    "    - Julia (hand-written)\n",
    "    - Julia (hand-written with SIMD)\n",
    "    - C implementations (optional, require gcc)\n",
    "- Summary of benchmarks"
   ]
  },
  {
   "cell_type": "markdown",
   "metadata": {},
   "source": [
    "# `sum`: An easy enough function to understand"
   ]
  },
  {
   "cell_type": "markdown",
   "metadata": {},
   "source": [
    "Consider the  **sum** function `sum(a)`, which computes\n",
    "$$\n",
    "\\mathrm{sum}(a) = \\sum_{i=1}^n a_i,\n",
    "$$\n",
    "where $n$ is the length of `a`."
   ]
  },
  {
   "cell_type": "code",
   "execution_count": 8,
   "metadata": {
    "scrolled": false
   },
   "outputs": [
    {
     "data": {
      "text/plain": [
       "10000000-element Vector{Float64}:\n",
       " 0.5459898619397224\n",
       " 0.8613700731902164\n",
       " 0.5266105641904599\n",
       " 0.14451262584379554\n",
       " 0.5814116312953571\n",
       " 0.9689221449791242\n",
       " 0.16541831218476333\n",
       " 0.6177443510069358\n",
       " 0.07469520851098321\n",
       " 0.3698074741552666\n",
       " ⋮\n",
       " 0.29225740128783173\n",
       " 0.8828072550838441\n",
       " 0.31904786744008173\n",
       " 0.41033007953251077\n",
       " 0.7800124377383492\n",
       " 0.7437791188318861\n",
       " 0.018303232938248537\n",
       " 0.7423270776141624\n",
       " 0.009259510979367058"
      ]
     },
     "metadata": {},
     "output_type": "display_data"
    }
   ],
   "source": [
    "# for i=2:5\n",
    "a = rand(10^7) # 1D vector of random numbers, uniform on [0,1)\n",
    "# end\n"
   ]
  },
  {
   "cell_type": "code",
   "execution_count": 9,
   "metadata": {},
   "outputs": [
    {
     "data": {
      "text/plain": [
       "4.999269608768198e6"
      ]
     },
     "metadata": {},
     "output_type": "display_data"
    }
   ],
   "source": [
    "sum(a)"
   ]
  },
  {
   "cell_type": "markdown",
   "metadata": {},
   "source": [
    "The expected result is 0.5 * 10^7, since the mean of each entry is 0.5"
   ]
  },
  {
   "cell_type": "markdown",
   "metadata": {},
   "source": [
    "# Benchmarking a few ways in a few languages"
   ]
  },
  {
   "cell_type": "code",
   "execution_count": 10,
   "metadata": {},
   "outputs": [
    {
     "name": "stdout",
     "output_type": "stream",
     "text": [
      "  0.003186 seconds (1 allocation: 16 bytes)\n"
     ]
    },
    {
     "data": {
      "text/plain": [
       "4.999269608768198e6"
      ]
     },
     "metadata": {},
     "output_type": "display_data"
    }
   ],
   "source": [
    "@time sum(a)"
   ]
  },
  {
   "cell_type": "code",
   "execution_count": 11,
   "metadata": {},
   "outputs": [
    {
     "name": "stdout",
     "output_type": "stream",
     "text": [
      "  0.002764 seconds (1 allocation: 16 bytes)\n"
     ]
    },
    {
     "data": {
      "text/plain": [
       "4.999269608768198e6"
      ]
     },
     "metadata": {},
     "output_type": "display_data"
    }
   ],
   "source": [
    "@time sum(a)"
   ]
  },
  {
   "cell_type": "code",
   "execution_count": 12,
   "metadata": {},
   "outputs": [
    {
     "name": "stdout",
     "output_type": "stream",
     "text": [
      "  0.002790 seconds (1 allocation: 16 bytes)\n"
     ]
    },
    {
     "data": {
      "text/plain": [
       "4.999269608768198e6"
      ]
     },
     "metadata": {},
     "output_type": "display_data"
    }
   ],
   "source": [
    "@time sum(a)"
   ]
  },
  {
   "cell_type": "markdown",
   "metadata": {},
   "source": [
    "The `@time` macro can yield noisy results, so it's not our best choice for benchmarking!\n",
    "\n",
    "Luckily, Julia has a `BenchmarkTools.jl` package to make benchmarking easy and accurate:"
   ]
  },
  {
   "cell_type": "code",
   "execution_count": 3,
   "metadata": {},
   "outputs": [
    {
     "name": "stderr",
     "output_type": "stream",
     "text": [
      "\u001b[32m\u001b[1m    Updating\u001b[22m\u001b[39m registry at `~/.julia/registries/General.toml`\n",
      "\u001b[32m\u001b[1m   Resolving\u001b[22m\u001b[39m package versions...\n",
      "┌ Warning: The active manifest file at `/home/snowztail/Repositories/Introduction-to-Julia/Manifest.toml` has an old format that is being maintained.\n",
      "│ To update to the new format run `Pkg.upgrade_manifest()` which will upgrade the format without re-resolving.\n",
      "└ @ Pkg.Types /buildworker/worker/package_linux64/build/usr/share/julia/stdlib/v1.7/Pkg/src/manifest.jl:287\n",
      "\u001b[32m\u001b[1m  No Changes\u001b[22m\u001b[39m to `~/Repositories/Introduction-to-Julia/Project.toml`\n",
      "\u001b[32m\u001b[1m  No Changes\u001b[22m\u001b[39m to `~/Repositories/Introduction-to-Julia/Manifest.toml`\n",
      "┌ Warning: The active manifest file is an older format with no julia version entry. Dependencies may have been resolved with a different julia version.\n",
      "└ @ nothing /home/snowztail/Repositories/Introduction-to-Julia/Manifest.toml:0\n"
     ]
    }
   ],
   "source": [
    "using Pkg\n",
    "Pkg.add(\"BenchmarkTools\")"
   ]
  },
  {
   "cell_type": "code",
   "execution_count": 4,
   "metadata": {
    "scrolled": false
   },
   "outputs": [],
   "source": [
    "using BenchmarkTools  "
   ]
  },
  {
   "cell_type": "markdown",
   "metadata": {},
   "source": [
    "# 1. Python's built in `sum` "
   ]
  },
  {
   "cell_type": "markdown",
   "metadata": {},
   "source": [
    "The `PyCall` package provides a Julia interface to Python:"
   ]
  },
  {
   "cell_type": "code",
   "execution_count": 5,
   "metadata": {
    "scrolled": true
   },
   "outputs": [
    {
     "name": "stderr",
     "output_type": "stream",
     "text": [
      "\u001b[32m\u001b[1m   Resolving\u001b[22m\u001b[39m package versions...\n",
      "\u001b[32m\u001b[1m  No Changes\u001b[22m\u001b[39m to `~/Repositories/Introduction-to-Julia/Project.toml`\n",
      "\u001b[32m\u001b[1m  No Changes\u001b[22m\u001b[39m to `~/Repositories/Introduction-to-Julia/Manifest.toml`\n"
     ]
    }
   ],
   "source": [
    "using Pkg; Pkg.add(\"PyCall\")\n",
    "using PyCall"
   ]
  },
  {
   "cell_type": "code",
   "execution_count": 6,
   "metadata": {
    "scrolled": false
   },
   "outputs": [
    {
     "data": {
      "text/plain": [
       "PyObject <built-in function sum>"
      ]
     },
     "metadata": {},
     "output_type": "display_data"
    }
   ],
   "source": [
    "# get the Python built-in \"sum\" function:\n",
    "pysum = pybuiltin(\"sum\")"
   ]
  },
  {
   "cell_type": "code",
   "execution_count": 13,
   "metadata": {
    "scrolled": false
   },
   "outputs": [
    {
     "name": "stderr",
     "output_type": "stream",
     "text": [
      "┌ Warning: `vendor()` is deprecated, use `BLAS.get_config()` and inspect the output instead\n",
      "│   caller = npyinitialize() at numpy.jl:67\n",
      "└ @ PyCall /home/snowztail/.julia/packages/PyCall/BD546/src/numpy.jl:67\n"
     ]
    },
    {
     "data": {
      "text/plain": [
       "4.999269608767693e6"
      ]
     },
     "metadata": {},
     "output_type": "display_data"
    }
   ],
   "source": [
    "pysum(a)"
   ]
  },
  {
   "cell_type": "code",
   "execution_count": 14,
   "metadata": {
    "scrolled": false
   },
   "outputs": [
    {
     "data": {
      "text/plain": [
       "true"
      ]
     },
     "metadata": {},
     "output_type": "display_data"
    }
   ],
   "source": [
    "pysum(a) ≈ sum(a)"
   ]
  },
  {
   "cell_type": "code",
   "execution_count": 15,
   "metadata": {
    "scrolled": false
   },
   "outputs": [
    {
     "data": {
      "text/plain": [
       "BenchmarkTools.Trial: \n",
       "  memory estimate:  240 bytes\n",
       "  allocs estimate:  6\n",
       "  --------------\n",
       "  minimum time:     531.623 ms (0.00% GC)\n",
       "  median time:      532.189 ms (0.00% GC)\n",
       "  mean time:        534.420 ms (0.00% GC)\n",
       "  maximum time:     542.764 ms (0.00% GC)\n",
       "  --------------\n",
       "  samples:          10\n",
       "  evals/sample:     1"
      ]
     },
     "metadata": {},
     "output_type": "display_data"
    }
   ],
   "source": [
    "py_list_bench = @benchmark $pysum($a)"
   ]
  },
  {
   "cell_type": "code",
   "execution_count": 16,
   "metadata": {
    "scrolled": false
   },
   "outputs": [
    {
     "data": {
      "text/plain": [
       "Dict{Any, Any} with 1 entry:\n",
       "  \"Python built-in\" => 531.623"
      ]
     },
     "metadata": {},
     "output_type": "display_data"
    }
   ],
   "source": [
    "d = Dict()  # a \"dictionary\", i.e. an associative array\n",
    "d[\"Python built-in\"] = minimum(py_list_bench.times) / 1e6\n",
    "d"
   ]
  },
  {
   "cell_type": "code",
   "execution_count": 17,
   "metadata": {},
   "outputs": [],
   "source": [
    "using Plots"
   ]
  },
  {
   "cell_type": "code",
   "execution_count": 18,
   "metadata": {},
   "outputs": [
    {
     "ename": "MethodError",
     "evalue": "MethodError: no method matching floatrange(::Type{Float64}, ::Int64, ::Int64, ::Float64, ::Int64)\nClosest candidates are:\n  floatrange(::Type{T}, ::Integer, ::Integer, !Matched::Integer, ::Integer) where T at /usr/share/julia/base/twiceprecision.jl:370\n  floatrange(!Matched::AbstractFloat, !Matched::AbstractFloat, ::Real, ::AbstractFloat) at /usr/share/julia/base/twiceprecision.jl:384",
     "output_type": "error",
     "traceback": [
      "MethodError: no method matching floatrange(::Type{Float64}, ::Int64, ::Int64, ::Float64, ::Int64)\n",
      "Closest candidates are:\n",
      "  floatrange(::Type{T}, ::Integer, ::Integer, !Matched::Integer, ::Integer) where T at /usr/share/julia/base/twiceprecision.jl:370\n",
      "  floatrange(!Matched::AbstractFloat, !Matched::AbstractFloat, ::Real, ::AbstractFloat) at /usr/share/julia/base/twiceprecision.jl:384\n",
      "\n",
      "Stacktrace:\n",
      "  [1] floatrange(a::Float64, st::Float64, len::Float64, divisor::Float64)\n",
      "    @ Base ./twiceprecision.jl:392\n",
      "  [2] histrange(lo::Float64, hi::Float64, n::Int64, closed::Symbol)\n",
      "    @ StatsBase ~/.julia/packages/StatsBase/DU1bT/src/hist.jl:99\n",
      "  [3] histrange(v::Vector{Float64}, n::Int64, closed::Symbol)\n",
      "    @ StatsBase ~/.julia/packages/StatsBase/DU1bT/src/hist.jl:39\n",
      "  [4] _hist_edge\n",
      "    @ ~/.julia/packages/Plots/FKcum/src/recipes.jl:806 [inlined]\n",
      "  [5] #211\n",
      "    @ ~/.julia/packages/Plots/FKcum/src/recipes.jl:822 [inlined]\n",
      "  [6] map\n",
      "    @ ./tuple.jl:221 [inlined]\n",
      "  [7] _hist_edges\n",
      "    @ ~/.julia/packages/Plots/FKcum/src/recipes.jl:822 [inlined]\n",
      "  [8] _make_hist(vs::Tuple{Vector{Float64}}, binning::Int64; normed::Bool, weights::Nothing)\n",
      "    @ Plots ~/.julia/packages/Plots/FKcum/src/recipes.jl:841\n",
      "  [9] macro expansion\n",
      "    @ ~/.julia/packages/Plots/FKcum/src/recipes.jl:865 [inlined]\n",
      " [10] apply_recipe(plotattributes::AbstractDict{Symbol, Any}, #unused#::Type{Val{:barhist}}, x::Any, y::Any, z::Any)\n",
      "    @ Plots ~/.julia/packages/RecipesBase/92zOw/src/RecipesBase.jl:282\n",
      " [11] _process_seriesrecipe(plt::Any, plotattributes::Any)\n",
      "    @ RecipesPipeline ~/.julia/packages/RecipesPipeline/CirY4/src/series_recipe.jl:50\n",
      " [12] _process_seriesrecipe(plt::Any, plotattributes::Any)\n",
      "    @ RecipesPipeline ~/.julia/packages/RecipesPipeline/CirY4/src/series_recipe.jl:60\n",
      " [13] _process_seriesrecipes!(plt::Any, kw_list::Any)\n",
      "    @ RecipesPipeline ~/.julia/packages/RecipesPipeline/CirY4/src/series_recipe.jl:27\n",
      " [14] recipe_pipeline!(plt::Any, plotattributes::Any, args::Any)\n",
      "    @ RecipesPipeline ~/.julia/packages/RecipesPipeline/CirY4/src/RecipesPipeline.jl:97\n",
      " [15] _plot!(plt::Plots.Plot, plotattributes::Any, args::Any)\n",
      "    @ Plots ~/.julia/packages/Plots/FKcum/src/plot.jl:172\n",
      " [16] #plot#156\n",
      "    @ ~/.julia/packages/Plots/FKcum/src/plot.jl:58 [inlined]\n",
      " [17] histogram(args::Any; kw::Base.Pairs{Symbol, V, Tuple{Vararg{Symbol, N}}, NamedTuple{names, T}} where {V, N, names, T<:Tuple{Vararg{Any, N}}})\n",
      "    @ Plots ~/.julia/packages/RecipesBase/92zOw/src/RecipesBase.jl:403\n",
      " [18] top-level scope\n",
      "    @ ~/Repositories/Introduction-to-Julia/day3/11. Julia is fast.ipynb:5\n",
      " [19] eval\n",
      "    @ ./boot.jl:373 [inlined]\n",
      " [20] include_string(mapexpr::typeof(REPL.softscope), mod::Module, code::String, filename::String)\n",
      "    @ Base ./loading.jl:1196\n",
      " [21] #invokelatest#2\n",
      "    @ ./essentials.jl:716 [inlined]\n",
      " [22] invokelatest\n",
      "    @ ./essentials.jl:714 [inlined]\n",
      " [23] (::VSCodeServer.var\"#164#165\"{VSCodeServer.NotebookRunCellArguments, String})()\n",
      "    @ VSCodeServer ~/.vscode/extensions/julialang.language-julia-1.6.17/scripts/packages/VSCodeServer/src/serve_notebook.jl:19\n",
      " [24] withpath(f::VSCodeServer.var\"#164#165\"{VSCodeServer.NotebookRunCellArguments, String}, path::String)\n",
      "    @ VSCodeServer ~/.vscode/extensions/julialang.language-julia-1.6.17/scripts/packages/VSCodeServer/src/repl.jl:184\n",
      " [25] notebook_runcell_request(conn::VSCodeServer.JSONRPC.JSONRPCEndpoint{Base.PipeEndpoint, Base.PipeEndpoint}, params::VSCodeServer.NotebookRunCellArguments)\n",
      "    @ VSCodeServer ~/.vscode/extensions/julialang.language-julia-1.6.17/scripts/packages/VSCodeServer/src/serve_notebook.jl:13\n",
      " [26] dispatch_msg(x::VSCodeServer.JSONRPC.JSONRPCEndpoint{Base.PipeEndpoint, Base.PipeEndpoint}, dispatcher::VSCodeServer.JSONRPC.MsgDispatcher, msg::Dict{String, Any})\n",
      "    @ VSCodeServer.JSONRPC ~/.vscode/extensions/julialang.language-julia-1.6.17/scripts/packages/JSONRPC/src/typed.jl:67\n",
      " [27] serve_notebook(pipename::String, outputchannel_logger::Base.CoreLogging.SimpleLogger; crashreporting_pipename::String)\n",
      "    @ VSCodeServer ~/.vscode/extensions/julialang.language-julia-1.6.17/scripts/packages/VSCodeServer/src/serve_notebook.jl:136\n",
      " [28] top-level scope\n",
      "    @ ~/.vscode/extensions/julialang.language-julia-1.6.17/scripts/notebook/notebook.jl:32\n",
      " [29] include(mod::Module, _path::String)\n",
      "    @ Base ./Base.jl:418\n",
      " [30] exec_options(opts::Base.JLOptions)\n",
      "    @ Base ./client.jl:292\n",
      " [31] _start()\n",
      "    @ Base ./client.jl:495"
     ]
    }
   ],
   "source": [
    "using Statistics # bring in statistical support for standard deviations\n",
    "t = py_list_bench.times / 1e6 # times in milliseconds\n",
    "m, σ = minimum(t), std(t)\n",
    "\n",
    "histogram(t, bins=500,\n",
    "    xlim=(m - 0.01, m + σ),\n",
    "    xlabel=\"milliseconds\", ylabel=\"count\", label=\"\")"
   ]
  },
  {
   "cell_type": "markdown",
   "metadata": {},
   "source": [
    "# 2. Python: `numpy` \n",
    "\n",
    "## Takes advantage of hardware \"SIMD\", but only works when it works.\n",
    "\n",
    "`numpy` is an optimized C library, callable from Python.\n",
    "It may be installed within Julia as follows:"
   ]
  },
  {
   "cell_type": "code",
   "execution_count": 19,
   "metadata": {
    "scrolled": false
   },
   "outputs": [
    {
     "name": "stderr",
     "output_type": "stream",
     "text": [
      "\u001b[32m\u001b[1m   Resolving\u001b[22m\u001b[39m package versions...\n",
      "\u001b[32m\u001b[1m  No Changes\u001b[22m\u001b[39m to `~/Repositories/Introduction-to-Julia/Project.toml`\n",
      "\u001b[32m\u001b[1m  No Changes\u001b[22m\u001b[39m to `~/Repositories/Introduction-to-Julia/Manifest.toml`\n"
     ]
    }
   ],
   "source": [
    "using Pkg; Pkg.add(\"Conda\")\n",
    "using Conda"
   ]
  },
  {
   "cell_type": "code",
   "execution_count": 20,
   "metadata": {},
   "outputs": [
    {
     "name": "stdout",
     "output_type": "stream",
     "text": [
      "PREFIX=/home/snowztail/.julia/conda/3\n",
      "Unpacking payload ...\n",
      "Collecting package metadata (current_repodata.json): ...working... done\n",
      "Solving environment: ...working... done\n",
      "\n",
      "## Package Plan ##\n",
      "\n",
      "  environment location: /home/snowztail/.julia/conda/3\n",
      "\n",
      "  added / updated specs:\n",
      "    - _libgcc_mutex==0.1=main\n",
      "    - _openmp_mutex==4.5=1_gnu\n",
      "    - brotlipy==0.7.0=py39h27cfd23_1003\n",
      "    - ca-certificates==2022.3.29=h06a4308_1\n",
      "    - certifi==2021.10.8=py39h06a4308_2\n",
      "    - cffi==1.15.0=py39hd667e15_1\n",
      "    - charset-normalizer==2.0.4=pyhd3eb1b0_0\n",
      "    - colorama==0.4.4=pyhd3eb1b0_0\n",
      "    - conda-content-trust==0.1.1=pyhd3eb1b0_0\n",
      "    - conda-package-handling==1.8.1=py39h7f8727e_0\n",
      "    - conda==4.12.0=py39h06a4308_0\n",
      "    - cryptography==36.0.0=py39h9ce1e76_0\n",
      "    - idna==3.3=pyhd3eb1b0_0\n",
      "    - ld_impl_linux-64==2.35.1=h7274673_9\n",
      "    - libffi==3.3=he6710b0_2\n",
      "    - libgcc-ng==9.3.0=h5101ec6_17\n",
      "    - libgomp==9.3.0=h5101ec6_17\n",
      "    - libstdcxx-ng==9.3.0=hd4cf53a_17\n",
      "    - ncurses==6.3=h7f8727e_2\n",
      "    - openssl==1.1.1n=h7f8727e_0\n",
      "    - pip==21.2.4=py39h06a4308_0\n",
      "    - pycosat==0.6.3=py39h27cfd23_0\n",
      "    - pycparser==2.21=pyhd3eb1b0_0\n",
      "    - pyopenssl==22.0.0=pyhd3eb1b0_0\n",
      "    - pysocks==1.7.1=py39h06a4308_0\n",
      "    - python==3.9.12=h12debd9_0\n",
      "    - readline==8.1.2=h7f8727e_1\n",
      "    - requests==2.27.1=pyhd3eb1b0_0\n",
      "    - ruamel_yaml==0.15.100=py39h27cfd23_0\n",
      "    - setuptools==61.2.0=py39h06a4308_0\n",
      "    - six==1.16.0=pyhd3eb1b0_1\n",
      "    - sqlite==3.38.2=hc218d9a_0\n",
      "    - tk==8.6.11=h1ccaba5_0\n",
      "    - tqdm==4.63.0=pyhd3eb1b0_0\n",
      "    - tzdata==2022a=hda174b7_0\n",
      "    - urllib3==1.26.8=pyhd3eb1b0_0\n",
      "    - wheel==0.37.1=pyhd3eb1b0_0\n",
      "    - xz==5.2.5=h7b6447c_0\n",
      "    - yaml==0.2.5=h7b6447c_0\n",
      "    - zlib==1.2.12=h7f8727e_1\n",
      "\n",
      "\n",
      "The following NEW packages will be INSTALLED:\n",
      "\n",
      "  _libgcc_mutex      pkgs/main/linux-64::_libgcc_mutex-0.1-main\n",
      "  _openmp_mutex      pkgs/main/linux-64::_openmp_mutex-4.5-1_gnu\n",
      "  brotlipy           pkgs/main/linux-64::brotlipy-0.7.0-py39h27cfd23_1003\n",
      "  ca-certificates    pkgs/main/linux-64::ca-certificates-2022.3.29-h06a4308_1\n",
      "  certifi            pkgs/main/linux-64::certifi-2021.10.8-py39h06a4308_2\n",
      "  cffi               pkgs/main/linux-64::cffi-1.15.0-py39hd667e15_1\n",
      "  charset-normalizer pkgs/main/noarch::charset-normalizer-2.0.4-pyhd3eb1b0_0\n",
      "  colorama           pkgs/main/noarch::colorama-0.4.4-pyhd3eb1b0_0\n",
      "  conda              pkgs/main/linux-64::conda-4.12.0-py39h06a4308_0\n",
      "  conda-content-tru~ pkgs/main/noarch::conda-content-trust-0.1.1-pyhd3eb1b0_0\n",
      "  conda-package-han~ pkgs/main/linux-64::conda-package-handling-1.8.1-py39h7f8727e_0\n",
      "  cryptography       pkgs/main/linux-64::cryptography-36.0.0-py39h9ce1e76_0\n",
      "  idna               pkgs/main/noarch::idna-3.3-pyhd3eb1b0_0\n",
      "  ld_impl_linux-64   pkgs/main/linux-64::ld_impl_linux-64-2.35.1-h7274673_9\n",
      "  libffi             pkgs/main/linux-64::libffi-3.3-he6710b0_2\n",
      "  libgcc-ng          pkgs/main/linux-64::libgcc-ng-9.3.0-h5101ec6_17\n",
      "  libgomp            pkgs/main/linux-64::libgomp-9.3.0-h5101ec6_17\n",
      "  libstdcxx-ng       pkgs/main/linux-64::libstdcxx-ng-9.3.0-hd4cf53a_17\n",
      "  ncurses            pkgs/main/linux-64::ncurses-6.3-h7f8727e_2\n",
      "  openssl            pkgs/main/linux-64::openssl-1.1.1n-h7f8727e_0\n",
      "  pip                pkgs/main/linux-64::pip-21.2.4-py39h06a4308_0\n",
      "  pycosat            pkgs/main/linux-64::pycosat-0.6.3-py39h27cfd23_0\n",
      "  pycparser          pkgs/main/noarch::pycparser-2.21-pyhd3eb1b0_0\n",
      "  pyopenssl          pkgs/main/noarch::pyopenssl-22.0.0-pyhd3eb1b0_0\n",
      "  pysocks            pkgs/main/linux-64::pysocks-1.7.1-py39h06a4308_0\n",
      "  python             pkgs/main/linux-64::python-3.9.12-h12debd9_0\n",
      "  readline           pkgs/main/linux-64::readline-8.1.2-h7f8727e_1\n",
      "  requests           pkgs/main/noarch::requests-2.27.1-pyhd3eb1b0_0\n",
      "  ruamel_yaml        pkgs/main/linux-64::ruamel_yaml-0.15.100-py39h27cfd23_0\n",
      "  setuptools         pkgs/main/linux-64::setuptools-61.2.0-py39h06a4308_0\n",
      "  six                pkgs/main/noarch::six-1.16.0-pyhd3eb1b0_1\n",
      "  sqlite             pkgs/main/linux-64::sqlite-3.38.2-hc218d9a_0\n",
      "  tk                 pkgs/main/linux-64::tk-8.6.11-h1ccaba5_0\n",
      "  tqdm               pkgs/main/noarch::tqdm-4.63.0-pyhd3eb1b0_0\n",
      "  tzdata             pkgs/main/noarch::tzdata-2022a-hda174b7_0\n",
      "  urllib3            pkgs/main/noarch::urllib3-1.26.8-pyhd3eb1b0_0\n",
      "  wheel              pkgs/main/noarch::wheel-0.37.1-pyhd3eb1b0_0\n",
      "  xz                 pkgs/main/linux-64::xz-5.2.5-h7b6447c_0\n",
      "  yaml               pkgs/main/linux-64::yaml-0.2.5-h7b6447c_0\n",
      "  zlib               pkgs/main/linux-64::zlib-1.2.12-h7f8727e_1\n",
      "\n",
      "\n",
      "Preparing transaction: ...working... done\n",
      "Executing transaction: ...working... done\n",
      "installation finished.\n",
      "Collecting package metadata (current_repodata.json): ...working... done\n",
      "Solving environment: ...working... done\n",
      "\n",
      "## Package Plan ##\n",
      "\n",
      "  environment location: /home/snowztail/.julia/conda/3\n",
      "\n",
      "  added / updated specs:\n",
      "    - numpy\n",
      "\n",
      "\n",
      "The following packages will be downloaded:\n",
      "\n",
      "    package                    |            build\n",
      "    ---------------------------|-----------------\n",
      "    blas-1.0                   |              mkl           6 KB\n",
      "    ca-certificates-2022.4.26  |       h06a4308_0         124 KB\n",
      "    intel-openmp-2021.4.0      |    h06a4308_3561         4.2 MB\n",
      "    mkl-2021.4.0               |     h06a4308_640       142.6 MB\n",
      "    mkl-service-2.4.0          |   py39h7f8727e_0          59 KB\n",
      "    mkl_fft-1.3.1              |   py39hd3c417c_0         182 KB\n",
      "    mkl_random-1.2.2           |   py39h51133e4_0         309 KB\n",
      "    numpy-1.22.3               |   py39he7a7128_0          10 KB\n",
      "    numpy-base-1.22.3          |   py39hf524024_0         5.4 MB\n",
      "    openssl-1.1.1o             |       h7f8727e_0         2.5 MB\n",
      "    ------------------------------------------------------------\n",
      "                                           Total:       155.4 MB\n",
      "\n",
      "The following NEW packages will be INSTALLED:\n",
      "\n",
      "  blas               pkgs/main/linux-64::blas-1.0-mkl\n",
      "  intel-openmp       pkgs/main/linux-64::intel-openmp-2021.4.0-h06a4308_3561\n",
      "  mkl                pkgs/main/linux-64::mkl-2021.4.0-h06a4308_640\n",
      "  mkl-service        pkgs/main/linux-64::mkl-service-2.4.0-py39h7f8727e_0\n",
      "  mkl_fft            pkgs/main/linux-64::mkl_fft-1.3.1-py39hd3c417c_0\n",
      "  mkl_random         pkgs/main/linux-64::mkl_random-1.2.2-py39h51133e4_0\n",
      "  numpy              pkgs/main/linux-64::numpy-1.22.3-py39he7a7128_0\n",
      "  numpy-base         pkgs/main/linux-64::numpy-base-1.22.3-py39hf524024_0\n",
      "\n",
      "The following packages will be UPDATED:\n",
      "\n",
      "  ca-certificates                      2022.3.29-h06a4308_1 --> 2022.4.26-h06a4308_0\n",
      "  openssl                                 1.1.1n-h7f8727e_0 --> 1.1.1o-h7f8727e_0\n",
      "\n",
      "\n",
      "\n",
      "Downloading and Extracting Packages\n",
      "\ropenssl-1.1.1o       | 2.5 MB    |            |   0% \ropenssl-1.1.1o       | 2.5 MB    | 2          |   2% \ropenssl-1.1.1o       | 2.5 MB    | #1         |  11% \ropenssl-1.1.1o       | 2.5 MB    | ##3        |  24% \ropenssl-1.1.1o       | 2.5 MB    | ###9       |  40% \ropenssl-1.1.1o       | 2.5 MB    | #####5     |  55% \ropenssl-1.1.1o       | 2.5 MB    | #######    |  70% \ropenssl-1.1.1o       | 2.5 MB    | ########## | 100% \ropenssl-1.1.1o       | 2.5 MB    | ########## | 100% \n",
      "\rintel-openmp-2021.4. | 4.2 MB    |            |   0% \rintel-openmp-2021.4. | 4.2 MB    | #1         |  11% \rintel-openmp-2021.4. | 4.2 MB    | ##6        |  27% \rintel-openmp-2021.4. | 4.2 MB    | ####9      |  49% \rintel-openmp-2021.4. | 4.2 MB    | ######6    |  67% \rintel-openmp-2021.4. | 4.2 MB    | ########4  |  84% \rintel-openmp-2021.4. | 4.2 MB    | ########## | 100% \n",
      "\rnumpy-1.22.3         | 10 KB     |            |   0% \rnumpy-1.22.3         | 10 KB     | ########## | 100% \rnumpy-1.22.3         | 10 KB     | ########## | 100% \n",
      "\rnumpy-base-1.22.3    | 5.4 MB    |            |   0% \rnumpy-base-1.22.3    | 5.4 MB    | 8          |   9% \rnumpy-base-1.22.3    | 5.4 MB    | ##1        |  21% \rnumpy-base-1.22.3    | 5.4 MB    | ###1       |  32% \rnumpy-base-1.22.3    | 5.4 MB    | ####2      |  42% \rnumpy-base-1.22.3    | 5.4 MB    | #####1     |  51% \rnumpy-base-1.22.3    | 5.4 MB    | ######     |  60% \rnumpy-base-1.22.3    | 5.4 MB    | ######9    |  69% \rnumpy-base-1.22.3    | 5.4 MB    | #######7   |  78% \rnumpy-base-1.22.3    | 5.4 MB    | #########  |  91% \rnumpy-base-1.22.3    | 5.4 MB    | ########## | 100% \n",
      "\rmkl_fft-1.3.1        | 182 KB    |            |   0% \rmkl_fft-1.3.1        | 182 KB    | ########## | 100% \rmkl_fft-1.3.1        | 182 KB    | ########## | 100% \n",
      "\rmkl-service-2.4.0    | 59 KB     |            |   0% \rmkl-service-2.4.0    | 59 KB     | ########## | 100% \rmkl-service-2.4.0    | 59 KB     | ########## | 100% \n",
      "\rmkl_random-1.2.2     | 309 KB    |            |   0% \rmkl_random-1.2.2     | 309 KB    | ########## | 100% \rmkl_random-1.2.2     | 309 KB    | ########## | 100% \n",
      "\rca-certificates-2022 | 124 KB    |            |   0% \rca-certificates-2022 | 124 KB    | ########## | 100% \rca-certificates-2022 | 124 KB    | ########## | 100% \n",
      "\rblas-1.0             | 6 KB      |            |   0% \rblas-1.0             | 6 KB      | ########## | 100% \rblas-1.0             | 6 KB      | ########## | 100% \n",
      "\rmkl-2021.4.0         | 142.6 MB  |            |   0% \rmkl-2021.4.0         | 142.6 MB  |            |   0% \rmkl-2021.4.0         | 142.6 MB  |            |   1% \rmkl-2021.4.0         | 142.6 MB  | 1          |   1% \rmkl-2021.4.0         | 142.6 MB  | 1          |   2% \rmkl-2021.4.0         | 142.6 MB  | 2          |   2% \rmkl-2021.4.0         | 142.6 MB  | 2          |   3% \rmkl-2021.4.0         | 142.6 MB  | 2          |   3% \rmkl-2021.4.0         | 142.6 MB  | 3          |   3% \rmkl-2021.4.0         | 142.6 MB  | 3          |   4% \rmkl-2021.4.0         | 142.6 MB  | 4          |   4% \rmkl-2021.4.0         | 142.6 MB  | 4          |   5% \rmkl-2021.4.0         | 142.6 MB  | 4          |   5% \rmkl-2021.4.0         | 142.6 MB  | 5          |   5% \rmkl-2021.4.0         | 142.6 MB  | 5          |   6% \rmkl-2021.4.0         | 142.6 MB  | 6          |   6% \rmkl-2021.4.0         | 142.6 MB  | 6          |   7% \rmkl-2021.4.0         | 142.6 MB  | 7          |   7% \rmkl-2021.4.0         | 142.6 MB  | 7          |   8% \rmkl-2021.4.0         | 142.6 MB  | 8          |   8% \rmkl-2021.4.0         | 142.6 MB  | 8          |   9% \rmkl-2021.4.0         | 142.6 MB  | 9          |   9% \rmkl-2021.4.0         | 142.6 MB  | 9          |  10% "
     ]
    },
    {
     "name": "stdout",
     "output_type": "stream",
     "text": [
      "\rmkl-2021.4.0         | 142.6 MB  | #          |  10% \rmkl-2021.4.0         | 142.6 MB  | #          |  11% \rmkl-2021.4.0         | 142.6 MB  | #1         |  11% \rmkl-2021.4.0         | 142.6 MB  | #1         |  12% \rmkl-2021.4.0         | 142.6 MB  | #2         |  12% \rmkl-2021.4.0         | 142.6 MB  | #2         |  13% \rmkl-2021.4.0         | 142.6 MB  | #3         |  13% \rmkl-2021.4.0         | 142.6 MB  | #4         |  14% \rmkl-2021.4.0         | 142.6 MB  | #4         |  14% \rmkl-2021.4.0         | 142.6 MB  | #4         |  15% \rmkl-2021.4.0         | 142.6 MB  | #5         |  16% \rmkl-2021.4.0         | 142.6 MB  | #6         |  16% \rmkl-2021.4.0         | 142.6 MB  | #6         |  17% \rmkl-2021.4.0         | 142.6 MB  | #7         |  17% \rmkl-2021.4.0         | 142.6 MB  | #7         |  18% \rmkl-2021.4.0         | 142.6 MB  | #8         |  18% \rmkl-2021.4.0         | 142.6 MB  | #8         |  18% \rmkl-2021.4.0         | 142.6 MB  | #9         |  19% \rmkl-2021.4.0         | 142.6 MB  | #9         |  20% \rmkl-2021.4.0         | 142.6 MB  | ##         |  20% \rmkl-2021.4.0         | 142.6 MB  | ##         |  21% \rmkl-2021.4.0         | 142.6 MB  | ##1        |  21% \rmkl-2021.4.0         | 142.6 MB  | ##1        |  22% \rmkl-2021.4.0         | 142.6 MB  | ##2        |  23% \rmkl-2021.4.0         | 142.6 MB  | ##3        |  23% \rmkl-2021.4.0         | 142.6 MB  | ##3        |  24% \rmkl-2021.4.0         | 142.6 MB  | ##4        |  24% \rmkl-2021.4.0         | 142.6 MB  | ##5        |  25% \rmkl-2021.4.0         | 142.6 MB  | ##5        |  26% \rmkl-2021.4.0         | 142.6 MB  | ##6        |  26% \rmkl-2021.4.0         | 142.6 MB  | ##6        |  27% \rmkl-2021.4.0         | 142.6 MB  | ##7        |  28% \rmkl-2021.4.0         | 142.6 MB  | ##8        |  28% \rmkl-2021.4.0         | 142.6 MB  | ##8        |  29% \rmkl-2021.4.0         | 142.6 MB  | ##9        |  29% \rmkl-2021.4.0         | 142.6 MB  | ##9        |  30% \rmkl-2021.4.0         | 142.6 MB  | ###        |  31% \rmkl-2021.4.0         | 142.6 MB  | ###1       |  31% \rmkl-2021.4.0         | 142.6 MB  | ###1       |  32% \rmkl-2021.4.0         | 142.6 MB  | ###2       |  32% \rmkl-2021.4.0         | 142.6 MB  | ###2       |  33% \rmkl-2021.4.0         | 142.6 MB  | ###3       |  34% \rmkl-2021.4.0         | 142.6 MB  | ###4       |  34% \rmkl-2021.4.0         | 142.6 MB  | ###4       |  35% \rmkl-2021.4.0         | 142.6 MB  | ###5       |  35% \rmkl-2021.4.0         | 142.6 MB  | ###5       |  36% \rmkl-2021.4.0         | 142.6 MB  | ###6       |  36% \rmkl-2021.4.0         | 142.6 MB  | ###7       |  37% \rmkl-2021.4.0         | 142.6 MB  | ###7       |  38% \rmkl-2021.4.0         | 142.6 MB  | ###8       |  38% \rmkl-2021.4.0         | 142.6 MB  | ###8       |  39% \rmkl-2021.4.0         | 142.6 MB  | ###9       |  39% \rmkl-2021.4.0         | 142.6 MB  | ###9       |  40% \rmkl-2021.4.0         | 142.6 MB  | ####       |  40% \rmkl-2021.4.0         | 142.6 MB  | ####1      |  41% \rmkl-2021.4.0         | 142.6 MB  | ####1      |  42% \rmkl-2021.4.0         | 142.6 MB  | ####2      |  42% \rmkl-2021.4.0         | 142.6 MB  | ####2      |  43% \rmkl-2021.4.0         | 142.6 MB  | ####3      |  43% \rmkl-2021.4.0         | 142.6 MB  | ####4      |  44% \rmkl-2021.4.0         | 142.6 MB  | ####4      |  45% \rmkl-2021.4.0         | 142.6 MB  | ####5      |  45% \rmkl-2021.4.0         | 142.6 MB  | ####5      |  46% \rmkl-2021.4.0         | 142.6 MB  | ####6      |  46% \rmkl-2021.4.0         | 142.6 MB  | ####6      |  47% \rmkl-2021.4.0         | 142.6 MB  | ####7      |  48% \rmkl-2021.4.0         | 142.6 MB  | ####8      |  48% \rmkl-2021.4.0         | 142.6 MB  | ####8      |  49% \rmkl-2021.4.0         | 142.6 MB  | ####9      |  49% \rmkl-2021.4.0         | 142.6 MB  | ####9      |  50% \rmkl-2021.4.0         | 142.6 MB  | #####      |  50% \rmkl-2021.4.0         | 142.6 MB  | #####1     |  51% \rmkl-2021.4.0         | 142.6 MB  | #####1     |  52% \rmkl-2021.4.0         | 142.6 MB  | #####2     |  52% \rmkl-2021.4.0         | 142.6 MB  | #####2     |  53% \rmkl-2021.4.0         | 142.6 MB  | #####3     |  53% \rmkl-2021.4.0         | 142.6 MB  | #####3     |  54% \rmkl-2021.4.0         | 142.6 MB  | #####4     |  54% \rmkl-2021.4.0         | 142.6 MB  | #####4     |  55% \rmkl-2021.4.0         | 142.6 MB  | #####5     |  55% \rmkl-2021.4.0         | 142.6 MB  | #####5     |  56% \rmkl-2021.4.0         | 142.6 MB  | #####6     |  56% \rmkl-2021.4.0         | 142.6 MB  | #####7     |  57% \rmkl-2021.4.0         | 142.6 MB  | #####7     |  58% \rmkl-2021.4.0         | 142.6 MB  | #####8     |  58% \rmkl-2021.4.0         | 142.6 MB  | #####8     |  59% \rmkl-2021.4.0         | 142.6 MB  | #####9     |  59% \rmkl-2021.4.0         | 142.6 MB  | #####9     |  60% \rmkl-2021.4.0         | 142.6 MB  | ######     |  60% \rmkl-2021.4.0         | 142.6 MB  | ######     |  61% \rmkl-2021.4.0         | 142.6 MB  | ######1    |  61% \rmkl-2021.4.0         | 142.6 MB  | ######1    |  62% \rmkl-2021.4.0         | 142.6 MB  | ######2    |  62% \rmkl-2021.4.0         | 142.6 MB  | ######3    |  63% \rmkl-2021.4.0         | 142.6 MB  | ######3    |  64% \rmkl-2021.4.0         | 142.6 MB  | ######4    |  64% \rmkl-2021.4.0         | 142.6 MB  | ######4    |  65% \rmkl-2021.4.0         | 142.6 MB  | ######5    |  65% \rmkl-2021.4.0         | 142.6 MB  | ######5    |  66% \rmkl-2021.4.0         | 142.6 MB  | ######6    |  67% \rmkl-2021.4.0         | 142.6 MB  | ######7    |  67% \rmkl-2021.4.0         | 142.6 MB  | ######7    |  68% \rmkl-2021.4.0         | 142.6 MB  | ######8    |  68% \rmkl-2021.4.0         | 142.6 MB  | ######8    |  69% \rmkl-2021.4.0         | 142.6 MB  | ######9    |  69% \rmkl-2021.4.0         | 142.6 MB  | ######9    |  69% \rmkl-2021.4.0         | 142.6 MB  | ######9    |  70% \rmkl-2021.4.0         | 142.6 MB  | #######    |  71% \rmkl-2021.4.0         | 142.6 MB  | #######1   |  71% \rmkl-2021.4.0         | 142.6 MB  | #######1   |  72% \rmkl-2021.4.0         | 142.6 MB  | #######2   |  72% \rmkl-2021.4.0         | 142.6 MB  | #######2   |  73% \rmkl-2021.4.0         | 142.6 MB  | #######3   |  73% \rmkl-2021.4.0         | 142.6 MB  | #######3   |  74% \rmkl-2021.4.0         | 142.6 MB  | #######4   |  74% \rmkl-2021.4.0         | 142.6 MB  | #######4   |  75% \rmkl-2021.4.0         | 142.6 MB  | #######5   |  75% \rmkl-2021.4.0         | 142.6 MB  | #######5   |  76% \rmkl-2021.4.0         | 142.6 MB  | #######6   |  76% \rmkl-2021.4.0         | 142.6 MB  | #######6   |  77% \rmkl-2021.4.0         | 142.6 MB  | #######7   |  77% \rmkl-2021.4.0         | 142.6 MB  | #######7   |  77% \rmkl-2021.4.0         | 142.6 MB  | #######7   |  78% \rmkl-2021.4.0         | 142.6 MB  | #######7   |  78% \rmkl-2021.4.0         | 142.6 MB  | #######8   |  78% \rmkl-2021.4.0         | 142.6 MB  | #######8   |  79% \rmkl-2021.4.0         | 142.6 MB  | #######8   |  79% \rmkl-2021.4.0         | 142.6 MB  | #######9   |  79% \rmkl-2021.4.0         | 142.6 MB  | #######9   |  80% \rmkl-2021.4.0         | 142.6 MB  | ########   |  80% \rmkl-2021.4.0         | 142.6 MB  | ########   |  81% \rmkl-2021.4.0         | 142.6 MB  | ########1  |  81% \rmkl-2021.4.0         | 142.6 MB  | ########1  |  82% \rmkl-2021.4.0         | 142.6 MB  | ########1  |  82% \rmkl-2021.4.0         | 142.6 MB  | ########2  |  83% \rmkl-2021.4.0         | 142.6 MB  | ########3  |  83% \rmkl-2021.4.0         | 142.6 MB  | ########3  |  84% \rmkl-2021.4.0         | 142.6 MB  | ########3  |  84% \rmkl-2021.4.0         | 142.6 MB  | ########4  |  84% \rmkl-2021.4.0         | 142.6 MB  | ########5  |  85% \rmkl-2021.4.0         | 142.6 MB  | ########5  |  86% \rmkl-2021.4.0         | 142.6 MB  | ########6  |  86% \rmkl-2021.4.0         | 142.6 MB  | ########6  |  87% \rmkl-2021.4.0         | 142.6 MB  | ########7  |  87% \rmkl-2021.4.0         | 142.6 MB  | ########7  |  88% \rmkl-2021.4.0         | 142.6 MB  | ########7  |  88% \rmkl-2021.4.0         | 142.6 MB  | ########8  |  88% \rmkl-2021.4.0         | 142.6 MB  | ########9  |  89% \rmkl-2021.4.0         | 142.6 MB  | ########9  |  90% \rmkl-2021.4.0         | 142.6 MB  | #########  |  90% \rmkl-2021.4.0         | 142.6 MB  | #########  |  91% \rmkl-2021.4.0         | 142.6 MB  | #########1 |  91% \rmkl-2021.4.0         | 142.6 MB  | #########1 |  92% \rmkl-2021.4.0         | 142.6 MB  | #########2 |  92% \rmkl-2021.4.0         | 142.6 MB  | #########2 |  93% \rmkl-2021.4.0         | 142.6 MB  | #########3 |  93% \rmkl-2021.4.0         | 142.6 MB  | #########3 |  94% \rmkl-2021.4.0         | 142.6 MB  | #########4 |  94% \rmkl-2021.4.0         | 142.6 MB  | #########4 |  95% \rmkl-2021.4.0         | 142.6 MB  | #########5 |  95% \rmkl-2021.4.0         | 142.6 MB  | #########6 |  96% \rmkl-2021.4.0         | 142.6 MB  | #########6 |  97% \rmkl-2021.4.0         | 142.6 MB  | #########7 |  97% \rmkl-2021.4.0         | 142.6 MB  | #########7 |  98% \rmkl-2021.4.0         | 142.6 MB  | #########8 |  98% \rmkl-2021.4.0         | 142.6 MB  | #########8 |  99% \rmkl-2021.4.0         | 142.6 MB  | #########9 | 100% \rmkl-2021.4.0         | 142.6 MB  | ########## | 100% \n",
      "Preparing transaction: ...working... done\n",
      "Verifying transaction: ...working... done\n",
      "Executing transaction: ...working... done\n"
     ]
    },
    {
     "name": "stderr",
     "output_type": "stream",
     "text": [
      "┌ Info: Downloading miniconda installer ...\n",
      "└ @ Conda /home/snowztail/.julia/packages/Conda/sNGum/src/Conda.jl:192\n",
      "┌ Info: Installing miniconda ...\n",
      "└ @ Conda /home/snowztail/.julia/packages/Conda/sNGum/src/Conda.jl:202\n",
      "\r  0%|          | 0/40 [00:00<?, ?it/s]\rExtracting : openssl-1.1.1n-h7f8727e_0.conda:   0%|          | 0/40 [00:00<?, ?it/s]\rExtracting : openssl-1.1.1n-h7f8727e_0.conda:   2%|▎         | 1/40 [00:00<00:05,  7.25it/s]\rExtracting : libstdcxx-ng-9.3.0-hd4cf53a_17.conda:   2%|▎         | 1/40 [00:00<00:05,  7.25it/s]\rExtracting : wheel-0.37.1-pyhd3eb1b0_0.conda:   5%|▌         | 2/40 [00:00<00:05,  7.25it/s]     \rExtracting : libffi-3.3-he6710b0_2.conda:   8%|▊         | 3/40 [00:00<00:05,  7.25it/s]    \rExtracting : conda-package-handling-1.8.1-py39h7f8727e_0.conda:  10%|█         | 4/40 [00:00<00:04,  7.25it/s]\rExtracting : ld_impl_linux-64-2.35.1-h7274673_9.conda:  12%|█▎        | 5/40 [00:00<00:04,  7.25it/s]         \rExtracting : colorama-0.4.4-pyhd3eb1b0_0.conda:  15%|█▌        | 6/40 [00:00<00:04,  7.25it/s]       \rExtracting : pyopenssl-22.0.0-pyhd3eb1b0_0.conda:  18%|█▊        | 7/40 [00:00<00:04,  7.25it/s]\rExtracting : tzdata-2022a-hda174b7_0.conda:  20%|██        | 8/40 [00:00<00:04,  7.25it/s]      \rExtracting : libgomp-9.3.0-h5101ec6_17.conda:  22%|██▎       | 9/40 [00:00<00:04,  7.25it/s]\rExtracting : cffi-1.15.0-py39hd667e15_1.conda:  25%|██▌       | 10/40 [00:00<00:04,  7.25it/s]\rExtracting : certifi-2021.10.8-py39h06a4308_2.conda:  28%|██▊       | 11/40 [00:00<00:04,  7.25it/s]\rExtracting : ncurses-6.3-h7f8727e_2.conda:  30%|███       | 12/40 [00:00<00:03,  7.25it/s]          \rExtracting : pycosat-0.6.3-py39h27cfd23_0.conda:  32%|███▎      | 13/40 [00:00<00:03,  7.25it/s]\rExtracting : requests-2.27.1-pyhd3eb1b0_0.conda:  35%|███▌      | 14/40 [00:00<00:03,  7.25it/s]\rExtracting : ca-certificates-2022.3.29-h06a4308_1.conda:  38%|███▊      | 15/40 [00:00<00:03,  7.25it/s]\rExtracting : readline-8.1.2-h7f8727e_1.conda:  40%|████      | 16/40 [00:00<00:03,  7.25it/s]           \rExtracting : readline-8.1.2-h7f8727e_1.conda:  42%|████▎     | 17/40 [00:00<00:00, 67.06it/s]\rExtracting : pip-21.2.4-py39h06a4308_0.conda:  42%|████▎     | 17/40 [00:00<00:00, 67.06it/s]\rExtracting : xz-5.2.5-h7b6447c_0.conda:  45%|████▌     | 18/40 [00:00<00:00, 67.06it/s]      \rExtracting : ruamel_yaml-0.15.100-py39h27cfd23_0.conda:  48%|████▊     | 19/40 [00:00<00:00, 67.06it/s]\rExtracting : idna-3.3-pyhd3eb1b0_0.conda:  50%|█████     | 20/40 [00:00<00:00, 67.06it/s]              \rExtracting : setuptools-61.2.0-py39h06a4308_0.conda:  52%|█████▎    | 21/40 [00:00<00:00, 67.06it/s]\rExtracting : tqdm-4.63.0-pyhd3eb1b0_0.conda:  55%|█████▌    | 22/40 [00:00<00:00, 67.06it/s]        \rExtracting : sqlite-3.38.2-hc218d9a_0.conda:  57%|█████▊    | 23/40 [00:00<00:00, 67.06it/s]\rExtracting : sqlite-3.38.2-hc218d9a_0.conda:  60%|██████    | 24/40 [00:00<00:00, 61.77it/s]\rExtracting : cryptography-36.0.0-py39h9ce1e76_0.conda:  60%|██████    | 24/40 [00:00<00:00, 61.77it/s]\rExtracting : conda-4.12.0-py39h06a4308_0.conda:  62%|██████▎   | 25/40 [00:00<00:00, 61.77it/s]       \rExtracting : tk-8.6.11-h1ccaba5_0.conda:  65%|██████▌   | 26/40 [00:00<00:00, 61.77it/s]       \rExtracting : zlib-1.2.12-h7f8727e_1.conda:  68%|██████▊   | 27/40 [00:00<00:00, 61.77it/s]\rExtracting : urllib3-1.26.8-pyhd3eb1b0_0.conda:  70%|███████   | 28/40 [00:00<00:00, 61.77it/s]\rExtracting : pycparser-2.21-pyhd3eb1b0_0.conda:  72%|███████▎  | 29/40 [00:00<00:00, 61.77it/s]\rExtracting : brotlipy-0.7.0-py39h27cfd23_1003.conda:  75%|███████▌  | 30/40 [00:00<00:00, 61.77it/s]\rExtracting : six-1.16.0-pyhd3eb1b0_1.conda:  78%|███████▊  | 31/40 [00:00<00:00, 61.77it/s]         \rExtracting : yaml-0.2.5-h7b6447c_0.conda:  80%|████████  | 32/40 [00:00<00:00, 61.77it/s]  \rExtracting : conda-content-trust-0.1.1-pyhd3eb1b0_0.conda:  82%|████████▎ | 33/40 [00:00<00:00, 61.77it/s]\rExtracting : python-3.9.12-h12debd9_0.conda:  85%|████████▌ | 34/40 [00:00<00:00, 61.77it/s]              \rExtracting : _libgcc_mutex-0.1-main.conda:  88%|████████▊ | 35/40 [00:00<00:00, 61.77it/s]  \rExtracting : pysocks-1.7.1-py39h06a4308_0.conda:  90%|█████████ | 36/40 [00:00<00:00, 61.77it/s]\rExtracting : charset-normalizer-2.0.4-pyhd3eb1b0_0.conda:  92%|█████████▎| 37/40 [00:00<00:00, 61.77it/s]\rExtracting : libgcc-ng-9.3.0-h5101ec6_17.conda:  95%|█████████▌| 38/40 [00:00<00:00, 61.77it/s]          \rExtracting : _openmp_mutex-4.5-1_gnu.tar.bz2:  98%|█████████▊| 39/40 [00:00<00:00, 61.77it/s]  \r                                                                                             \r┌ Info: Running `conda install -y numpy` in root environment\n",
      "└ @ Conda /home/snowztail/.julia/packages/Conda/sNGum/src/Conda.jl:128\n"
     ]
    },
    {
     "data": {
      "text/plain": [
       "PyObject <function sum at 0x7fe03dfb64d0>"
      ]
     },
     "metadata": {},
     "output_type": "display_data"
    }
   ],
   "source": [
    "Conda.add(\"numpy\")\n",
    "numpy_sum = pyimport(\"numpy\")[\"sum\"]\n"
   ]
  },
  {
   "cell_type": "code",
   "execution_count": 21,
   "metadata": {
    "scrolled": false
   },
   "outputs": [
    {
     "data": {
      "text/plain": [
       "4.9992696087682005e6"
      ]
     },
     "metadata": {},
     "output_type": "display_data"
    }
   ],
   "source": [
    "numpy_sum(a)"
   ]
  },
  {
   "cell_type": "code",
   "execution_count": 22,
   "metadata": {
    "scrolled": false
   },
   "outputs": [
    {
     "data": {
      "text/plain": [
       "true"
      ]
     },
     "metadata": {},
     "output_type": "display_data"
    }
   ],
   "source": [
    "numpy_sum(a) ≈ sum(a)# type \\approx and then <TAB> to get the ≈ symbolb"
   ]
  },
  {
   "cell_type": "code",
   "execution_count": null,
   "metadata": {},
   "outputs": [],
   "source": []
  },
  {
   "cell_type": "code",
   "execution_count": 23,
   "metadata": {},
   "outputs": [
    {
     "data": {
      "text/plain": [
       "isapprox (generic function with 18 methods)"
      ]
     },
     "metadata": {},
     "output_type": "display_data"
    }
   ],
   "source": [
    "≈  # alias for the `isapprox` function"
   ]
  },
  {
   "cell_type": "code",
   "execution_count": 24,
   "metadata": {},
   "outputs": [
    {
     "ename": "ErrorException",
     "evalue": "syntax: invalid identifier name \"?\"",
     "output_type": "error",
     "traceback": [
      "syntax: invalid identifier name \"?\"\n",
      "\n",
      "Stacktrace:\n",
      "  [1] top-level scope\n",
      "    @ ~/Repositories/Introduction-to-Julia/day3/11. Julia is fast.ipynb:1\n",
      "  [2] eval\n",
      "    @ ./boot.jl:373 [inlined]\n",
      "  [3] include_string(mapexpr::typeof(REPL.softscope), mod::Module, code::String, filename::String)\n",
      "    @ Base ./loading.jl:1196\n",
      "  [4] #invokelatest#2\n",
      "    @ ./essentials.jl:716 [inlined]\n",
      "  [5] invokelatest\n",
      "    @ ./essentials.jl:714 [inlined]\n",
      "  [6] (::VSCodeServer.var\"#164#165\"{VSCodeServer.NotebookRunCellArguments, String})()\n",
      "    @ VSCodeServer ~/.vscode/extensions/julialang.language-julia-1.6.17/scripts/packages/VSCodeServer/src/serve_notebook.jl:19\n",
      "  [7] withpath(f::VSCodeServer.var\"#164#165\"{VSCodeServer.NotebookRunCellArguments, String}, path::String)\n",
      "    @ VSCodeServer ~/.vscode/extensions/julialang.language-julia-1.6.17/scripts/packages/VSCodeServer/src/repl.jl:184\n",
      "  [8] notebook_runcell_request(conn::VSCodeServer.JSONRPC.JSONRPCEndpoint{Base.PipeEndpoint, Base.PipeEndpoint}, params::VSCodeServer.NotebookRunCellArguments)\n",
      "    @ VSCodeServer ~/.vscode/extensions/julialang.language-julia-1.6.17/scripts/packages/VSCodeServer/src/serve_notebook.jl:13\n",
      "  [9] dispatch_msg(x::VSCodeServer.JSONRPC.JSONRPCEndpoint{Base.PipeEndpoint, Base.PipeEndpoint}, dispatcher::VSCodeServer.JSONRPC.MsgDispatcher, msg::Dict{String, Any})\n",
      "    @ VSCodeServer.JSONRPC ~/.vscode/extensions/julialang.language-julia-1.6.17/scripts/packages/JSONRPC/src/typed.jl:67\n",
      " [10] serve_notebook(pipename::String, outputchannel_logger::Base.CoreLogging.SimpleLogger; crashreporting_pipename::String)\n",
      "    @ VSCodeServer ~/.vscode/extensions/julialang.language-julia-1.6.17/scripts/packages/VSCodeServer/src/serve_notebook.jl:136\n",
      " [11] top-level scope\n",
      "    @ ~/.vscode/extensions/julialang.language-julia-1.6.17/scripts/notebook/notebook.jl:32\n",
      " [12] include(mod::Module, _path::String)\n",
      "    @ Base ./Base.jl:418\n",
      " [13] exec_options(opts::Base.JLOptions)\n",
      "    @ Base ./client.jl:292\n",
      " [14] _start()\n",
      "    @ Base ./client.jl:495"
     ]
    }
   ],
   "source": [
    "?isapprox"
   ]
  },
  {
   "cell_type": "code",
   "execution_count": 25,
   "metadata": {
    "scrolled": false
   },
   "outputs": [
    {
     "data": {
      "text/plain": [
       "BenchmarkTools.Trial: \n",
       "  memory estimate:  240 bytes\n",
       "  allocs estimate:  6\n",
       "  --------------\n",
       "  minimum time:     2.730 ms (0.00% GC)\n",
       "  median time:      2.928 ms (0.00% GC)\n",
       "  mean time:        2.959 ms (0.00% GC)\n",
       "  maximum time:     4.337 ms (0.00% GC)\n",
       "  --------------\n",
       "  samples:          1685\n",
       "  evals/sample:     1"
      ]
     },
     "metadata": {},
     "output_type": "display_data"
    }
   ],
   "source": [
    "py_numpy_bench = @benchmark $numpy_sum($a)"
   ]
  },
  {
   "cell_type": "code",
   "execution_count": 26,
   "metadata": {
    "scrolled": true
   },
   "outputs": [
    {
     "data": {
      "text/plain": [
       "Dict{Any, Any} with 2 entries:\n",
       "  \"Python numpy\"    => 2.72977\n",
       "  \"Python built-in\" => 531.623"
      ]
     },
     "metadata": {},
     "output_type": "display_data"
    }
   ],
   "source": [
    "d[\"Python numpy\"] = minimum(py_numpy_bench.times) / 1e6\n",
    "d"
   ]
  },
  {
   "cell_type": "markdown",
   "metadata": {},
   "source": [
    "### 3. Python, hand-written "
   ]
  },
  {
   "cell_type": "code",
   "execution_count": 27,
   "metadata": {
    "scrolled": false
   },
   "outputs": [
    {
     "data": {
      "text/plain": [
       "PyObject <function py_sum at 0x7fe03d3f3b50>"
      ]
     },
     "metadata": {},
     "output_type": "display_data"
    }
   ],
   "source": [
    "py\"\"\"\n",
    "def py_sum(A):\n",
    "    s = 0.0\n",
    "    for a in A:\n",
    "        s += a\n",
    "    return s\n",
    "\"\"\"\n",
    "\n",
    "sum_py = py\"py_sum\""
   ]
  },
  {
   "cell_type": "code",
   "execution_count": 28,
   "metadata": {
    "scrolled": false
   },
   "outputs": [
    {
     "data": {
      "text/plain": [
       "BenchmarkTools.Trial: \n",
       "  memory estimate:  240 bytes\n",
       "  allocs estimate:  6\n",
       "  --------------\n",
       "  minimum time:     617.443 ms (0.00% GC)\n",
       "  median time:      620.353 ms (0.00% GC)\n",
       "  mean time:        620.723 ms (0.00% GC)\n",
       "  maximum time:     625.713 ms (0.00% GC)\n",
       "  --------------\n",
       "  samples:          9\n",
       "  evals/sample:     1"
      ]
     },
     "metadata": {},
     "output_type": "display_data"
    }
   ],
   "source": [
    "py_hand = @benchmark $sum_py($a)"
   ]
  },
  {
   "cell_type": "code",
   "execution_count": 29,
   "metadata": {
    "scrolled": false
   },
   "outputs": [
    {
     "data": {
      "text/plain": [
       "4.999269608767693e6"
      ]
     },
     "metadata": {},
     "output_type": "display_data"
    }
   ],
   "source": [
    "sum_py(a)"
   ]
  },
  {
   "cell_type": "code",
   "execution_count": 30,
   "metadata": {
    "scrolled": false
   },
   "outputs": [
    {
     "data": {
      "text/plain": [
       "true"
      ]
     },
     "metadata": {},
     "output_type": "display_data"
    }
   ],
   "source": [
    "sum_py(a) ≈ sum(a)"
   ]
  },
  {
   "cell_type": "code",
   "execution_count": 31,
   "metadata": {
    "scrolled": true
   },
   "outputs": [
    {
     "data": {
      "text/plain": [
       "Dict{Any, Any} with 3 entries:\n",
       "  \"Python numpy\"        => 2.72977\n",
       "  \"Python hand-written\" => 617.443\n",
       "  \"Python built-in\"     => 531.623"
      ]
     },
     "metadata": {},
     "output_type": "display_data"
    }
   ],
   "source": [
    "d[\"Python hand-written\"] = minimum(py_hand.times) / 1e6\n",
    "d"
   ]
  },
  {
   "cell_type": "markdown",
   "metadata": {},
   "source": [
    "# 4. Julia (built-in) \n",
    "\n",
    "## Written directly in Julia, not in C!"
   ]
  },
  {
   "cell_type": "code",
   "execution_count": 32,
   "metadata": {
    "scrolled": false
   },
   "outputs": [
    {
     "data": {
      "text/html": [
       "sum(a::<b>AbstractArray</b>; <i>dims, kw...</i>) in Base at <a href=\"https://github.com/JuliaLang/julia/tree/bf534986350a991e4a1b29126de0342ffd76205e/base/reducedim.jl#L889\" target=\"_blank\">reducedim.jl:889</a>"
      ],
      "text/plain": [
       "sum(a::AbstractArray; dims, kw...) in Base at reducedim.jl:889"
      ]
     },
     "metadata": {},
     "output_type": "display_data"
    }
   ],
   "source": [
    "@which sum(a)"
   ]
  },
  {
   "cell_type": "code",
   "execution_count": 33,
   "metadata": {
    "scrolled": false
   },
   "outputs": [
    {
     "data": {
      "text/plain": [
       "BenchmarkTools.Trial: \n",
       "  memory estimate:  0 bytes\n",
       "  allocs estimate:  0\n",
       "  --------------\n",
       "  minimum time:     2.072 ms (0.00% GC)\n",
       "  median time:      2.228 ms (0.00% GC)\n",
       "  mean time:        2.250 ms (0.00% GC)\n",
       "  maximum time:     2.949 ms (0.00% GC)\n",
       "  --------------\n",
       "  samples:          2214\n",
       "  evals/sample:     1"
      ]
     },
     "metadata": {},
     "output_type": "display_data"
    }
   ],
   "source": [
    "j_bench = @benchmark sum($a)"
   ]
  },
  {
   "cell_type": "code",
   "execution_count": 34,
   "metadata": {
    "scrolled": true
   },
   "outputs": [
    {
     "data": {
      "text/plain": [
       "Dict{Any, Any} with 4 entries:\n",
       "  \"Python numpy\"        => 2.72977\n",
       "  \"Python hand-written\" => 617.443\n",
       "  \"Python built-in\"     => 531.623\n",
       "  \"Julia built-in\"      => 2.07188"
      ]
     },
     "metadata": {},
     "output_type": "display_data"
    }
   ],
   "source": [
    "d[\"Julia built-in\"] = minimum(j_bench.times) / 1e6\n",
    "d"
   ]
  },
  {
   "cell_type": "markdown",
   "metadata": {},
   "source": [
    "# 5. Julia (hand-written) "
   ]
  },
  {
   "cell_type": "code",
   "execution_count": 35,
   "metadata": {
    "scrolled": true
   },
   "outputs": [
    {
     "data": {
      "text/plain": [
       "mysum (generic function with 1 method)"
      ]
     },
     "metadata": {},
     "output_type": "display_data"
    }
   ],
   "source": [
    "function mysum(A)   \n",
    "    s = 0.0 # s = zero(eltype(a))\n",
    "    for a in A\n",
    "        s += a\n",
    "    end\n",
    "    s\n",
    "end"
   ]
  },
  {
   "cell_type": "code",
   "execution_count": 36,
   "metadata": {
    "scrolled": false
   },
   "outputs": [
    {
     "data": {
      "text/plain": [
       "BenchmarkTools.Trial: \n",
       "  memory estimate:  0 bytes\n",
       "  allocs estimate:  0\n",
       "  --------------\n",
       "  minimum time:     6.856 ms (0.00% GC)\n",
       "  median time:      6.924 ms (0.00% GC)\n",
       "  mean time:        6.934 ms (0.00% GC)\n",
       "  maximum time:     7.256 ms (0.00% GC)\n",
       "  --------------\n",
       "  samples:          721\n",
       "  evals/sample:     1"
      ]
     },
     "metadata": {},
     "output_type": "display_data"
    }
   ],
   "source": [
    "j_bench_hand = @benchmark mysum($a)"
   ]
  },
  {
   "cell_type": "code",
   "execution_count": 37,
   "metadata": {
    "scrolled": true
   },
   "outputs": [
    {
     "data": {
      "text/plain": [
       "Dict{Any, Any} with 5 entries:\n",
       "  \"Python numpy\"        => 2.72977\n",
       "  \"Julia hand-written\"  => 6.8555\n",
       "  \"Python hand-written\" => 617.443\n",
       "  \"Python built-in\"     => 531.623\n",
       "  \"Julia built-in\"      => 2.07188"
      ]
     },
     "metadata": {},
     "output_type": "display_data"
    }
   ],
   "source": [
    "d[\"Julia hand-written\"] = minimum(j_bench_hand.times) / 1e6\n",
    "d"
   ]
  },
  {
   "cell_type": "markdown",
   "metadata": {},
   "source": [
    "# 6. Julia (hand-written w. simd) "
   ]
  },
  {
   "cell_type": "code",
   "execution_count": 38,
   "metadata": {},
   "outputs": [
    {
     "data": {
      "text/plain": [
       "mysum_simd (generic function with 1 method)"
      ]
     },
     "metadata": {},
     "output_type": "display_data"
    }
   ],
   "source": [
    "function mysum_simd(A)   \n",
    "    s = 0.0 # s = zero(eltype(A))\n",
    "    @simd for a in A\n",
    "        s += a\n",
    "    end\n",
    "    s\n",
    "end"
   ]
  },
  {
   "cell_type": "code",
   "execution_count": 39,
   "metadata": {
    "scrolled": false
   },
   "outputs": [
    {
     "data": {
      "text/plain": [
       "BenchmarkTools.Trial: \n",
       "  memory estimate:  0 bytes\n",
       "  allocs estimate:  0\n",
       "  --------------\n",
       "  minimum time:     1.926 ms (0.00% GC)\n",
       "  median time:      2.103 ms (0.00% GC)\n",
       "  mean time:        2.135 ms (0.00% GC)\n",
       "  maximum time:     3.161 ms (0.00% GC)\n",
       "  --------------\n",
       "  samples:          2333\n",
       "  evals/sample:     1"
      ]
     },
     "metadata": {},
     "output_type": "display_data"
    }
   ],
   "source": [
    "j_bench_hand_simd = @benchmark mysum_simd($a)"
   ]
  },
  {
   "cell_type": "code",
   "execution_count": 40,
   "metadata": {},
   "outputs": [
    {
     "data": {
      "text/plain": [
       "4.999269608768217e6"
      ]
     },
     "metadata": {},
     "output_type": "display_data"
    }
   ],
   "source": [
    "mysum_simd(a)"
   ]
  },
  {
   "cell_type": "code",
   "execution_count": 41,
   "metadata": {
    "scrolled": true
   },
   "outputs": [
    {
     "data": {
      "text/plain": [
       "Dict{Any, Any} with 6 entries:\n",
       "  \"Julia hand-written simd\" => 1.92586\n",
       "  \"Python numpy\"            => 2.72977\n",
       "  \"Julia hand-written\"      => 6.8555\n",
       "  \"Python hand-written\"     => 617.443\n",
       "  \"Python built-in\"         => 531.623\n",
       "  \"Julia built-in\"          => 2.07188"
      ]
     },
     "metadata": {},
     "output_type": "display_data"
    }
   ],
   "source": [
    "d[\"Julia hand-written simd\"] = minimum(j_bench_hand_simd.times) / 1e6\n",
    "d"
   ]
  },
  {
   "cell_type": "code",
   "execution_count": null,
   "metadata": {},
   "outputs": [],
   "source": [
    "?@simd"
   ]
  },
  {
   "cell_type": "markdown",
   "metadata": {},
   "source": [
    "# Summary"
   ]
  },
  {
   "cell_type": "code",
   "execution_count": 42,
   "metadata": {
    "scrolled": false
   },
   "outputs": [
    {
     "name": "stdout",
     "output_type": "stream",
     "text": [
      "Julia hand-written simd.....1.9\n",
      "Julia built-in..............2.1\n",
      "Python numpy................2.7\n",
      "Julia hand-written..........6.9\n",
      "Python built-in...........531.6\n",
      "Python hand-written.......617.4\n"
     ]
    }
   ],
   "source": [
    "for (key, value) in sort(collect(d), by=last)\n",
    "    println(rpad(key, 25, \".\"), lpad(round(value; digits=1), 6, \".\"))\n",
    "end"
   ]
  },
  {
   "cell_type": "markdown",
   "metadata": {},
   "source": [
    "# 7. The C language\n",
    "C is often considered the gold standard: difficult on the human, nice for the machine. Getting within a factor of 2 of C is often satisfying. Nonetheless, even within C, there are many kinds of optimizations possible that a naive C writer may or may not get the advantage of."
   ]
  },
  {
   "cell_type": "code",
   "execution_count": 43,
   "metadata": {},
   "outputs": [
    {
     "data": {
      "text/plain": [
       "c_sum (generic function with 1 method)"
      ]
     },
     "metadata": {},
     "output_type": "display_data"
    }
   ],
   "source": [
    "using Libdl\n",
    "C_code = \"\"\"\n",
    "#include <stddef.h>\n",
    "double c_sum(size_t n, double *X) {\n",
    "    double s = 0.0;\n",
    "    for (size_t i = 0; i < n; ++i) {\n",
    "        s += X[i];\n",
    "    }\n",
    "    return s;\n",
    "}\n",
    "\"\"\"\n",
    "\n",
    "const Clib = tempname()   # make a temporary file\n",
    "\n",
    "\n",
    "# compile to a shared library by piping C_code to gcc\n",
    "# (works only if you have gcc installed):\n",
    "\n",
    "open(`gcc -fPIC -O3 -msse3 -xc -shared -o $(Clib * \".\" * Libdl.dlext) -`, \"w\") do f\n",
    "    print(f, C_code) \n",
    "end\n",
    "\n",
    "# define a Julia function that calls the C function:\n",
    "c_sum(X::Array{Float64}) = ccall((\"c_sum\", Clib), Float64, (Csize_t, Ptr{Float64}), length(X), X)"
   ]
  },
  {
   "cell_type": "code",
   "execution_count": 44,
   "metadata": {},
   "outputs": [
    {
     "data": {
      "text/plain": [
       "4.999269608767693e6"
      ]
     },
     "metadata": {},
     "output_type": "display_data"
    }
   ],
   "source": [
    "c_sum(a)"
   ]
  },
  {
   "cell_type": "code",
   "execution_count": 45,
   "metadata": {},
   "outputs": [
    {
     "data": {
      "text/plain": [
       "true"
      ]
     },
     "metadata": {},
     "output_type": "display_data"
    }
   ],
   "source": [
    "c_sum(a) ≈ sum(a) # type \\approx and then <TAB> to get the ≈ symbolb"
   ]
  },
  {
   "cell_type": "code",
   "execution_count": 46,
   "metadata": {},
   "outputs": [
    {
     "data": {
      "text/plain": [
       "-5.047768354415894e-7"
      ]
     },
     "metadata": {},
     "output_type": "display_data"
    }
   ],
   "source": [
    "c_sum(a) - sum(a)"
   ]
  },
  {
   "cell_type": "code",
   "execution_count": 47,
   "metadata": {},
   "outputs": [
    {
     "data": {
      "text/plain": [
       "BenchmarkTools.Trial: \n",
       "  memory estimate:  0 bytes\n",
       "  allocs estimate:  0\n",
       "  --------------\n",
       "  minimum time:     6.736 ms (0.00% GC)\n",
       "  median time:      6.814 ms (0.00% GC)\n",
       "  mean time:        6.861 ms (0.00% GC)\n",
       "  maximum time:     8.252 ms (0.00% GC)\n",
       "  --------------\n",
       "  samples:          728\n",
       "  evals/sample:     1"
      ]
     },
     "metadata": {},
     "output_type": "display_data"
    }
   ],
   "source": [
    "c_bench = @benchmark c_sum($a)"
   ]
  },
  {
   "cell_type": "code",
   "execution_count": 48,
   "metadata": {},
   "outputs": [
    {
     "name": "stdout",
     "output_type": "stream",
     "text": [
      "C: Fastest time was 6.736285 msec\n"
     ]
    }
   ],
   "source": [
    "println(\"C: Fastest time was $(minimum(c_bench.times) / 1e6) msec\")"
   ]
  },
  {
   "cell_type": "code",
   "execution_count": 49,
   "metadata": {},
   "outputs": [
    {
     "data": {
      "text/plain": [
       "Dict{Any, Any} with 7 entries:\n",
       "  \"Julia hand-written simd\" => 1.92586\n",
       "  \"Python numpy\"            => 2.72977\n",
       "  \"Julia hand-written\"      => 6.8555\n",
       "  \"C\"                       => 6.73628\n",
       "  \"Python hand-written\"     => 617.443\n",
       "  \"Python built-in\"         => 531.623\n",
       "  \"Julia built-in\"          => 2.07188"
      ]
     },
     "metadata": {},
     "output_type": "display_data"
    }
   ],
   "source": [
    "d[\"C\"] = minimum(c_bench.times) / 1e6  # in milliseconds\n",
    "d"
   ]
  },
  {
   "cell_type": "markdown",
   "metadata": {},
   "source": [
    "# 8. C with -ffast-math\n",
    "If we allow C to re-arrange the floating point operations, then it'll vectorize with SIMD (single instruction, multiple data) instructions."
   ]
  },
  {
   "cell_type": "code",
   "execution_count": 50,
   "metadata": {},
   "outputs": [
    {
     "data": {
      "text/plain": [
       "c_sum_fastmath (generic function with 1 method)"
      ]
     },
     "metadata": {},
     "output_type": "display_data"
    }
   ],
   "source": [
    "const Clib_fastmath = tempname()   # make a temporary file\n",
    "\n",
    "# The same as above but with a -ffast-math flag added\n",
    "open(`gcc -fPIC -O3 -msse3 -xc -shared -ffast-math -o $(Clib_fastmath * \".\" * Libdl.dlext) -`, \"w\") do f\n",
    "    print(f, C_code) \n",
    "end\n",
    "\n",
    "# define a Julia function that calls the C function:\n",
    "c_sum_fastmath(X::Array{Float64}) = ccall((\"c_sum\", Clib_fastmath), Float64, (Csize_t, Ptr{Float64}), length(X), X)"
   ]
  },
  {
   "cell_type": "code",
   "execution_count": 51,
   "metadata": {},
   "outputs": [
    {
     "data": {
      "text/plain": [
       "BenchmarkTools.Trial: \n",
       "  memory estimate:  0 bytes\n",
       "  allocs estimate:  0\n",
       "  --------------\n",
       "  minimum time:     3.698 ms (0.00% GC)\n",
       "  median time:      3.814 ms (0.00% GC)\n",
       "  mean time:        3.849 ms (0.00% GC)\n",
       "  maximum time:     5.692 ms (0.00% GC)\n",
       "  --------------\n",
       "  samples:          1297\n",
       "  evals/sample:     1"
      ]
     },
     "metadata": {},
     "output_type": "display_data"
    }
   ],
   "source": [
    "c_fastmath_bench = @benchmark $c_sum_fastmath($a)"
   ]
  },
  {
   "cell_type": "code",
   "execution_count": 52,
   "metadata": {},
   "outputs": [
    {
     "data": {
      "text/plain": [
       "3.697553"
      ]
     },
     "metadata": {},
     "output_type": "display_data"
    }
   ],
   "source": [
    "d[\"C -ffast-math\"] = minimum(c_fastmath_bench.times) / 1e6  # in milliseconds"
   ]
  },
  {
   "cell_type": "code",
   "execution_count": 53,
   "metadata": {},
   "outputs": [
    {
     "name": "stdout",
     "output_type": "stream",
     "text": [
      "Julia hand-written simd.....1.9\n",
      "Julia built-in..............2.1\n",
      "Python numpy................2.7\n",
      "C -ffast-math...............3.7\n",
      "C...........................6.7\n",
      "Julia hand-written..........6.9\n",
      "Python built-in...........531.6\n",
      "Python hand-written.......617.4\n"
     ]
    }
   ],
   "source": [
    "for (key, value) in sort(collect(d), by=last)\n",
    "    println(rpad(key, 25, \".\"), lpad(round(value; digits=1), 6, \".\"))\n",
    "end"
   ]
  },
  {
   "cell_type": "code",
   "execution_count": null,
   "metadata": {},
   "outputs": [],
   "source": []
  }
 ],
 "metadata": {
  "anaconda-cloud": {},
  "kernelspec": {
   "display_name": "Julia 1.7.2",
   "language": "julia",
   "name": "julia-1.7"
  },
  "language_info": {
   "file_extension": ".jl",
   "mimetype": "application/julia",
   "name": "julia",
   "version": "1.7.2"
  },
  "toc": {
   "colors": {
    "hover_highlight": "#DAA520",
    "running_highlight": "#FF0000",
    "selected_highlight": "#FFD700"
   },
   "moveMenuLeft": true,
   "nav_menu": {
    "height": "212px",
    "width": "252px"
   },
   "navigate_menu": true,
   "number_sections": true,
   "sideBar": true,
   "threshold": "2",
   "toc_cell": false,
   "toc_section_display": "block",
   "toc_window_display": false
  }
 },
 "nbformat": 4,
 "nbformat_minor": 2
}
